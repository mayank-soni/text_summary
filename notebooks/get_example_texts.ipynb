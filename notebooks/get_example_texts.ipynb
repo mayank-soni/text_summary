{
 "cells": [
  {
   "cell_type": "code",
   "execution_count": 1,
   "metadata": {},
   "outputs": [
    {
     "data": {
      "text/plain": [
       "'\\nWhich 2 celebrities were in the delivery room with Zoe Tay when she was giving birth to her first child?\\nAh Jie told Rebecca Lim in the series, With Love, Becks, that her husband, Philip Chionh, couldn’t make it in time so she needed to call for reinforcements. \\nn the last episode of Rebecca Lim’s series, With Love, Becks, she had none other than Ah Jie Zoe Tay herself on the show.\\nWith Rebecca about to tie the knot soon with fiance Matthew Webster, it’s no surprise the conversation turned to the topic of children – which led to an interesting revelation by Zoe.\\nThe 54-year-old actress revealed that when she went into labour with her first child, Brayden, now 17, her husband Philip Chionh wasn’t able to make it to her in time, so she needed to call for backup.\\nEnter her two friends – and fellow celebrities – Hong Huifang and Pan Lingling, who accompanied her in the delivery room.\\n“They were in the delivery room holding my hand. I had an IV drip in one hand, and Huifang-jie was holding on to my other hand, telling me to ‘Press on, push’,\" Zoe said, gripping Rebecca’s hand firmly to demonstrate.\\nZoe added that she was screaming in pain; it turned out that Huifang was pressing down on a nerve in her hand. “Everything was hurting,” she said. “I was going insane.”\\nWhen asked by Rebecca which role she found most challenging – a wife, a mother or a daughter – Zoe said “mother” without hesitation, because, as she admitted, she didn’t know how to raise a child. \\nDuring their chat, Rebecca also shared that she was looking forward to having a happy family of her own and that she would try for a child as soon as she could. \\nWatch the episode here. \\n'"
      ]
     },
     "execution_count": 1,
     "metadata": {},
     "output_type": "execute_result"
    }
   ],
   "source": [
    "articles = []\n",
    "article1 = '''\n",
    "COE prices close mixed, premiums for small cars cross S$90,000 mark\n",
    "SINGAPORE: Certificate of Entitlement (COE) premiums closed mixed in the latest bidding exercise on Wednesday (Nov 23), with Category A reaching a near 10-year high.\n",
    "For Category A cars, or those 1,600cc and below with horsepower not exceeding 130bhp, premiums closed at S$90,589, up from S$87,235 in the last exercise.\n",
    "This is the first time premiums for the category have exceeded the S$90,000 mark since January 2013, when it reached S$92,100. \n",
    "COEs for commercial vehicles, which include goods vehicles and buses, rose to S$81,802 from S$76,302 in the previous bidding exercise.\n",
    "The remaining categories, which reached record highs in the last bidding, saw decreases this round.\n",
    "Premiums for larger and more powerful cars in Category B fell to S$113,881 from an all-time high of S$115,388 in the previous round.\n",
    "Motorcycle premiums closed at S$12,589, a decrease from S$13,189 in the last exercise. This also breaks an upward trend that started on May 19, which saw 12 consecutive increases.\n",
    "Open category COEs, which can be used for any vehicle type but end up being used mainly for large cars, fell to S$114,009 from S$116,577, an all-time high for the category.\n",
    "A total of 2,148 bids were received, with a quota of 1,543 COEs available.\n",
    "'''\n",
    "\n",
    "article2 = '''\n",
    "FTX collapse: Why do firms invest in early stage companies in emerging sectors?\n",
    "There is a need to balance risk and returns when deciding to invest in early stage companies in high-risk sectors such as cryptocurrencies, say analysts.\n",
    "SINGAPORE: When it comes to investing in early stage companies, there are no high returns without the high risks involved, analysts told CNA after the collapse of cryptocurrency exchange FTX.\n",
    "FTX started bankruptcy proceedings in the United States on Nov 11, with founder and chief executive officer Sam Bankman-Fried resigning his post. \n",
    "The cryptocurrency exchange owes its 50 biggest creditors nearly US$3.1 billion (S$4.28 billion). About 1 million customers and investors were left in a lurch, including Singapore state investment firm Temasek, which said it would write down its US$275 million investment, Tiger Global Management and the Ontario Teachers’ Pension Plan, which also wrote off its investment.\n",
    "INHERENT OR SYSTEMATIC RISKS\n",
    "“As with all investments, risks are inherent,” said Professor Lawrence Loh, director of National University of Singapore (NUS) Business School’s Centre for Governance and Sustainability.\n",
    "“Investing entities may need to get their feet wet in early stage companies to better understand the market trends and platform technologies – digital assets represent a most complex setting where there may be potential for game-changing innovations to drive economies and businesses.\"\n",
    "Economist Walter Theseira, an associate professor at the Singapore University of Social Sciences, told CNA that “there are no high returns without high risks in early stage investing”.\n",
    "“Up till the collapse of FTX and other cryptocurrency firms, the question that would have been posed to Temasek, if they had never invested, would have been: 'Why aren't you investing in this high return space?'\n",
    "\"With the benefit of hindsight, the question is now: 'Why did you invest in this high-risk space?'\"\n",
    "Assoc Prof Theseira added that these are essentially the same question – investment managers are criticised for missing out on potentially high returns when no investment is made, and for taking high risks if an investment fails.\n",
    "These managers have a mandate to seek investment opportunities that fit a particular risk and potential return profile. Many of them would have included cryptocurrency and other emerging financial innovation companies in their mandate as high-risk, high-potential return opportunities.\n",
    "“An investment manager with such a mandate would actually require a strong reason not to invest in cryptocurrency related companies, simply because of the immense amount of investment activity in that space,” he said.\n",
    "Assoc Prof Theseira pointed to the two types of risk involved - idiosyncratic risk, meaning the risk specific to a particular company or investment, and systematic risk, meaning the risk that is general to the entire category of investments.\n",
    "“Idiosyncratic risk is high because in general, crypto firms have been founded and run by persons with relatively little established track record,” he said, noting that FTX is a good example of this.\n",
    "Systematic risk is also high, as the technology itself has no established profitable use case yet beyond financial speculation, explained Assoc Prof Theseira.\n",
    "“Even if crypto technology does have a profitable use case, it's also by no means certain that the profit will justify the current scale of investments, so that is the other element of systematic risk; you might not lose your investment, but you might get a much lower return than you were hoping for,\" he added.\n",
    "\"ACTING APPROPRIATELY IN INVESTING\"\n",
    "Despite the FTX fiasco, there are still merits in investing in early stage companies in the digital token ecosystem, said Prof Loh.\n",
    "He added that investing in such spaces may not be for everyone, particularly retail investors. But ignoring them entirely may be \"regressive\".\n",
    "“You win some and you may lose some in any portfolio of investments – in the overall scheme of things, we have to see the broader performances,” he said.\n",
    "\"It will take more than an FTX fiasco to write off the need to invest in early stage companies that advance the digital token ecosystem including cryptocurrencies,\" he added.\n",
    "Large investment firms need to invest in every major emerging investment asset class that is available, pointed out Assoc Prof Theseira.\n",
    "This is because it is necessary to diversify the investment portfolio and also to have exposure to emerging categories which could be important. \n",
    "“I think the FTX debacle doesn't change the underlying question: Is it riskier to invest in the cryptocurrency space, or is it riskier to stay out of it?” he asked.\n",
    "“Not looking into such investments means accepting the risk of staying out, which is that your portfolio could miss out on a potentially high return, transformative industry.”\n",
    "REDUCING RISKS\n",
    "According to Prof Loh, good governance and full due diligence continue to be the bedrock for investment decisions – more so for volatile and unregulated spaces associated with digital tokens like cryptocurrencies.\n",
    "“Institutional investors should have the capabilities and resources to perform such governance and diligence functions,” he said, adding that the cryptoeconomy is currently in a \"state of flux\" after recent high-profile controversies.\n",
    "“It will take some time for the dust to settle – a progressive and rational approach in regulation especially across borders will help to stabilise the situation so that we can focus on the innovations and benefits and not be saddled with the hiccups.”\n",
    "Assoc Prof Theseira said that one can attempt to reduce idiosyncratic risk through due diligence. \n",
    "However, if the space is \"full of high-risk firms\" because there are few founders with established track records, and if management practices are generally questionable because the practice of most founders is to operate with little controls, there is little one can do.\n",
    "“But when you have a popular crypto platform like FTX, with a distinguished list of early stage investors, and which has a good narrative around it, it's easy to ignore the concerns you have about high idiosyncratic risk,\" he said.\n",
    "“In the end, the only way to avoid all risk is to simply not invest at all, which also means assuming the risk that your funds will be eroded by inflation steadily. The trick really is to get onto the frontier of balancing risk and return,” he added.\n",
    "'''\n",
    "\n",
    "article3 = '''\n",
    "Which 2 celebrities were in the delivery room with Zoe Tay when she was giving birth to her first child?\n",
    "Ah Jie told Rebecca Lim in the series, With Love, Becks, that her husband, Philip Chionh, couldn’t make it in time so she needed to call for reinforcements. \n",
    "n the last episode of Rebecca Lim’s series, With Love, Becks, she had none other than Ah Jie Zoe Tay herself on the show.\n",
    "With Rebecca about to tie the knot soon with fiance Matthew Webster, it’s no surprise the conversation turned to the topic of children – which led to an interesting revelation by Zoe.\n",
    "The 54-year-old actress revealed that when she went into labour with her first child, Brayden, now 17, her husband Philip Chionh wasn’t able to make it to her in time, so she needed to call for backup.\n",
    "Enter her two friends – and fellow celebrities – Hong Huifang and Pan Lingling, who accompanied her in the delivery room.\n",
    "“They were in the delivery room holding my hand. I had an IV drip in one hand, and Huifang-jie was holding on to my other hand, telling me to ‘Press on, push’,\" Zoe said, gripping Rebecca’s hand firmly to demonstrate.\n",
    "Zoe added that she was screaming in pain; it turned out that Huifang was pressing down on a nerve in her hand. “Everything was hurting,” she said. “I was going insane.”\n",
    "When asked by Rebecca which role she found most challenging – a wife, a mother or a daughter – Zoe said “mother” without hesitation, because, as she admitted, she didn’t know how to raise a child. \n",
    "During their chat, Rebecca also shared that she was looking forward to having a happy family of her own and that she would try for a child as soon as she could. \n",
    "Watch the episode here. \n",
    "'''"
   ]
  },
  {
   "cell_type": "code",
   "execution_count": 2,
   "metadata": {},
   "outputs": [
    {
     "data": {
      "text/plain": [
       "['\\nCOE prices close mixed, premiums for small cars cross S$90,000 mark\\nSINGAPORE: Certificate of Entitlement (COE) premiums closed mixed in the latest bidding exercise on Wednesday (Nov 23), with Category A reaching a near 10-year high.\\nFor Category A cars, or those 1,600cc and below with horsepower not exceeding 130bhp, premiums closed at S$90,589, up from S$87,235 in the last exercise.\\nThis is the first time premiums for the category have exceeded the S$90,000 mark since January 2013, when it reached S$92,100. \\nCOEs for commercial vehicles, which include goods vehicles and buses, rose to S$81,802 from S$76,302 in the previous bidding exercise.\\nThe remaining categories, which reached record highs in the last bidding, saw decreases this round.\\nPremiums for larger and more powerful cars in Category B fell to S$113,881 from an all-time high of S$115,388 in the previous round.\\nMotorcycle premiums closed at S$12,589, a decrease from S$13,189 in the last exercise. This also breaks an upward trend that started on May 19, which saw 12 consecutive increases.\\nOpen category COEs, which can be used for any vehicle type but end up being used mainly for large cars, fell to S$114,009 from S$116,577, an all-time high for the category.\\nA total of 2,148 bids were received, with a quota of 1,543 COEs available.\\n',\n",
       " '\\nFTX collapse: Why do firms invest in early stage companies in emerging sectors?\\nThere is a need to balance risk and returns when deciding to invest in early stage companies in high-risk sectors such as cryptocurrencies, say analysts.\\nSINGAPORE: When it comes to investing in early stage companies, there are no high returns without the high risks involved, analysts told CNA after the collapse of cryptocurrency exchange FTX.\\nFTX started bankruptcy proceedings in the United States on Nov 11, with founder and chief executive officer Sam Bankman-Fried resigning his post. \\nThe cryptocurrency exchange owes its 50 biggest creditors nearly US$3.1 billion (S$4.28 billion). About 1 million customers and investors were left in a lurch, including Singapore state investment firm Temasek, which said it would write down its US$275 million investment, Tiger Global Management and the Ontario Teachers’ Pension Plan, which also wrote off its investment.\\nINHERENT OR SYSTEMATIC RISKS\\n“As with all investments, risks are inherent,” said Professor Lawrence Loh, director of National University of Singapore (NUS) Business School’s Centre for Governance and Sustainability.\\n“Investing entities may need to get their feet wet in early stage companies to better understand the market trends and platform technologies – digital assets represent a most complex setting where there may be potential for game-changing innovations to drive economies and businesses.\"\\nEconomist Walter Theseira, an associate professor at the Singapore University of Social Sciences, told CNA that “there are no high returns without high risks in early stage investing”.\\n“Up till the collapse of FTX and other cryptocurrency firms, the question that would have been posed to Temasek, if they had never invested, would have been: \\'Why aren\\'t you investing in this high return space?\\'\\n\"With the benefit of hindsight, the question is now: \\'Why did you invest in this high-risk space?\\'\"\\nAssoc Prof Theseira added that these are essentially the same question – investment managers are criticised for missing out on potentially high returns when no investment is made, and for taking high risks if an investment fails.\\nThese managers have a mandate to seek investment opportunities that fit a particular risk and potential return profile. Many of them would have included cryptocurrency and other emerging financial innovation companies in their mandate as high-risk, high-potential return opportunities.\\n“An investment manager with such a mandate would actually require a strong reason not to invest in cryptocurrency related companies, simply because of the immense amount of investment activity in that space,” he said.\\nAssoc Prof Theseira pointed to the two types of risk involved - idiosyncratic risk, meaning the risk specific to a particular company or investment, and systematic risk, meaning the risk that is general to the entire category of investments.\\n“Idiosyncratic risk is high because in general, crypto firms have been founded and run by persons with relatively little established track record,” he said, noting that FTX is a good example of this.\\nSystematic risk is also high, as the technology itself has no established profitable use case yet beyond financial speculation, explained Assoc Prof Theseira.\\n“Even if crypto technology does have a profitable use case, it\\'s also by no means certain that the profit will justify the current scale of investments, so that is the other element of systematic risk; you might not lose your investment, but you might get a much lower return than you were hoping for,\" he added.\\n\"ACTING APPROPRIATELY IN INVESTING\"\\nDespite the FTX fiasco, there are still merits in investing in early stage companies in the digital token ecosystem, said Prof Loh.\\nHe added that investing in such spaces may not be for everyone, particularly retail investors. But ignoring them entirely may be \"regressive\".\\n“You win some and you may lose some in any portfolio of investments – in the overall scheme of things, we have to see the broader performances,” he said.\\n\"It will take more than an FTX fiasco to write off the need to invest in early stage companies that advance the digital token ecosystem including cryptocurrencies,\" he added.\\nLarge investment firms need to invest in every major emerging investment asset class that is available, pointed out Assoc Prof Theseira.\\nThis is because it is necessary to diversify the investment portfolio and also to have exposure to emerging categories which could be important. \\n“I think the FTX debacle doesn\\'t change the underlying question: Is it riskier to invest in the cryptocurrency space, or is it riskier to stay out of it?” he asked.\\n“Not looking into such investments means accepting the risk of staying out, which is that your portfolio could miss out on a potentially high return, transformative industry.”\\nREDUCING RISKS\\nAccording to Prof Loh, good governance and full due diligence continue to be the bedrock for investment decisions – more so for volatile and unregulated spaces associated with digital tokens like cryptocurrencies.\\n“Institutional investors should have the capabilities and resources to perform such governance and diligence functions,” he said, adding that the cryptoeconomy is currently in a \"state of flux\" after recent high-profile controversies.\\n“It will take some time for the dust to settle – a progressive and rational approach in regulation especially across borders will help to stabilise the situation so that we can focus on the innovations and benefits and not be saddled with the hiccups.”\\nAssoc Prof Theseira said that one can attempt to reduce idiosyncratic risk through due diligence. \\nHowever, if the space is \"full of high-risk firms\" because there are few founders with established track records, and if management practices are generally questionable because the practice of most founders is to operate with little controls, there is little one can do.\\n“But when you have a popular crypto platform like FTX, with a distinguished list of early stage investors, and which has a good narrative around it, it\\'s easy to ignore the concerns you have about high idiosyncratic risk,\" he said.\\n“In the end, the only way to avoid all risk is to simply not invest at all, which also means assuming the risk that your funds will be eroded by inflation steadily. The trick really is to get onto the frontier of balancing risk and return,” he added.\\n',\n",
       " '\\nWhich 2 celebrities were in the delivery room with Zoe Tay when she was giving birth to her first child?\\nAh Jie told Rebecca Lim in the series, With Love, Becks, that her husband, Philip Chionh, couldn’t make it in time so she needed to call for reinforcements. \\nn the last episode of Rebecca Lim’s series, With Love, Becks, she had none other than Ah Jie Zoe Tay herself on the show.\\nWith Rebecca about to tie the knot soon with fiance Matthew Webster, it’s no surprise the conversation turned to the topic of children – which led to an interesting revelation by Zoe.\\nThe 54-year-old actress revealed that when she went into labour with her first child, Brayden, now 17, her husband Philip Chionh wasn’t able to make it to her in time, so she needed to call for backup.\\nEnter her two friends – and fellow celebrities – Hong Huifang and Pan Lingling, who accompanied her in the delivery room.\\n“They were in the delivery room holding my hand. I had an IV drip in one hand, and Huifang-jie was holding on to my other hand, telling me to ‘Press on, push’,\" Zoe said, gripping Rebecca’s hand firmly to demonstrate.\\nZoe added that she was screaming in pain; it turned out that Huifang was pressing down on a nerve in her hand. “Everything was hurting,” she said. “I was going insane.”\\nWhen asked by Rebecca which role she found most challenging – a wife, a mother or a daughter – Zoe said “mother” without hesitation, because, as she admitted, she didn’t know how to raise a child. \\nDuring their chat, Rebecca also shared that she was looking forward to having a happy family of her own and that she would try for a child as soon as she could. \\nWatch the episode here. \\n']"
      ]
     },
     "execution_count": 2,
     "metadata": {},
     "output_type": "execute_result"
    }
   ],
   "source": [
    "articles = [article1, article2, article3]"
   ]
  },
  {
   "cell_type": "code",
   "execution_count": null,
   "metadata": {},
   "outputs": [],
   "source": []
  }
 ],
 "metadata": {
  "kernelspec": {
   "display_name": "Python 3.8.12 64-bit ('shims')",
   "language": "python",
   "name": "python3"
  },
  "language_info": {
   "codemirror_mode": {
    "name": "ipython",
    "version": 3
   },
   "file_extension": ".py",
   "mimetype": "text/x-python",
   "name": "python",
   "nbconvert_exporter": "python",
   "pygments_lexer": "ipython3",
   "version": "3.8.12"
  },
  "orig_nbformat": 4,
  "vscode": {
   "interpreter": {
    "hash": "642ad6e38db6d6281bd281f8386d6d1f724b329777e1ec02220fdb8e47ae12d3"
   }
  }
 },
 "nbformat": 4,
 "nbformat_minor": 2
}
