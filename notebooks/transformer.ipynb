{
 "cells": [
  {
   "cell_type": "code",
   "execution_count": 2,
   "metadata": {},
   "outputs": [
    {
     "name": "stderr",
     "output_type": "stream",
     "text": [
      "No model was supplied, defaulted to t5-small and revision d769bba (https://huggingface.co/t5-small).\n",
      "Using a pipeline without specifying a model name and revision in production is not recommended.\n",
      "Downloading: 100%|██████████| 242M/242M [00:05<00:00, 45.8MB/s] \n",
      "All model checkpoint layers were used when initializing TFT5ForConditionalGeneration.\n",
      "\n",
      "All the layers of TFT5ForConditionalGeneration were initialized from the model checkpoint at t5-small.\n",
      "If your task is similar to the task the model of the checkpoint was trained on, you can already use TFT5ForConditionalGeneration for predictions without further training.\n",
      "Downloading: 100%|██████████| 792k/792k [00:01<00:00, 507kB/s]  \n",
      "Downloading: 100%|██████████| 1.39M/1.39M [00:01<00:00, 926kB/s] \n",
      "/home/mayank-soni/.pyenv/versions/3.8.12/envs/text_summary/lib/python3.8/site-packages/transformers/models/t5/tokenization_t5_fast.py:156: FutureWarning: This tokenizer was incorrectly instantiated with a model max length of 512 which will be corrected in Transformers v5.\n",
      "For now, this behavior is kept to avoid breaking backwards compatibility when padding/encoding with `truncation is True`.\n",
      "- Be aware that you SHOULD NOT rely on t5-small automatically truncating your input to 512 when padding/encoding.\n",
      "- If you want to encode/pad to sequences longer than 512 you can either instantiate this tokenizer with `model_max_length` or pass `max_length` when encoding/padding.\n",
      "- To avoid this warning, please instantiate this tokenizer with `model_max_length` set to your preferred value.\n",
      "  warnings.warn(\n",
      "Your max_length is set to 200, but you input_length is only 20. You might consider decreasing max_length manually, e.g. summarizer('...', max_length=10)\n",
      "2022-11-23 13:18:35.599194: I tensorflow/compiler/xla/service/service.cc:170] XLA service 0x55d91f302400 initialized for platform Host (this does not guarantee that XLA will be used). Devices:\n",
      "2022-11-23 13:18:35.599272: I tensorflow/compiler/xla/service/service.cc:178]   StreamExecutor device (0): Host, Default Version\n",
      "2022-11-23 13:18:35.608285: I tensorflow/compiler/mlir/tensorflow/utils/dump_mlir_util.cc:263] disabling MLIR crash reproducer, set env var `MLIR_CRASH_REPRODUCER_DIRECTORY` to enable.\n",
      "2022-11-23 13:18:35.643408: I tensorflow/compiler/jit/xla_compilation_cache.cc:478] Compiled cluster using XLA!  This line is logged at most once for the lifetime of the process.\n"
     ]
    },
    {
     "data": {
      "text/plain": [
       "[{'summary_text': \"i've been waiting for a HuggingFace course my whole life . the course is a great way to get to know me .\"}]"
      ]
     },
     "execution_count": 2,
     "metadata": {},
     "output_type": "execute_result"
    }
   ],
   "source": [
    "from transformers import pipeline\n",
    "\n",
    "summariser = pipeline(\"summarization\")"
   ]
  },
  {
   "cell_type": "code",
   "execution_count": 5,
   "metadata": {},
   "outputs": [
    {
     "data": {
      "text/plain": [
       "'SINGAPORE: Singapore\\'s core inflation eased slightly to 5.1 per cent in October, driven by smaller increases in electricity and gas prices, retail, as well as other goods and service, official data showed on Wednesday (Nov 23).\\nThis is lower than the 5.3 per cent reported in September. It is the first time core inflation has eased since February.\\nCore inflation excludes accommodation and private transport costs. \\nThe headline consumer price index, or overall inflation, was 6.7 per cent year-on-year in October, lower than the 7.5 per cent in the previous month as private transport inflation eased, alongside the moderation in core inflation\\n\"Core Inflation is projected to stay elevated in the next few quarters before slowing more discernibly in H2 2023 as the current tightness in the domestic labour market eases and global inflation moderates,\" said the Monetary Authority of Singapore (MAS) and the Ministry of Trade and Industry (MTI). \\nFor 2022 as a whole, overall inflation is expected to average about 6 per cent and core inflation about 4 per cent. \\nIn their outlook, the authorities said the demand conditions in major economies have softened while supply chain frictions have continued to ease. \\n\"Prices of energy and food commodities have come off the peaks reached earlier in the year, but remain high given ongoing supply constraints.\"\\nAdditionally, labour markets in major advanced economies are still tight, keeping wage pressures strong. Singapore’s imported inflation across a range of goods and services is expected to remain significant for some time.\\nOn the domestic front, unit labour costs will increase further in the near term alongside robust wage growth. At the same time, the cost of utilities is likely to remain elevated, said MTI and MAS. \\nFirms are expected to continue to pass through accumulated import, labour and other business costs to consumer prices amid resilient demand.\\nCar and accommodation cost increases are also anticipated to stay firm in the quarters ahead amid tight COE quotas for cars and strong demand for rental housing, respectively.\\nIn 2023, taking into account all factors including the increase for the Goods and Services Tax, the authorities said Singapore\\'s headline and core inflation are projected to average 5.5 per cent to 6.5 per cent and 3.5 per cent and 4.5 per cent respectively. \\n\"Excluding the transitory effects of the GST hike, headline and core inflation are expected to come in at 4.5 to 5.5 per cent and 2.5 to 3.5 per cent, respectively.\"\\nMAS and MTI added that there are upside risks to the inflation outlook, including from fresh shocks to global commodity prices and more persistent-than-expected external inflation.\\n'"
      ]
     },
     "execution_count": 5,
     "metadata": {},
     "output_type": "execute_result"
    }
   ],
   "source": [
    "article = '''SINGAPORE: Singapore's core inflation eased slightly to 5.1 per cent in October, driven by smaller increases in electricity and gas prices, retail, as well as other goods and service, official data showed on Wednesday (Nov 23).\n",
    "This is lower than the 5.3 per cent reported in September. It is the first time core inflation has eased since February.\n",
    "Core inflation excludes accommodation and private transport costs. \n",
    "The headline consumer price index, or overall inflation, was 6.7 per cent year-on-year in October, lower than the 7.5 per cent in the previous month as private transport inflation eased, alongside the moderation in core inflation\n",
    "\"Core Inflation is projected to stay elevated in the next few quarters before slowing more discernibly in H2 2023 as the current tightness in the domestic labour market eases and global inflation moderates,\" said the Monetary Authority of Singapore (MAS) and the Ministry of Trade and Industry (MTI). \n",
    "For 2022 as a whole, overall inflation is expected to average about 6 per cent and core inflation about 4 per cent. \n",
    "In their outlook, the authorities said the demand conditions in major economies have softened while supply chain frictions have continued to ease. \n",
    "\"Prices of energy and food commodities have come off the peaks reached earlier in the year, but remain high given ongoing supply constraints.\"\n",
    "Additionally, labour markets in major advanced economies are still tight, keeping wage pressures strong. Singapore’s imported inflation across a range of goods and services is expected to remain significant for some time.\n",
    "On the domestic front, unit labour costs will increase further in the near term alongside robust wage growth. At the same time, the cost of utilities is likely to remain elevated, said MTI and MAS. \n",
    "Firms are expected to continue to pass through accumulated import, labour and other business costs to consumer prices amid resilient demand.\n",
    "Car and accommodation cost increases are also anticipated to stay firm in the quarters ahead amid tight COE quotas for cars and strong demand for rental housing, respectively.\n",
    "In 2023, taking into account all factors including the increase for the Goods and Services Tax, the authorities said Singapore's headline and core inflation are projected to average 5.5 per cent to 6.5 per cent and 3.5 per cent and 4.5 per cent respectively. \n",
    "\"Excluding the transitory effects of the GST hike, headline and core inflation are expected to come in at 4.5 to 5.5 per cent and 2.5 to 3.5 per cent, respectively.\"\n",
    "MAS and MTI added that there are upside risks to the inflation outlook, including from fresh shocks to global commodity prices and more persistent-than-expected external inflation.\n",
    "'''"
   ]
  },
  {
   "cell_type": "code",
   "execution_count": 8,
   "metadata": {},
   "outputs": [
    {
     "data": {
      "text/plain": [
       "'\\n\"SINGAPORE: For the seventh consecutive year, 98.4 per cent of Primary 6 students who sat for the Primary School Leaving Examination (PSLE) made it to secondary school. This is the second cohort of students under the new Achievement Level (AL) scoring system.\\nThe PSLE results were released from 11am on Wednesday (Nov 23). \\nA total of 37,095 Primary 6 students sat for the PSLE this year, with 98.4 per cent eligible to enter secondary school, said the Ministry of Education (MOE) and the Singapore Examinations and Assessment Board (SEAB) in a joint press release on Wednesday.\\nStudents eligible for the Express course made up 68.4 per cent of the cohort, with 18.7 per cent for the Normal (Academic) course and 11.3 per cent for the Normal (Technical) course. \\nUnder the AL system, Primary 6 students will receive ALs of 1 to 8 for each of their four subjects, with 1 being the best score and 8, the lowest. Their overall score will be the sum of these ALs. Students with a PSLE score between 4 and 20 are eligible for the Express course. Students who receive a score of 21 or 22 are offered an option between the Express course and Normal (Academic) course, while those with scores of 23 or 24 are eligible for the Normal (Academic) course. \\nUnder the subject-based banding, students in Normal (Academic) and Normal (Technical) courses will also be able to take certain subjects at a more demanding level from Secondary 1 based on their AL scores for individual PSLE subjects.\\nThis year, about 62 per cent of students who qualified for the Normal courses are assessed to be suitable to take a least one subject at a more demanding level as they progress to secondary school.\\nCandidates who did not qualify for entry to secondary school can choose to retake the PSLE next year, said MOE and SEAB, adding that they can also apply to Assumption Pathway School and Northlight School with a recommendation from their primary school principal.\\nBoth schools offer customised programmes with a more \"experiential and hands-on learning\" approach.\\nSECONDARY 1 POSTING EXERCISE\\nThe Secondary 1 (S1) option form to select secondary schools will be given to eligible students together with their PSLE results. \\nA unique S1 personal identification number (S1 PIN) can be found on the top-right corner of the S1 option form. \\nStudents should use the S1 PIN to log in to the Secondary 1 Internet System (S1-IS). They can download a copy of the S1 option form and submit their school choices online. \\nThe S1-IS will be accessible from 11.30am on Nov 23 to 3pm on Nov 29 via MOE\\'s S1 Posting website. \\n\"When choosing a secondary school that would be a good fit for the student\\'s overall educational needs, strengths and interests, students and parents are encouraged to consider a holistic range of factors,\" said MOE and SEAB. \\n\"This includes the school\\'s distinctive programmes, subject offerings, Co-Curricular Activities (CCAs), ethos, culture, location and support for Special Educational Needs, if required,\" they added. \\nSECONDARY 1 POSTING RESULTS\\nThe posting results will be released between Dec 21 and Dec 23. The posting results can be accessed through any of the following channels:\\nShort Message Service (SMS)\\nS1-IS using the student\\'s birth certificate number/FIN and the S1 PIN\\nThe student\\'s primary school \\nStudents do not need to report to their posted secondary schools upon receiving their posting results. \\nThey should instead refer to their posted schools’ websites for more information such as the reporting details, booklist, and the purchase of books and uniforms.\\nParents of the incoming cohort who are on Parents Gateway will also receive instructions from the posted schools from the afternoon the posting results are released.\\nIf students are unable to report to their posted secondary school on the first day of school in Jan 2023 due to valid reasons, they should inform their posted secondary school directly after receiving their results to confirm that they are taking up the place.\\nMore information on S1 Posting and S1-IS is available at MOE’s S1 Posting website. For enquiries, parents can also visit www.moe.gov.sg/contact.\"\\n'"
      ]
     },
     "execution_count": 8,
     "metadata": {},
     "output_type": "execute_result"
    }
   ],
   "source": [
    "article2 = '''\n",
    "\"SINGAPORE: For the seventh consecutive year, 98.4 per cent of Primary 6 students who sat for the Primary School Leaving Examination (PSLE) made it to secondary school. This is the second cohort of students under the new Achievement Level (AL) scoring system.\n",
    "The PSLE results were released from 11am on Wednesday (Nov 23). \n",
    "A total of 37,095 Primary 6 students sat for the PSLE this year, with 98.4 per cent eligible to enter secondary school, said the Ministry of Education (MOE) and the Singapore Examinations and Assessment Board (SEAB) in a joint press release on Wednesday.\n",
    "Students eligible for the Express course made up 68.4 per cent of the cohort, with 18.7 per cent for the Normal (Academic) course and 11.3 per cent for the Normal (Technical) course. \n",
    "Under the AL system, Primary 6 students will receive ALs of 1 to 8 for each of their four subjects, with 1 being the best score and 8, the lowest. Their overall score will be the sum of these ALs. Students with a PSLE score between 4 and 20 are eligible for the Express course. Students who receive a score of 21 or 22 are offered an option between the Express course and Normal (Academic) course, while those with scores of 23 or 24 are eligible for the Normal (Academic) course. \n",
    "Under the subject-based banding, students in Normal (Academic) and Normal (Technical) courses will also be able to take certain subjects at a more demanding level from Secondary 1 based on their AL scores for individual PSLE subjects.\n",
    "This year, about 62 per cent of students who qualified for the Normal courses are assessed to be suitable to take a least one subject at a more demanding level as they progress to secondary school.\n",
    "Candidates who did not qualify for entry to secondary school can choose to retake the PSLE next year, said MOE and SEAB, adding that they can also apply to Assumption Pathway School and Northlight School with a recommendation from their primary school principal.\n",
    "Both schools offer customised programmes with a more \"experiential and hands-on learning\" approach.\n",
    "SECONDARY 1 POSTING EXERCISE\n",
    "The Secondary 1 (S1) option form to select secondary schools will be given to eligible students together with their PSLE results. \n",
    "A unique S1 personal identification number (S1 PIN) can be found on the top-right corner of the S1 option form. \n",
    "Students should use the S1 PIN to log in to the Secondary 1 Internet System (S1-IS). They can download a copy of the S1 option form and submit their school choices online. \n",
    "The S1-IS will be accessible from 11.30am on Nov 23 to 3pm on Nov 29 via MOE's S1 Posting website. \n",
    "\"When choosing a secondary school that would be a good fit for the student's overall educational needs, strengths and interests, students and parents are encouraged to consider a holistic range of factors,\" said MOE and SEAB. \n",
    "\"This includes the school's distinctive programmes, subject offerings, Co-Curricular Activities (CCAs), ethos, culture, location and support for Special Educational Needs, if required,\" they added. \n",
    "SECONDARY 1 POSTING RESULTS\n",
    "The posting results will be released between Dec 21 and Dec 23. The posting results can be accessed through any of the following channels:\n",
    "Short Message Service (SMS)\n",
    "S1-IS using the student's birth certificate number/FIN and the S1 PIN\n",
    "The student's primary school \n",
    "Students do not need to report to their posted secondary schools upon receiving their posting results. \n",
    "They should instead refer to their posted schools’ websites for more information such as the reporting details, booklist, and the purchase of books and uniforms.\n",
    "Parents of the incoming cohort who are on Parents Gateway will also receive instructions from the posted schools from the afternoon the posting results are released.\n",
    "If students are unable to report to their posted secondary school on the first day of school in Jan 2023 due to valid reasons, they should inform their posted secondary school directly after receiving their results to confirm that they are taking up the place.\n",
    "More information on S1 Posting and S1-IS is available at MOE’s S1 Posting website. For enquiries, parents can also visit www.moe.gov.sg/contact.\"\n",
    "'''"
   ]
  },
  {
   "cell_type": "code",
   "execution_count": 13,
   "metadata": {},
   "outputs": [
    {
     "data": {
      "text/plain": [
       "[{'summary_text': 'the headline consumer price index, or overall inflation, was 6.7 per cent year-on-year in October . for 2022 as a whole, overall inflation is expected to average about 6 per cent . meanwhile, labour markets in major advanced economies are still tight .'}]"
      ]
     },
     "execution_count": 13,
     "metadata": {},
     "output_type": "execute_result"
    }
   ],
   "source": [
    "summariser(article)"
   ]
  },
  {
   "cell_type": "markdown",
   "metadata": {},
   "source": [
    "# Tokenizing"
   ]
  },
  {
   "cell_type": "code",
   "execution_count": 7,
   "metadata": {},
   "outputs": [
    {
     "name": "stderr",
     "output_type": "stream",
     "text": [
      "Downloading: 100%|██████████| 899k/899k [00:01<00:00, 587kB/s]  \n",
      "Downloading: 100%|██████████| 456k/456k [00:01<00:00, 308kB/s]  \n",
      "Downloading: 100%|██████████| 1.36M/1.36M [00:01<00:00, 753kB/s] \n"
     ]
    },
    {
     "data": {
      "text/plain": [
       "PreTrainedTokenizerFast(name_or_path='facebook/bart-large-cnn', vocab_size=50265, model_max_len=1024, is_fast=True, padding_side='right', truncation_side='right', special_tokens={'bos_token': '<s>', 'eos_token': '</s>', 'unk_token': '<unk>', 'sep_token': '</s>', 'pad_token': '<pad>', 'cls_token': '<s>', 'mask_token': AddedToken(\"<mask>\", rstrip=False, lstrip=True, single_word=False, normalized=False)})"
      ]
     },
     "execution_count": 7,
     "metadata": {},
     "output_type": "execute_result"
    }
   ],
   "source": [
    "from transformers import AutoTokenizer\n",
    "\n",
    "checkpoint = \"facebook/bart-large-cnn\"\n",
    "tokenizer = AutoTokenizer.from_pretrained(checkpoint)"
   ]
  },
  {
   "cell_type": "code",
   "execution_count": 10,
   "metadata": {},
   "outputs": [
    {
     "data": {
      "text/plain": [
       "{'input_ids': <tf.Tensor: shape=(2, 935), dtype=int32, numpy=\n",
       "array([[    0,   104,  1862, ...,     1,     1,     1],\n",
       "       [    0, 50118,   113, ...,    72, 50118,     2]], dtype=int32)>, 'attention_mask': <tf.Tensor: shape=(2, 935), dtype=int32, numpy=\n",
       "array([[1, 1, 1, ..., 0, 0, 0],\n",
       "       [1, 1, 1, ..., 1, 1, 1]], dtype=int32)>}"
      ]
     },
     "execution_count": 10,
     "metadata": {},
     "output_type": "execute_result"
    }
   ],
   "source": [
    "raw_inputs = [\n",
    "    article,\n",
    "    article2\n",
    "]\n",
    "inputs = tokenizer(raw_inputs, padding=True, truncation=True, return_tensors=\"tf\")"
   ]
  },
  {
   "cell_type": "markdown",
   "metadata": {},
   "source": [
    "# Model"
   ]
  },
  {
   "cell_type": "code",
   "execution_count": 12,
   "metadata": {},
   "outputs": [
    {
     "name": "stderr",
     "output_type": "stream",
     "text": [
      "Downloading: 100%|██████████| 1.63G/1.63G [01:34<00:00, 17.3MB/s]  \n",
      "2022-11-23 13:30:39.862238: W tensorflow/core/framework/cpu_allocator_impl.cc:82] Allocation of 205881344 exceeds 10% of free system memory.\n",
      "2022-11-23 13:30:40.288416: W tensorflow/core/framework/cpu_allocator_impl.cc:82] Allocation of 205881344 exceeds 10% of free system memory.\n",
      "2022-11-23 13:30:40.556317: W tensorflow/core/framework/cpu_allocator_impl.cc:82] Allocation of 205881344 exceeds 10% of free system memory.\n",
      "2022-11-23 13:30:59.335430: W tensorflow/core/framework/cpu_allocator_impl.cc:82] Allocation of 205881344 exceeds 10% of free system memory.\n",
      "2022-11-23 13:31:00.232896: W tensorflow/core/framework/cpu_allocator_impl.cc:82] Allocation of 205881344 exceeds 10% of free system memory.\n",
      "All model checkpoint layers were used when initializing TFBartModel.\n",
      "\n",
      "All the layers of TFBartModel were initialized from the model checkpoint at facebook/bart-large-cnn.\n",
      "If your task is similar to the task the model of the checkpoint was trained on, you can already use TFBartModel for predictions without further training.\n"
     ]
    },
    {
     "data": {
      "text/plain": [
       "<transformers.models.bart.modeling_tf_bart.TFBartModel at 0x7fd75c0bfd00>"
      ]
     },
     "execution_count": 12,
     "metadata": {},
     "output_type": "execute_result"
    }
   ],
   "source": [
    "from transformers import TFAutoModel\n",
    "\n",
    "model = TFAutoModel.from_pretrained(checkpoint)"
   ]
  },
  {
   "cell_type": "code",
   "execution_count": null,
   "metadata": {},
   "outputs": [],
   "source": []
  }
 ],
 "metadata": {
  "kernelspec": {
   "display_name": "Python 3.8.12 64-bit ('text_summary')",
   "language": "python",
   "name": "python3"
  },
  "language_info": {
   "codemirror_mode": {
    "name": "ipython",
    "version": 3
   },
   "file_extension": ".py",
   "mimetype": "text/x-python",
   "name": "python",
   "nbconvert_exporter": "python",
   "pygments_lexer": "ipython3",
   "version": "3.8.12"
  },
  "orig_nbformat": 4,
  "vscode": {
   "interpreter": {
    "hash": "52d90c2fa22699a40614675ece9449c85b04feef7faf910631a92e9ea1155d8a"
   }
  }
 },
 "nbformat": 4,
 "nbformat_minor": 2
}
