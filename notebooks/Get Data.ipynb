{
 "cells": [
  {
   "cell_type": "code",
   "execution_count": 1,
   "id": "acdb10b9",
   "metadata": {},
   "outputs": [],
   "source": [
    "import requests"
   ]
  },
  {
   "cell_type": "code",
   "execution_count": 7,
   "id": "185e2e5f",
   "metadata": {},
   "outputs": [],
   "source": [
    "def fetch_news():\n",
    "    params = {'countries':'SG', 'lang':'en','sources':'channelnewsasia.com', 'from':'2022/11/10', 'to':'2022/11/20'}\n",
    "    url = 'https://api.newscatcherapi.com/V2/search'\n",
    "    r = requests.get(url, params=params)\n",
    "    r.json()\n",
    "    \n",
    "    return r['articles']"
   ]
  },
  {
   "cell_type": "code",
   "execution_count": null,
   "id": "f7ef8e24",
   "metadata": {},
   "outputs": [],
   "source": []
  }
 ],
 "metadata": {
  "kernelspec": {
   "display_name": "Python 3.8.12 64-bit ('shims')",
   "language": "python",
   "name": "python3"
  },
  "language_info": {
   "codemirror_mode": {
    "name": "ipython",
    "version": 3
   },
   "file_extension": ".py",
   "mimetype": "text/x-python",
   "name": "python",
   "nbconvert_exporter": "python",
   "pygments_lexer": "ipython3",
   "version": "3.8.12"
  },
  "toc": {
   "base_numbering": 1,
   "nav_menu": {},
   "number_sections": true,
   "sideBar": true,
   "skip_h1_title": false,
   "title_cell": "Table of Contents",
   "title_sidebar": "Contents",
   "toc_cell": false,
   "toc_position": {},
   "toc_section_display": true,
   "toc_window_display": false
  },
  "vscode": {
   "interpreter": {
    "hash": "323b5d1c884ef6d29f0d97404202297f5fb414277459e92a12a8c3eaf122a68e"
   }
  }
 },
 "nbformat": 4,
 "nbformat_minor": 5
}
