{
 "cells": [
  {
   "cell_type": "code",
   "execution_count": 1,
   "id": "4e3ff8ae",
   "metadata": {},
   "outputs": [],
   "source": [
    "articles = []\n",
    "article1 = '''\n",
    "COE prices close mixed, premiums for small cars cross S$90,000 mark\n",
    "SINGAPORE: Certificate of Entitlement (COE) premiums closed mixed in the latest bidding exercise on Wednesday (Nov 23), with Category A reaching a near 10-year high.\n",
    "For Category A cars, or those 1,600cc and below with horsepower not exceeding 130bhp, premiums closed at S$90,589, up from S$87,235 in the last exercise.\n",
    "This is the first time premiums for the category have exceeded the S$90,000 mark since January 2013, when it reached S$92,100. \n",
    "COEs for commercial vehicles, which include goods vehicles and buses, rose to S$81,802 from S$76,302 in the previous bidding exercise.\n",
    "The remaining categories, which reached record highs in the last bidding, saw decreases this round.\n",
    "Premiums for larger and more powerful cars in Category B fell to S$113,881 from an all-time high of S$115,388 in the previous round.\n",
    "Motorcycle premiums closed at S$12,589, a decrease from S$13,189 in the last exercise. This also breaks an upward trend that started on May 19, which saw 12 consecutive increases.\n",
    "Open category COEs, which can be used for any vehicle type but end up being used mainly for large cars, fell to S$114,009 from S$116,577, an all-time high for the category.\n",
    "A total of 2,148 bids were received, with a quota of 1,543 COEs available.\n",
    "'''\n",
    "\n",
    "article2 = '''\n",
    "FTX collapse: Why do firms invest in early stage companies in emerging sectors?\n",
    "There is a need to balance risk and returns when deciding to invest in early stage companies in high-risk sectors such as cryptocurrencies, say analysts.\n",
    "SINGAPORE: When it comes to investing in early stage companies, there are no high returns without the high risks involved, analysts told CNA after the collapse of cryptocurrency exchange FTX.\n",
    "FTX started bankruptcy proceedings in the United States on Nov 11, with founder and chief executive officer Sam Bankman-Fried resigning his post. \n",
    "The cryptocurrency exchange owes its 50 biggest creditors nearly US$3.1 billion (S$4.28 billion). About 1 million customers and investors were left in a lurch, including Singapore state investment firm Temasek, which said it would write down its US$275 million investment, Tiger Global Management and the Ontario Teachers’ Pension Plan, which also wrote off its investment.\n",
    "INHERENT OR SYSTEMATIC RISKS\n",
    "“As with all investments, risks are inherent,” said Professor Lawrence Loh, director of National University of Singapore (NUS) Business School’s Centre for Governance and Sustainability.\n",
    "“Investing entities may need to get their feet wet in early stage companies to better understand the market trends and platform technologies – digital assets represent a most complex setting where there may be potential for game-changing innovations to drive economies and businesses.\"\n",
    "Economist Walter Theseira, an associate professor at the Singapore University of Social Sciences, told CNA that “there are no high returns without high risks in early stage investing”.\n",
    "“Up till the collapse of FTX and other cryptocurrency firms, the question that would have been posed to Temasek, if they had never invested, would have been: 'Why aren't you investing in this high return space?'\n",
    "\"With the benefit of hindsight, the question is now: 'Why did you invest in this high-risk space?'\"\n",
    "Assoc Prof Theseira added that these are essentially the same question – investment managers are criticised for missing out on potentially high returns when no investment is made, and for taking high risks if an investment fails.\n",
    "These managers have a mandate to seek investment opportunities that fit a particular risk and potential return profile. Many of them would have included cryptocurrency and other emerging financial innovation companies in their mandate as high-risk, high-potential return opportunities.\n",
    "“An investment manager with such a mandate would actually require a strong reason not to invest in cryptocurrency related companies, simply because of the immense amount of investment activity in that space,” he said.\n",
    "Assoc Prof Theseira pointed to the two types of risk involved - idiosyncratic risk, meaning the risk specific to a particular company or investment, and systematic risk, meaning the risk that is general to the entire category of investments.\n",
    "“Idiosyncratic risk is high because in general, crypto firms have been founded and run by persons with relatively little established track record,” he said, noting that FTX is a good example of this.\n",
    "Systematic risk is also high, as the technology itself has no established profitable use case yet beyond financial speculation, explained Assoc Prof Theseira.\n",
    "“Even if crypto technology does have a profitable use case, it's also by no means certain that the profit will justify the current scale of investments, so that is the other element of systematic risk; you might not lose your investment, but you might get a much lower return than you were hoping for,\" he added.\n",
    "\"ACTING APPROPRIATELY IN INVESTING\"\n",
    "Despite the FTX fiasco, there are still merits in investing in early stage companies in the digital token ecosystem, said Prof Loh.\n",
    "He added that investing in such spaces may not be for everyone, particularly retail investors. But ignoring them entirely may be \"regressive\".\n",
    "“You win some and you may lose some in any portfolio of investments – in the overall scheme of things, we have to see the broader performances,” he said.\n",
    "\"It will take more than an FTX fiasco to write off the need to invest in early stage companies that advance the digital token ecosystem including cryptocurrencies,\" he added.\n",
    "Large investment firms need to invest in every major emerging investment asset class that is available, pointed out Assoc Prof Theseira.\n",
    "This is because it is necessary to diversify the investment portfolio and also to have exposure to emerging categories which could be important. \n",
    "“I think the FTX debacle doesn't change the underlying question: Is it riskier to invest in the cryptocurrency space, or is it riskier to stay out of it?” he asked.\n",
    "“Not looking into such investments means accepting the risk of staying out, which is that your portfolio could miss out on a potentially high return, transformative industry.”\n",
    "REDUCING RISKS\n",
    "According to Prof Loh, good governance and full due diligence continue to be the bedrock for investment decisions – more so for volatile and unregulated spaces associated with digital tokens like cryptocurrencies.\n",
    "“Institutional investors should have the capabilities and resources to perform such governance and diligence functions,” he said, adding that the cryptoeconomy is currently in a \"state of flux\" after recent high-profile controversies.\n",
    "“It will take some time for the dust to settle – a progressive and rational approach in regulation especially across borders will help to stabilise the situation so that we can focus on the innovations and benefits and not be saddled with the hiccups.”\n",
    "Assoc Prof Theseira said that one can attempt to reduce idiosyncratic risk through due diligence. \n",
    "However, if the space is \"full of high-risk firms\" because there are few founders with established track records, and if management practices are generally questionable because the practice of most founders is to operate with little controls, there is little one can do.\n",
    "“But when you have a popular crypto platform like FTX, with a distinguished list of early stage investors, and which has a good narrative around it, it's easy to ignore the concerns you have about high idiosyncratic risk,\" he said.\n",
    "“In the end, the only way to avoid all risk is to simply not invest at all, which also means assuming the risk that your funds will be eroded by inflation steadily. The trick really is to get onto the frontier of balancing risk and return,” he added.\n",
    "'''\n",
    "\n",
    "article3 = '''\n",
    "Which 2 celebrities were in the delivery room with Zoe Tay when she was giving birth to her first child?\n",
    "Ah Jie told Rebecca Lim in the series, With Love, Becks, that her husband, Philip Chionh, couldn’t make it in time so she needed to call for reinforcements. \n",
    "n the last episode of Rebecca Lim’s series, With Love, Becks, she had none other than Ah Jie Zoe Tay herself on the show.\n",
    "With Rebecca about to tie the knot soon with fiance Matthew Webster, it’s no surprise the conversation turned to the topic of children – which led to an interesting revelation by Zoe.\n",
    "The 54-year-old actress revealed that when she went into labour with her first child, Brayden, now 17, her husband Philip Chionh wasn’t able to make it to her in time, so she needed to call for backup.\n",
    "Enter her two friends – and fellow celebrities – Hong Huifang and Pan Lingling, who accompanied her in the delivery room.\n",
    "“They were in the delivery room holding my hand. I had an IV drip in one hand, and Huifang-jie was holding on to my other hand, telling me to ‘Press on, push’,\" Zoe said, gripping Rebecca’s hand firmly to demonstrate.\n",
    "Zoe added that she was screaming in pain; it turned out that Huifang was pressing down on a nerve in her hand. “Everything was hurting,” she said. “I was going insane.”\n",
    "When asked by Rebecca which role she found most challenging – a wife, a mother or a daughter – Zoe said “mother” without hesitation, because, as she admitted, she didn’t know how to raise a child. \n",
    "During their chat, Rebecca also shared that she was looking forward to having a happy family of her own and that she would try for a child as soon as she could. \n",
    "Watch the episode here. \n",
    "'''"
   ]
  },
  {
   "cell_type": "code",
   "execution_count": 2,
   "id": "6d34a258",
   "metadata": {},
   "outputs": [],
   "source": [
    "articles = [article1, article2, article3]"
   ]
  },
  {
   "cell_type": "code",
   "execution_count": 3,
   "id": "24060194",
   "metadata": {},
   "outputs": [
    {
     "name": "stderr",
     "output_type": "stream",
     "text": [
      "/home/jessicasai/.pyenv/versions/text_summary/lib/python3.8/site-packages/tqdm/auto.py:22: TqdmWarning: IProgress not found. Please update jupyter and ipywidgets. See https://ipywidgets.readthedocs.io/en/stable/user_install.html\n",
      "  from .autonotebook import tqdm as notebook_tqdm\n"
     ]
    }
   ],
   "source": [
    "## load the full dataset of 300k articles\n",
    "# dataset = datasets.load_dataset(\"cnn_dailymail\", '3.0.0')\n",
    "# lst_dics = [dic for dic in dataset[\"train\"]]\n",
    "\n",
    "## for data\n",
    "import datasets  #(1.13.3)\n",
    "import pandas as pd  #(0.25.1)\n",
    "import numpy as np  #(1.16.4)\n",
    "\n",
    "## for plotting\n",
    "import matplotlib.pyplot as plt  #(3.1.2)\n",
    "import seaborn as sns  #(0.9.0)\n",
    "\n",
    "## for preprocessing\n",
    "import re\n",
    "import nltk  #(3.4.5)\n",
    "import contractions  #(0.0.18)\n",
    "\n",
    "## for textrank\n",
    "import gensim\n",
    "\n",
    "## for evaluation\n",
    "import rouge  #(1.0.0)\n",
    "import difflib"
   ]
  },
  {
   "cell_type": "code",
   "execution_count": 4,
   "id": "7429c52e",
   "metadata": {},
   "outputs": [
    {
     "data": {
      "text/html": [
       "<div>\n",
       "<style scoped>\n",
       "    .dataframe tbody tr th:only-of-type {\n",
       "        vertical-align: middle;\n",
       "    }\n",
       "\n",
       "    .dataframe tbody tr th {\n",
       "        vertical-align: top;\n",
       "    }\n",
       "\n",
       "    .dataframe thead th {\n",
       "        text-align: right;\n",
       "    }\n",
       "</style>\n",
       "<table border=\"1\" class=\"dataframe\">\n",
       "  <thead>\n",
       "    <tr style=\"text-align: right;\">\n",
       "      <th></th>\n",
       "      <th>0</th>\n",
       "    </tr>\n",
       "  </thead>\n",
       "  <tbody>\n",
       "    <tr>\n",
       "      <th>0</th>\n",
       "      <td>\\nCOE prices close mixed, premiums for small c...</td>\n",
       "    </tr>\n",
       "    <tr>\n",
       "      <th>1</th>\n",
       "      <td>\\nFTX collapse: Why do firms invest in early s...</td>\n",
       "    </tr>\n",
       "    <tr>\n",
       "      <th>2</th>\n",
       "      <td>\\nWhich 2 celebrities were in the delivery roo...</td>\n",
       "    </tr>\n",
       "  </tbody>\n",
       "</table>\n",
       "</div>"
      ],
      "text/plain": [
       "                                                   0\n",
       "0  \\nCOE prices close mixed, premiums for small c...\n",
       "1  \\nFTX collapse: Why do firms invest in early s...\n",
       "2  \\nWhich 2 celebrities were in the delivery roo..."
      ]
     },
     "execution_count": 4,
     "metadata": {},
     "output_type": "execute_result"
    }
   ],
   "source": [
    "## load the dataset\n",
    "dataset = articles\n",
    "lst_dics = [dic for dic in dataset]\n",
    "\n",
    "## keep the first N articles if you want to keep it lite \n",
    "df = pd.DataFrame(lst_dics).head()\n",
    "df.head()"
   ]
  },
  {
   "cell_type": "code",
   "execution_count": 8,
   "id": "67a7a194",
   "metadata": {},
   "outputs": [
    {
     "data": {
      "text/plain": [
       "['SINGAPORE: Certificate of Entitlement (COE) premiums closed mixed in the latest bidding exercise on Wednesday (Nov 23), with Category A reaching a near 10-year high.\\nPremiums for larger and more powerful cars in Category B fell to S$113,881 from an all-time high of S$115,388 in the previous round.']"
      ]
     },
     "execution_count": 8,
     "metadata": {},
     "output_type": "execute_result"
    }
   ],
   "source": [
    "#Summarizes corpus with TextRank.\n",
    "#:parameter    \n",
    "    #:param corpus: str or list - dtf[\"text\"]    \n",
    "    #:param ratio: length of the summary (ex. 20% of the text)\n",
    "#:return    \n",
    "    #list of summaries\n",
    "    \n",
    "def textrank(corpus, ratio=0.2):    \n",
    "    if type(corpus) is str:        \n",
    "       corpus = [corpus]    \n",
    "    lst_summaries = [gensim.summarization.summarize(txt,  \n",
    "                     ratio=ratio) for txt in corpus]    \n",
    "    return lst_summaries\n",
    "\n",
    "## Apply the function to corpus\n",
    "predicted_coe = textrank(corpus=df[0][0], ratio=0.2)\n",
    "predicted_coe"
   ]
  },
  {
   "cell_type": "code",
   "execution_count": 9,
   "id": "d5e36d79",
   "metadata": {},
   "outputs": [
    {
     "data": {
      "text/plain": [
       "['There is a need to balance risk and returns when deciding to invest in early stage companies in high-risk sectors such as cryptocurrencies, say analysts.\\nSINGAPORE: When it comes to investing in early stage companies, there are no high returns without the high risks involved, analysts told CNA after the collapse of cryptocurrency exchange FTX.\\n“Up till the collapse of FTX and other cryptocurrency firms, the question that would have been posed to Temasek, if they had never invested, would have been: \\'Why aren\\'t you investing in this high return space?\\'\\nAssoc Prof Theseira added that these are essentially the same question – investment managers are criticised for missing out on potentially high returns when no investment is made, and for taking high risks if an investment fails.\\nMany of them would have included cryptocurrency and other emerging financial innovation companies in their mandate as high-risk, high-potential return opportunities.\\nDespite the FTX fiasco, there are still merits in investing in early stage companies in the digital token ecosystem, said Prof Loh. He added that investing in such spaces may not be for everyone, particularly retail investors.\\n\"It will take more than an FTX fiasco to write off the need to invest in early stage companies that advance the digital token ecosystem including cryptocurrencies,\" he added.']"
      ]
     },
     "execution_count": 9,
     "metadata": {},
     "output_type": "execute_result"
    }
   ],
   "source": [
    "predicted_ftx = textrank(corpus=df[0][1], ratio=0.2)\n",
    "predicted_ftx"
   ]
  },
  {
   "cell_type": "code",
   "execution_count": 10,
   "id": "4f4d0d2d",
   "metadata": {},
   "outputs": [
    {
     "data": {
      "text/plain": [
       "['Ah Jie told Rebecca Lim in the series, With Love, Becks, that her husband, Philip Chionh, couldn’t make it in time so she needed to call for reinforcements.\\nn the last episode of Rebecca Lim’s series, With Love, Becks, she had none other than Ah Jie Zoe Tay herself on the show.']"
      ]
     },
     "execution_count": 10,
     "metadata": {},
     "output_type": "execute_result"
    }
   ],
   "source": [
    "predicted_celebrity = textrank(corpus=df[0][2], ratio=0.2)\n",
    "predicted_celebrity"
   ]
  },
  {
   "cell_type": "code",
   "execution_count": 18,
   "id": "385eecbd",
   "metadata": {},
   "outputs": [
    {
     "data": {
      "text/plain": [
       "'\\nCOE prices close mixed, premiums for small cars cross S$90,000 mark\\nSINGAPORE: Certificate of Entitlement (COE) premiums closed mixed in the latest bidding exercise on Wednesday (Nov 23), with Category A reaching a near 10-year high.\\nFor Category A cars, or those 1,600cc and below with horsepower not exceeding 130bhp, premiums closed at S$90,589, up from S$87,235 in the last exercise.\\nThis is the first time premiums for the category have exceeded the S$90,000 mark since January 2013, when it reached S$92,100. \\nCOEs for commercial vehicles, which include goods vehicles and buses, rose to S$81,802 from S$76,302 in the previous bidding exercise.\\nThe remaining categories, which reached record highs in the last bidding, saw decreases this round.\\nPremiums for larger and more powerful cars in Category B fell to S$113,881 from an all-time high of S$115,388 in the previous round.\\nMotorcycle premiums closed at S$12,589, a decrease from S$13,189 in the last exercise. This also breaks an upward trend that started on May 19, which saw 12 consecutive increases.\\nOpen category COEs, which can be used for any vehicle type but end up being used mainly for large cars, fell to S$114,009 from S$116,577, an all-time high for the category.\\nA total of 2,148 bids were received, with a quota of 1,543 COEs available.\\n'"
      ]
     },
     "execution_count": 18,
     "metadata": {},
     "output_type": "execute_result"
    }
   ],
   "source": [
    "df[0][0]"
   ]
  },
  {
   "cell_type": "code",
   "execution_count": 20,
   "id": "74923c9f",
   "metadata": {},
   "outputs": [
    {
     "name": "stdout",
     "output_type": "stream",
     "text": [
      "rouge1: 0.47 | rouge2: 0.38 | rougeL: 0.47 --> avg rouge: 0.44\n",
      "None\n",
      "rouge1: 0.42 | rouge2: 0.33 | rougeL: 0.42 --> avg rouge: 0.39\n",
      "None\n",
      "rouge1: 0.38 | rouge2: 0.29 | rougeL: 0.38 --> avg rouge: 0.35\n",
      "None\n"
     ]
    }
   ],
   "source": [
    "#Calculate ROUGE score.\n",
    "#:parameter    \n",
    "    #:param y_test: string or list    \n",
    "    #:param predicted: string or list\n",
    "    \n",
    "def evaluate_summary(y_test, predicted):    \n",
    "   rouge_score = rouge.Rouge()    \n",
    "   scores = rouge_score.get_scores(y_test, predicted, avg=True)       \n",
    "   score_1 = round(scores['rouge-1']['f'], 2)    \n",
    "   score_2 = round(scores['rouge-2']['f'], 2)    \n",
    "   score_L = round(scores['rouge-l']['f'], 2)\n",
    "   print(\"rouge1:\", score_1, \"| rouge2:\", score_2, \"| rougeL:\",\n",
    "         score_L, \"--> avg rouge:\", round(np.mean(\n",
    "         [score_1,score_2,score_L]), 2))\n",
    "    \n",
    "## Apply the function to predicted\n",
    "print(evaluate_summary([df[0][0]], predicted_coe))\n",
    "print(evaluate_summary([df[0][1]], predicted_ftx))\n",
    "print(evaluate_summary([df[0][2]], predicted_celebrity))"
   ]
  },
  {
   "cell_type": "markdown",
   "id": "09cbf44d",
   "metadata": {},
   "source": [
    "The results show that 16% of unigrams (ROUGE-1) and 2% of bigrams (ROUGE-2) are present in both summaries, while the longest common subsequences (ROUGE-L) match by 2%. Overall, the average score is 11%. Please note that ROUGE scores don’t measure how fluent the summary is."
   ]
  },
  {
   "cell_type": "code",
   "execution_count": 21,
   "id": "c936b394",
   "metadata": {},
   "outputs": [],
   "source": [
    "def utils_split_sentences(a, b):\n",
    "    ## find clean matches\n",
    "    match = difflib.SequenceMatcher(isjunk=None, a=a, b=b, autojunk=True)\n",
    "    lst_match = [block for block in match.get_matching_blocks() if block.size > 20]\n",
    "    \n",
    "    ## difflib didn't find any match\n",
    "    if len(lst_match) == 0:\n",
    "        lst_a, lst_b = nltk.sent_tokenize(a), nltk.sent_tokenize(b)\n",
    "    \n",
    "    ## work with matches\n",
    "    else:\n",
    "        first_m, last_m = lst_match[0], lst_match[-1]\n",
    "\n",
    "        ### a\n",
    "        string = a[0 : first_m.a]\n",
    "        lst_a = [t for t in nltk.sent_tokenize(string)]\n",
    "        for n in range(len(lst_match)):\n",
    "            m = lst_match[n]\n",
    "            string = a[m.a : m.a+m.size]\n",
    "            lst_a.append(string)\n",
    "            if n+1 < len(lst_match):\n",
    "                next_m = lst_match[n+1]\n",
    "                string = a[m.a+m.size : next_m.a]\n",
    "                lst_a = lst_a + [t for t in nltk.sent_tokenize(string)]\n",
    "            else:\n",
    "                break\n",
    "        string = a[last_m.a+last_m.size :]\n",
    "        lst_a = lst_a + [t for t in nltk.sent_tokenize(string)]\n",
    "\n",
    "        ### b\n",
    "        string = b[0 : first_m.b]\n",
    "        lst_b = [t for t in nltk.sent_tokenize(string)]\n",
    "        for n in range(len(lst_match)):\n",
    "            m = lst_match[n]\n",
    "            string = b[m.b : m.b+m.size]\n",
    "            lst_b.append(string)\n",
    "            if n+1 < len(lst_match):\n",
    "                next_m = lst_match[n+1]\n",
    "                string = b[m.b+m.size : next_m.b]\n",
    "                lst_b = lst_b + [t for t in nltk.sent_tokenize(string)]\n",
    "            else:\n",
    "                break\n",
    "        string = b[last_m.b+last_m.size :]\n",
    "        lst_b = lst_b + [t for t in nltk.sent_tokenize(string)]\n",
    "    \n",
    "    return lst_a, lst_b\n",
    "\n",
    "'''\n",
    "Highlights the matched strings in text.\n",
    ":parameter\n",
    "    :param a: string - raw text\n",
    "    :param b: string - raw text\n",
    "    :param both: bool - search a in b and, if True, viceversa\n",
    "    :param sentences: bool - if False matches single words\n",
    ":return\n",
    "    text html, it can be visualized on notebook with display(HTML(text))\n",
    "'''\n",
    "def display_string_matching(a, b, both=True, sentences=True, titles=[]):\n",
    "    if sentences is True:\n",
    "        lst_a, lst_b = utils_split_sentences(a, b)\n",
    "    else:\n",
    "        lst_a, lst_b = a.split(), b.split()       \n",
    "    \n",
    "    ## highlight a\n",
    "    first_text = []\n",
    "    for i in lst_a:\n",
    "        if re.sub(r'[^\\w\\s]', '', i.lower()) in [re.sub(r'[^\\w\\s]', '', z.lower()) for z in lst_b]:\n",
    "            first_text.append('<span style=\"background-color:rgba(255,215,0,0.3);\">' + i + '</span>')\n",
    "        else:\n",
    "            first_text.append(i)\n",
    "    first_text = ' '.join(first_text)\n",
    "    \n",
    "    ## highlight b\n",
    "    second_text = []\n",
    "    if both is True:\n",
    "        for i in lst_b:\n",
    "            if re.sub(r'[^\\w\\s]', '', i.lower()) in [re.sub(r'[^\\w\\s]', '', z.lower()) for z in lst_a]:\n",
    "                second_text.append('<span style=\"background-color:rgba(255,215,0,0.3);\">' + i + '</span>')\n",
    "            else:\n",
    "                second_text.append(i)\n",
    "    else:\n",
    "        second_text.append(b) \n",
    "    second_text = ' '.join(second_text)\n",
    "    \n",
    "    ## concatenate\n",
    "    if len(titles) > 0:\n",
    "        first_text = \"<strong>\"+titles[0]+\"</strong><br>\"+first_text\n",
    "    if len(titles) > 1:\n",
    "        second_text = \"<strong>\"+titles[1]+\"</strong><br>\"+second_text\n",
    "    else:\n",
    "        second_text = \"---\"*65+\"<br><br>\"+second_text\n",
    "    final_text = first_text +'<br><br>'+ second_text\n",
    "    return final_text"
   ]
  },
  {
   "cell_type": "code",
   "execution_count": 34,
   "id": "6868162f",
   "metadata": {},
   "outputs": [
    {
     "name": "stderr",
     "output_type": "stream",
     "text": [
      "/tmp/ipykernel_3180/1186674136.py:5: DeprecationWarning: Importing display from IPython.core.display is deprecated since IPython 7.14, please import from IPython display\n",
      "  from IPython.core.display import display, HTML\n"
     ]
    },
    {
     "data": {
      "text/html": [
       "<strong>Full Text</strong><br>\n",
       "COE prices close mixed, premiums for small cars cross S$90,000 mark <span style=\"background-color:rgba(255,215,0,0.3);\">SINGAPORE: Certificate of Entitlement (COE) premiums closed mixed in the latest bidding exercise on Wednesday (Nov 23), with Category A reaching a near 10-year high.\n",
       "</span> For Category A cars, or those 1,600cc and below with horsepower not exceeding 130bhp, premiums closed at S$90,589, up from S$87,235 in the last exercise. This is the first time premiums for the category have exceeded the S$90,000 mark since January 2013, when it reached S$92,100. COEs for commercial vehicles, which include goods vehicles and buses, rose to S$81,802 from S$76,302 in the previous bidding exercise. The remaining categories, which reached record highs in the last bidding, saw decreases this round. <span style=\"background-color:rgba(255,215,0,0.3);\">Premiums for larger and more powerful cars in Category B fell to S$113,881 from an all-time high of S$115,388 in the previous round.</span> \n",
       "Motorcycle premiums closed at S$12,589, a decrease from S$13,189 in the last exercise. This also breaks an upward trend that started on May 19, which saw 12 consecutive increases. Open category COEs, which can be used for any vehicle type but end up being used mainly for large cars, fell to S$114,009 from S$116,577, an all-time high for the category. A total of 2,148 bids were received, with a quota of 1,543 COEs available.<br><br><strong>Predicted Summary</strong><br><span style=\"background-color:rgba(255,215,0,0.3);\">SINGAPORE: Certificate of Entitlement (COE) premiums closed mixed in the latest bidding exercise on Wednesday (Nov 23), with Category A reaching a near 10-year high.\n",
       "</span> <span style=\"background-color:rgba(255,215,0,0.3);\">Premiums for larger and more powerful cars in Category B fell to S$113,881 from an all-time high of S$115,388 in the previous round.</span>"
      ],
      "text/plain": [
       "<IPython.core.display.HTML object>"
      ]
     },
     "metadata": {},
     "output_type": "display_data"
    }
   ],
   "source": [
    "match1 = display_string_matching(df[0][0], predicted_coe[0], both=True, sentences=True, titles=[\"Full Text\", \"Predicted Summary\"])\n",
    "\n",
    "#set 'sentences=True' and it will match the text on sentence-level instead of word-level\n",
    "\n",
    "from IPython.core.display import display, HTML\n",
    "display(HTML(match1))"
   ]
  },
  {
   "cell_type": "code",
   "execution_count": 36,
   "id": "200517e8",
   "metadata": {},
   "outputs": [
    {
     "name": "stderr",
     "output_type": "stream",
     "text": [
      "/tmp/ipykernel_3180/306633109.py:5: DeprecationWarning: Importing display from IPython.core.display is deprecated since IPython 7.14, please import from IPython display\n",
      "  from IPython.core.display import display, HTML\n"
     ]
    },
    {
     "data": {
      "text/html": [
       "<strong>Full Text</strong><br>\n",
       "FTX collapse: Why do firms invest in early stage companies in emerging sectors? <span style=\"background-color:rgba(255,215,0,0.3);\">There is a need to balance risk and returns when deciding to invest in early stage companies in high-risk sectors such as cryptocurrencies, say analysts.\n",
       "SINGAPORE: When it comes to investing in early stage companies, there are no high returns without the high risks involved, analysts told CNA after the collapse of cryptocurrency exchange FTX.\n",
       "</span> FTX started bankruptcy proceedings in the United States on Nov 11, with founder and chief executive officer Sam Bankman-Fried resigning his post. The cryptocurrency exchange owes its 50 biggest creditors nearly US$3.1 billion (S$4.28 billion). About 1 million customers and investors were left in a lurch, including Singapore state investment firm Temasek, which said it would write down its US$275 million investment, Tiger Global Management and the Ontario Teachers’ Pension Plan, which also wrote off its investment. INHERENT OR SYSTEMATIC RISKS\n",
       "“As with all investments, risks are inherent,” said Professor Lawrence Loh, director of National University of Singapore (NUS) Business School’s Centre for Governance and Sustainability. “Investing entities may need to get their feet wet in early stage companies to better understand the market trends and platform technologies – digital assets represent a most complex setting where there may be potential for game-changing innovations to drive economies and businesses.\" Economist Walter Theseira, an associate professor at the Singapore University of Social Sciences, told CNA that “there are no high returns without high risks in early stage investing”. <span style=\"background-color:rgba(255,215,0,0.3);\">“Up till the collapse of FTX and other cryptocurrency firms, the question that would have been posed to Temasek, if they had never invested, would have been: 'Why aren't you investing in this high return space?'</span> \"With the benefit of hindsight, the question is now: 'Why did you invest in this high-risk space?'\" <span style=\"background-color:rgba(255,215,0,0.3);\">Assoc Prof Theseira added that these are essentially the same question – investment managers are criticised for missing out on potentially high returns when no investment is made, and for taking high risks if an investment fails.</span> These managers have a mandate to seek investment opportunities that fit a particular risk and potential return profile. <span style=\"background-color:rgba(255,215,0,0.3);\">Many of them would have included cryptocurrency and other emerging financial innovation companies in their mandate as high-risk, high-potential return opportunities.</span> “An investment manager with such a mandate would actually require a strong reason not to invest in cryptocurrency related companies, simply because of the immense amount of investment activity in that space,” he said. Assoc Prof Theseira pointed to the two types of risk involved - idiosyncratic risk, meaning the risk specific to a particular company or investment, and systematic risk, meaning the risk that is general to the entire category of investments. “Idiosyncratic risk is high because in general, crypto firms have been founded and run by persons with relatively little established track record,” he said, noting that FTX is a good example of this. Systematic risk is also high, as the technology itself has no established profitable use case yet beyond financial speculation, explained Assoc Prof Theseira. “Even if crypto technology does have a profitable use case, it's also by no means certain that the profit will justify the current scale of investments, so that is the other element of systematic risk; you might not lose your investment, but you might get a much lower return than you were hoping for,\" he added. \"ACTING APPROPRIATELY IN INVESTING\"\n",
       "Despite the FTX fiasco, there are still merits in investing in early stage companies in the digital token ecosystem, said Prof Loh. <span style=\"background-color:rgba(255,215,0,0.3);\">He added that investing in such spaces may not be for everyone, particularly retail investors.</span> But ignoring them entirely may be \"regressive\". “You win some and you may lose some in any portfolio of investments – in the overall scheme of things, we have to see the broader performances,” he said <span style=\"background-color:rgba(255,215,0,0.3);\">.\n",
       "\"It will take more than an FTX fiasco to write off the need to invest in early stage companies that advance the digital token ecosystem including cryptocurrencies,\" he added.</span> \n",
       "Large investment firms need to invest in every major emerging investment asset class that is available, pointed out Assoc Prof Theseira. This is because it is necessary to diversify the investment portfolio and also to have exposure to emerging categories which could be important. “I think the FTX debacle doesn't change the underlying question: Is it riskier to invest in the cryptocurrency space, or is it riskier to stay out of it?” he asked. “Not looking into such investments means accepting the risk of staying out, which is that your portfolio could miss out on a potentially high return, transformative industry.”\n",
       "REDUCING RISKS\n",
       "According to Prof Loh, good governance and full due diligence continue to be the bedrock for investment decisions – more so for volatile and unregulated spaces associated with digital tokens like cryptocurrencies. “Institutional investors should have the capabilities and resources to perform such governance and diligence functions,” he said, adding that the cryptoeconomy is currently in a \"state of flux\" after recent high-profile controversies. “It will take some time for the dust to settle – a progressive and rational approach in regulation especially across borders will help to stabilise the situation so that we can focus on the innovations and benefits and not be saddled with the hiccups.”\n",
       "Assoc Prof Theseira said that one can attempt to reduce idiosyncratic risk through due diligence. However, if the space is \"full of high-risk firms\" because there are few founders with established track records, and if management practices are generally questionable because the practice of most founders is to operate with little controls, there is little one can do. “But when you have a popular crypto platform like FTX, with a distinguished list of early stage investors, and which has a good narrative around it, it's easy to ignore the concerns you have about high idiosyncratic risk,\" he said. “In the end, the only way to avoid all risk is to simply not invest at all, which also means assuming the risk that your funds will be eroded by inflation steadily. The trick really is to get onto the frontier of balancing risk and return,” he added.<br><br><strong>Predicted Summary</strong><br><span style=\"background-color:rgba(255,215,0,0.3);\">There is a need to balance risk and returns when deciding to invest in early stage companies in high-risk sectors such as cryptocurrencies, say analysts.\n",
       "SINGAPORE: When it comes to investing in early stage companies, there are no high returns without the high risks involved, analysts told CNA after the collapse of cryptocurrency exchange FTX.\n",
       "</span> <span style=\"background-color:rgba(255,215,0,0.3);\">“Up till the collapse of FTX and other cryptocurrency firms, the question that would have been posed to Temasek, if they had never invested, would have been: 'Why aren't you investing in this high return space?'</span> <span style=\"background-color:rgba(255,215,0,0.3);\">Assoc Prof Theseira added that these are essentially the same question – investment managers are criticised for missing out on potentially high returns when no investment is made, and for taking high risks if an investment fails.</span> <span style=\"background-color:rgba(255,215,0,0.3);\">Many of them would have included cryptocurrency and other emerging financial innovation companies in their mandate as high-risk, high-potential return opportunities.</span> Despite the FTX fiasco, there are still merits in investing in early stage companies in the digital token ecosystem, said Prof Loh. <span style=\"background-color:rgba(255,215,0,0.3);\">He added that investing in such spaces may not be for everyone, particularly retail investors</span> <span style=\"background-color:rgba(255,215,0,0.3);\">.\n",
       "\"It will take more than an FTX fiasco to write off the need to invest in early stage companies that advance the digital token ecosystem including cryptocurrencies,\" he added.</span>"
      ],
      "text/plain": [
       "<IPython.core.display.HTML object>"
      ]
     },
     "metadata": {},
     "output_type": "display_data"
    }
   ],
   "source": [
    "match2 = display_string_matching(df[0][1], predicted_ftx[0], both=True, sentences=True, titles=[\"Full Text\", \"Predicted Summary\"])\n",
    "\n",
    "#set 'sentences=True' and it will match the text on sentence-level instead of word-level\n",
    "\n",
    "from IPython.core.display import display, HTML\n",
    "display(HTML(match2))"
   ]
  },
  {
   "cell_type": "code",
   "execution_count": 37,
   "id": "d87fd9bd",
   "metadata": {},
   "outputs": [
    {
     "name": "stderr",
     "output_type": "stream",
     "text": [
      "/tmp/ipykernel_3180/919644119.py:5: DeprecationWarning: Importing display from IPython.core.display is deprecated since IPython 7.14, please import from IPython display\n",
      "  from IPython.core.display import display, HTML\n"
     ]
    },
    {
     "data": {
      "text/html": [
       "<strong>Full Text</strong><br>\n",
       "Which 2 celebrities were in the delivery room with Zoe Tay when she was giving birth to her first child? <span style=\"background-color:rgba(255,215,0,0.3);\">Ah Jie told Rebecca Lim in the series, With Love, Becks, that her husband, Philip Chionh, couldn’t mak</span> <span style=\"background-color:rgba(255,215,0,0.3);\">e it in time so she needed to call for reinforcements.</span> <span style=\"background-color:rgba(255,215,0,0.3);\">\n",
       "n the last episode of Rebecca Lim’s series, With Love, Becks, she had none other than Ah Jie Zoe Tay herself on the show.</span> \n",
       "With Rebecca about to tie the knot soon with fiance Matthew Webster, it’s no surprise the conversation turned to the topic of children – which led to an interesting revelation by Zoe. The 54-year-old actress revealed that when she went into labour with her first child, Brayden, now 17, her husband Philip Chionh wasn’t able to make it to her in time, so she needed to call for backup. Enter her two friends – and fellow celebrities – Hong Huifang and Pan Lingling, who accompanied her in the delivery room. “They were in the delivery room holding my hand. I had an IV drip in one hand, and Huifang-jie was holding on to my other hand, telling me to ‘Press on, push’,\" Zoe said, gripping Rebecca’s hand firmly to demonstrate. Zoe added that she was screaming in pain; it turned out that Huifang was pressing down on a nerve in her hand. “Everything was hurting,” she said. “I was going insane.”\n",
       "When asked by Rebecca which role she found most challenging – a wife, a mother or a daughter – Zoe said “mother” without hesitation, because, as she admitted, she didn’t know how to raise a child. During their chat, Rebecca also shared that she was looking forward to having a happy family of her own and that she would try for a child as soon as she could. Watch the episode here.<br><br><strong>Predicted Summary</strong><br><span style=\"background-color:rgba(255,215,0,0.3);\">Ah Jie told Rebecca Lim in the series, With Love, Becks, that her husband, Philip Chionh, couldn’t mak</span> <span style=\"background-color:rgba(255,215,0,0.3);\">e it in time so she needed to call for reinforcements.</span> <span style=\"background-color:rgba(255,215,0,0.3);\">\n",
       "n the last episode of Rebecca Lim’s series, With Love, Becks, she had none other than Ah Jie Zoe Tay herself on the show.</span>"
      ],
      "text/plain": [
       "<IPython.core.display.HTML object>"
      ]
     },
     "metadata": {},
     "output_type": "display_data"
    }
   ],
   "source": [
    "match3 = display_string_matching(df[0][2], predicted_celebrity[0], both=True, sentences=True, titles=[\"Full Text\", \"Predicted Summary\"])\n",
    "\n",
    "#set 'sentences=True' and it will match the text on sentence-level instead of word-level\n",
    "\n",
    "from IPython.core.display import display, HTML\n",
    "display(HTML(match3))"
   ]
  },
  {
   "cell_type": "code",
   "execution_count": null,
   "id": "fb8d97c9",
   "metadata": {},
   "outputs": [],
   "source": []
  }
 ],
 "metadata": {
  "kernelspec": {
   "display_name": "Python 3.8.12 64-bit ('shims')",
   "language": "python",
   "name": "python3"
  },
  "language_info": {
   "codemirror_mode": {
    "name": "ipython",
    "version": 3
   },
   "file_extension": ".py",
   "mimetype": "text/x-python",
   "name": "python",
   "nbconvert_exporter": "python",
   "pygments_lexer": "ipython3",
   "version": "3.8.12"
  },
  "toc": {
   "base_numbering": 1,
   "nav_menu": {},
   "number_sections": true,
   "sideBar": true,
   "skip_h1_title": false,
   "title_cell": "Table of Contents",
   "title_sidebar": "Contents",
   "toc_cell": false,
   "toc_position": {},
   "toc_section_display": true,
   "toc_window_display": false
  },
  "vscode": {
   "interpreter": {
    "hash": "323b5d1c884ef6d29f0d97404202297f5fb414277459e92a12a8c3eaf122a68e"
   }
  }
 },
 "nbformat": 4,
 "nbformat_minor": 5
}
