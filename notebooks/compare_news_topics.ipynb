{
  "nbformat": 4,
  "nbformat_minor": 0,
  "metadata": {
    "colab": {
      "provenance": [],
      "authorship_tag": "ABX9TyNlTgE4haBvWNrnNQ/JBiNy",
      "include_colab_link": true
    },
    "kernelspec": {
      "name": "python3",
      "display_name": "Python 3"
    },
    "language_info": {
      "name": "python"
    }
  },
  "cells": [
    {
      "cell_type": "markdown",
      "metadata": {
        "id": "view-in-github",
        "colab_type": "text"
      },
      "source": [
        "<a href=\"https://colab.research.google.com/github/mayank-soni/text_summary/blob/transformer-compare/notebooks/compare_news_topics.ipynb\" target=\"_parent\"><img src=\"https://colab.research.google.com/assets/colab-badge.svg\" alt=\"Open In Colab\"/></a>"
      ]
    },
    {
      "cell_type": "code",
      "execution_count": 2,
      "metadata": {
        "id": "UjnjWYs9Sbnj"
      },
      "outputs": [],
      "source": [
        "import requests"
      ]
    },
    {
      "cell_type": "code",
      "source": [
        "def get_headlines(topic):\n",
        "    url = \"https://api.newscatcherapi.com/v2/latest_headlines\"\n",
        "    params = {'sources':'channelnewsasia.com', 'topic': topic, 'page_size': '5'}\n",
        "    headers = {\n",
        "        \"x-api-key\": #TODO PLEASE ADD HERE\n",
        "        }\n",
        "    response = requests.get(url, headers=headers, params=params)\n",
        "    return response.json()"
      ],
      "metadata": {
        "id": "04jHx_eDU1hM"
      },
      "execution_count": 22,
      "outputs": []
    },
    {
      "cell_type": "code",
      "source": [
        "sport = get_headlines('sport')"
      ],
      "metadata": {
        "id": "cOqTIx4RUIIl"
      },
      "execution_count": 25,
      "outputs": []
    },
    {
      "cell_type": "code",
      "source": [
        "tech = get_headlines('tech')"
      ],
      "metadata": {
        "id": "TSs_SonYVjYD"
      },
      "execution_count": null,
      "outputs": []
    },
    {
      "cell_type": "code",
      "source": [
        "finance = get_headlines('finance')"
      ],
      "metadata": {
        "id": "BL_RzNYgVfQS"
      },
      "execution_count": null,
      "outputs": []
    },
    {
      "cell_type": "code",
      "source": [
        "for article in sport['articles']:\n",
        "  link = article['link']\n",
        "  print(link)"
      ],
      "metadata": {
        "colab": {
          "base_uri": "https://localhost:8080/"
        },
        "id": "O3YY3j3DVAq9",
        "outputId": "cdcc71e8-fe55-49f4-8a39-a0ed1ef8058d"
      },
      "execution_count": 28,
      "outputs": [
        {
          "output_type": "stream",
          "name": "stdout",
          "text": [
            "https://www.channelnewsasia.com/sport/belgium-fail-fire-unconvincing-win-over-canada-3097106\n",
            "https://www.channelnewsasia.com/sport/uruguay-quintet-honoured-contesting-fourth-world-cup-3097096\n",
            "https://www.channelnewsasia.com/sport/belgium-v-canada-teams-3096746\n",
            "https://www.channelnewsasia.com/sport/france-big-screens-ban-world-cup-qatar-human-rights-3095411\n",
            "https://www.channelnewsasia.com/sport/ronaldos-exit-man-utd-best-both-parties-ferdinand-3094971\n"
          ]
        }
      ]
    },
    {
      "cell_type": "code",
      "source": [],
      "metadata": {
        "id": "c9465ecEVwTo"
      },
      "execution_count": null,
      "outputs": []
    }
  ]
}