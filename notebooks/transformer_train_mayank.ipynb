{
  "nbformat": 4,
  "nbformat_minor": 0,
  "metadata": {
    "colab": {
      "provenance": [],
      "include_colab_link": true
    },
    "kernelspec": {
      "name": "python3",
      "display_name": "Python 3"
    },
    "language_info": {
      "name": "python"
    },
    "accelerator": "GPU",
    "gpuClass": "standard",
    "widgets": {
      "application/vnd.jupyter.widget-state+json": {
        "f656c7b6dff24cb3882f5b3490a106e2": {
          "model_module": "@jupyter-widgets/controls",
          "model_name": "HBoxModel",
          "model_module_version": "1.5.0",
          "state": {
            "_dom_classes": [],
            "_model_module": "@jupyter-widgets/controls",
            "_model_module_version": "1.5.0",
            "_model_name": "HBoxModel",
            "_view_count": null,
            "_view_module": "@jupyter-widgets/controls",
            "_view_module_version": "1.5.0",
            "_view_name": "HBoxView",
            "box_style": "",
            "children": [
              "IPY_MODEL_39565d4190f5469cb5224945c82efaab",
              "IPY_MODEL_fa14f5d408694a6a9ca11b7937a061d5",
              "IPY_MODEL_f43bb891d18b43989df7cbfeefd8f3ca"
            ],
            "layout": "IPY_MODEL_64bfed2af3b240ca94f59b098e449427"
          }
        },
        "39565d4190f5469cb5224945c82efaab": {
          "model_module": "@jupyter-widgets/controls",
          "model_name": "HTMLModel",
          "model_module_version": "1.5.0",
          "state": {
            "_dom_classes": [],
            "_model_module": "@jupyter-widgets/controls",
            "_model_module_version": "1.5.0",
            "_model_name": "HTMLModel",
            "_view_count": null,
            "_view_module": "@jupyter-widgets/controls",
            "_view_module_version": "1.5.0",
            "_view_name": "HTMLView",
            "description": "",
            "description_tooltip": null,
            "layout": "IPY_MODEL_1f99df03ecf84f318d6845914f895c1a",
            "placeholder": "​",
            "style": "IPY_MODEL_14e7826aee6f4c11a4c8495d19ffc7f1",
            "value": "Downloading builder script: "
          }
        },
        "fa14f5d408694a6a9ca11b7937a061d5": {
          "model_module": "@jupyter-widgets/controls",
          "model_name": "FloatProgressModel",
          "model_module_version": "1.5.0",
          "state": {
            "_dom_classes": [],
            "_model_module": "@jupyter-widgets/controls",
            "_model_module_version": "1.5.0",
            "_model_name": "FloatProgressModel",
            "_view_count": null,
            "_view_module": "@jupyter-widgets/controls",
            "_view_module_version": "1.5.0",
            "_view_name": "ProgressView",
            "bar_style": "success",
            "description": "",
            "description_tooltip": null,
            "layout": "IPY_MODEL_8c68842eb61d4e2392f476e1c85718c0",
            "max": 2160,
            "min": 0,
            "orientation": "horizontal",
            "style": "IPY_MODEL_0a7c568a7d88413796d922071f074be1",
            "value": 2160
          }
        },
        "f43bb891d18b43989df7cbfeefd8f3ca": {
          "model_module": "@jupyter-widgets/controls",
          "model_name": "HTMLModel",
          "model_module_version": "1.5.0",
          "state": {
            "_dom_classes": [],
            "_model_module": "@jupyter-widgets/controls",
            "_model_module_version": "1.5.0",
            "_model_name": "HTMLModel",
            "_view_count": null,
            "_view_module": "@jupyter-widgets/controls",
            "_view_module_version": "1.5.0",
            "_view_name": "HTMLView",
            "description": "",
            "description_tooltip": null,
            "layout": "IPY_MODEL_3bc957840e8e481285893c9aeee810f4",
            "placeholder": "​",
            "style": "IPY_MODEL_078bac09f6b746f1b38005868d0c6aa5",
            "value": " 5.60k/? [00:00&lt;00:00, 155kB/s]"
          }
        },
        "64bfed2af3b240ca94f59b098e449427": {
          "model_module": "@jupyter-widgets/base",
          "model_name": "LayoutModel",
          "model_module_version": "1.2.0",
          "state": {
            "_model_module": "@jupyter-widgets/base",
            "_model_module_version": "1.2.0",
            "_model_name": "LayoutModel",
            "_view_count": null,
            "_view_module": "@jupyter-widgets/base",
            "_view_module_version": "1.2.0",
            "_view_name": "LayoutView",
            "align_content": null,
            "align_items": null,
            "align_self": null,
            "border": null,
            "bottom": null,
            "display": null,
            "flex": null,
            "flex_flow": null,
            "grid_area": null,
            "grid_auto_columns": null,
            "grid_auto_flow": null,
            "grid_auto_rows": null,
            "grid_column": null,
            "grid_gap": null,
            "grid_row": null,
            "grid_template_areas": null,
            "grid_template_columns": null,
            "grid_template_rows": null,
            "height": null,
            "justify_content": null,
            "justify_items": null,
            "left": null,
            "margin": null,
            "max_height": null,
            "max_width": null,
            "min_height": null,
            "min_width": null,
            "object_fit": null,
            "object_position": null,
            "order": null,
            "overflow": null,
            "overflow_x": null,
            "overflow_y": null,
            "padding": null,
            "right": null,
            "top": null,
            "visibility": null,
            "width": null
          }
        },
        "1f99df03ecf84f318d6845914f895c1a": {
          "model_module": "@jupyter-widgets/base",
          "model_name": "LayoutModel",
          "model_module_version": "1.2.0",
          "state": {
            "_model_module": "@jupyter-widgets/base",
            "_model_module_version": "1.2.0",
            "_model_name": "LayoutModel",
            "_view_count": null,
            "_view_module": "@jupyter-widgets/base",
            "_view_module_version": "1.2.0",
            "_view_name": "LayoutView",
            "align_content": null,
            "align_items": null,
            "align_self": null,
            "border": null,
            "bottom": null,
            "display": null,
            "flex": null,
            "flex_flow": null,
            "grid_area": null,
            "grid_auto_columns": null,
            "grid_auto_flow": null,
            "grid_auto_rows": null,
            "grid_column": null,
            "grid_gap": null,
            "grid_row": null,
            "grid_template_areas": null,
            "grid_template_columns": null,
            "grid_template_rows": null,
            "height": null,
            "justify_content": null,
            "justify_items": null,
            "left": null,
            "margin": null,
            "max_height": null,
            "max_width": null,
            "min_height": null,
            "min_width": null,
            "object_fit": null,
            "object_position": null,
            "order": null,
            "overflow": null,
            "overflow_x": null,
            "overflow_y": null,
            "padding": null,
            "right": null,
            "top": null,
            "visibility": null,
            "width": null
          }
        },
        "14e7826aee6f4c11a4c8495d19ffc7f1": {
          "model_module": "@jupyter-widgets/controls",
          "model_name": "DescriptionStyleModel",
          "model_module_version": "1.5.0",
          "state": {
            "_model_module": "@jupyter-widgets/controls",
            "_model_module_version": "1.5.0",
            "_model_name": "DescriptionStyleModel",
            "_view_count": null,
            "_view_module": "@jupyter-widgets/base",
            "_view_module_version": "1.2.0",
            "_view_name": "StyleView",
            "description_width": ""
          }
        },
        "8c68842eb61d4e2392f476e1c85718c0": {
          "model_module": "@jupyter-widgets/base",
          "model_name": "LayoutModel",
          "model_module_version": "1.2.0",
          "state": {
            "_model_module": "@jupyter-widgets/base",
            "_model_module_version": "1.2.0",
            "_model_name": "LayoutModel",
            "_view_count": null,
            "_view_module": "@jupyter-widgets/base",
            "_view_module_version": "1.2.0",
            "_view_name": "LayoutView",
            "align_content": null,
            "align_items": null,
            "align_self": null,
            "border": null,
            "bottom": null,
            "display": null,
            "flex": null,
            "flex_flow": null,
            "grid_area": null,
            "grid_auto_columns": null,
            "grid_auto_flow": null,
            "grid_auto_rows": null,
            "grid_column": null,
            "grid_gap": null,
            "grid_row": null,
            "grid_template_areas": null,
            "grid_template_columns": null,
            "grid_template_rows": null,
            "height": null,
            "justify_content": null,
            "justify_items": null,
            "left": null,
            "margin": null,
            "max_height": null,
            "max_width": null,
            "min_height": null,
            "min_width": null,
            "object_fit": null,
            "object_position": null,
            "order": null,
            "overflow": null,
            "overflow_x": null,
            "overflow_y": null,
            "padding": null,
            "right": null,
            "top": null,
            "visibility": null,
            "width": null
          }
        },
        "0a7c568a7d88413796d922071f074be1": {
          "model_module": "@jupyter-widgets/controls",
          "model_name": "ProgressStyleModel",
          "model_module_version": "1.5.0",
          "state": {
            "_model_module": "@jupyter-widgets/controls",
            "_model_module_version": "1.5.0",
            "_model_name": "ProgressStyleModel",
            "_view_count": null,
            "_view_module": "@jupyter-widgets/base",
            "_view_module_version": "1.2.0",
            "_view_name": "StyleView",
            "bar_color": null,
            "description_width": ""
          }
        },
        "3bc957840e8e481285893c9aeee810f4": {
          "model_module": "@jupyter-widgets/base",
          "model_name": "LayoutModel",
          "model_module_version": "1.2.0",
          "state": {
            "_model_module": "@jupyter-widgets/base",
            "_model_module_version": "1.2.0",
            "_model_name": "LayoutModel",
            "_view_count": null,
            "_view_module": "@jupyter-widgets/base",
            "_view_module_version": "1.2.0",
            "_view_name": "LayoutView",
            "align_content": null,
            "align_items": null,
            "align_self": null,
            "border": null,
            "bottom": null,
            "display": null,
            "flex": null,
            "flex_flow": null,
            "grid_area": null,
            "grid_auto_columns": null,
            "grid_auto_flow": null,
            "grid_auto_rows": null,
            "grid_column": null,
            "grid_gap": null,
            "grid_row": null,
            "grid_template_areas": null,
            "grid_template_columns": null,
            "grid_template_rows": null,
            "height": null,
            "justify_content": null,
            "justify_items": null,
            "left": null,
            "margin": null,
            "max_height": null,
            "max_width": null,
            "min_height": null,
            "min_width": null,
            "object_fit": null,
            "object_position": null,
            "order": null,
            "overflow": null,
            "overflow_x": null,
            "overflow_y": null,
            "padding": null,
            "right": null,
            "top": null,
            "visibility": null,
            "width": null
          }
        },
        "078bac09f6b746f1b38005868d0c6aa5": {
          "model_module": "@jupyter-widgets/controls",
          "model_name": "DescriptionStyleModel",
          "model_module_version": "1.5.0",
          "state": {
            "_model_module": "@jupyter-widgets/controls",
            "_model_module_version": "1.5.0",
            "_model_name": "DescriptionStyleModel",
            "_view_count": null,
            "_view_module": "@jupyter-widgets/base",
            "_view_module_version": "1.2.0",
            "_view_name": "StyleView",
            "description_width": ""
          }
        },
        "b3b49586ec5e468a9334f935b3864a9c": {
          "model_module": "@jupyter-widgets/controls",
          "model_name": "HBoxModel",
          "model_module_version": "1.5.0",
          "state": {
            "_dom_classes": [],
            "_model_module": "@jupyter-widgets/controls",
            "_model_module_version": "1.5.0",
            "_model_name": "HBoxModel",
            "_view_count": null,
            "_view_module": "@jupyter-widgets/controls",
            "_view_module_version": "1.5.0",
            "_view_name": "HBoxView",
            "box_style": "",
            "children": [
              "IPY_MODEL_e0706ac4d2744885947e03bdfb571979",
              "IPY_MODEL_f135bbbbd2ad445585a3c0647c0b5e85",
              "IPY_MODEL_a663661e73e14bccbbdc11a0cbdd4757"
            ],
            "layout": "IPY_MODEL_c2c91448b8df4169adf3948ffe688fdd"
          }
        },
        "e0706ac4d2744885947e03bdfb571979": {
          "model_module": "@jupyter-widgets/controls",
          "model_name": "HTMLModel",
          "model_module_version": "1.5.0",
          "state": {
            "_dom_classes": [],
            "_model_module": "@jupyter-widgets/controls",
            "_model_module_version": "1.5.0",
            "_model_name": "HTMLModel",
            "_view_count": null,
            "_view_module": "@jupyter-widgets/controls",
            "_view_module_version": "1.5.0",
            "_view_name": "HTMLView",
            "description": "",
            "description_tooltip": null,
            "layout": "IPY_MODEL_1672122c77f5456d9211d4f77a516bdb",
            "placeholder": "​",
            "style": "IPY_MODEL_00b0a455a32e4100837b8de31b44dd73",
            "value": "Downloading: 100%"
          }
        },
        "f135bbbbd2ad445585a3c0647c0b5e85": {
          "model_module": "@jupyter-widgets/controls",
          "model_name": "FloatProgressModel",
          "model_module_version": "1.5.0",
          "state": {
            "_dom_classes": [],
            "_model_module": "@jupyter-widgets/controls",
            "_model_module_version": "1.5.0",
            "_model_name": "FloatProgressModel",
            "_view_count": null,
            "_view_module": "@jupyter-widgets/controls",
            "_view_module_version": "1.5.0",
            "_view_name": "ProgressView",
            "bar_style": "success",
            "description": "",
            "description_tooltip": null,
            "layout": "IPY_MODEL_17b772f0aada42549a841d56e84945c1",
            "max": 26,
            "min": 0,
            "orientation": "horizontal",
            "style": "IPY_MODEL_c16d83e5ba7a4218827089bc1ac1a9a5",
            "value": 26
          }
        },
        "a663661e73e14bccbbdc11a0cbdd4757": {
          "model_module": "@jupyter-widgets/controls",
          "model_name": "HTMLModel",
          "model_module_version": "1.5.0",
          "state": {
            "_dom_classes": [],
            "_model_module": "@jupyter-widgets/controls",
            "_model_module_version": "1.5.0",
            "_model_name": "HTMLModel",
            "_view_count": null,
            "_view_module": "@jupyter-widgets/controls",
            "_view_module_version": "1.5.0",
            "_view_name": "HTMLView",
            "description": "",
            "description_tooltip": null,
            "layout": "IPY_MODEL_fe2761dfcffb43b89c933fd2af72d8f9",
            "placeholder": "​",
            "style": "IPY_MODEL_8fd9bd4602f741b0be05482e5c360d09",
            "value": " 26.0/26.0 [00:00&lt;00:00, 855B/s]"
          }
        },
        "c2c91448b8df4169adf3948ffe688fdd": {
          "model_module": "@jupyter-widgets/base",
          "model_name": "LayoutModel",
          "model_module_version": "1.2.0",
          "state": {
            "_model_module": "@jupyter-widgets/base",
            "_model_module_version": "1.2.0",
            "_model_name": "LayoutModel",
            "_view_count": null,
            "_view_module": "@jupyter-widgets/base",
            "_view_module_version": "1.2.0",
            "_view_name": "LayoutView",
            "align_content": null,
            "align_items": null,
            "align_self": null,
            "border": null,
            "bottom": null,
            "display": null,
            "flex": null,
            "flex_flow": null,
            "grid_area": null,
            "grid_auto_columns": null,
            "grid_auto_flow": null,
            "grid_auto_rows": null,
            "grid_column": null,
            "grid_gap": null,
            "grid_row": null,
            "grid_template_areas": null,
            "grid_template_columns": null,
            "grid_template_rows": null,
            "height": null,
            "justify_content": null,
            "justify_items": null,
            "left": null,
            "margin": null,
            "max_height": null,
            "max_width": null,
            "min_height": null,
            "min_width": null,
            "object_fit": null,
            "object_position": null,
            "order": null,
            "overflow": null,
            "overflow_x": null,
            "overflow_y": null,
            "padding": null,
            "right": null,
            "top": null,
            "visibility": null,
            "width": null
          }
        },
        "1672122c77f5456d9211d4f77a516bdb": {
          "model_module": "@jupyter-widgets/base",
          "model_name": "LayoutModel",
          "model_module_version": "1.2.0",
          "state": {
            "_model_module": "@jupyter-widgets/base",
            "_model_module_version": "1.2.0",
            "_model_name": "LayoutModel",
            "_view_count": null,
            "_view_module": "@jupyter-widgets/base",
            "_view_module_version": "1.2.0",
            "_view_name": "LayoutView",
            "align_content": null,
            "align_items": null,
            "align_self": null,
            "border": null,
            "bottom": null,
            "display": null,
            "flex": null,
            "flex_flow": null,
            "grid_area": null,
            "grid_auto_columns": null,
            "grid_auto_flow": null,
            "grid_auto_rows": null,
            "grid_column": null,
            "grid_gap": null,
            "grid_row": null,
            "grid_template_areas": null,
            "grid_template_columns": null,
            "grid_template_rows": null,
            "height": null,
            "justify_content": null,
            "justify_items": null,
            "left": null,
            "margin": null,
            "max_height": null,
            "max_width": null,
            "min_height": null,
            "min_width": null,
            "object_fit": null,
            "object_position": null,
            "order": null,
            "overflow": null,
            "overflow_x": null,
            "overflow_y": null,
            "padding": null,
            "right": null,
            "top": null,
            "visibility": null,
            "width": null
          }
        },
        "00b0a455a32e4100837b8de31b44dd73": {
          "model_module": "@jupyter-widgets/controls",
          "model_name": "DescriptionStyleModel",
          "model_module_version": "1.5.0",
          "state": {
            "_model_module": "@jupyter-widgets/controls",
            "_model_module_version": "1.5.0",
            "_model_name": "DescriptionStyleModel",
            "_view_count": null,
            "_view_module": "@jupyter-widgets/base",
            "_view_module_version": "1.2.0",
            "_view_name": "StyleView",
            "description_width": ""
          }
        },
        "17b772f0aada42549a841d56e84945c1": {
          "model_module": "@jupyter-widgets/base",
          "model_name": "LayoutModel",
          "model_module_version": "1.2.0",
          "state": {
            "_model_module": "@jupyter-widgets/base",
            "_model_module_version": "1.2.0",
            "_model_name": "LayoutModel",
            "_view_count": null,
            "_view_module": "@jupyter-widgets/base",
            "_view_module_version": "1.2.0",
            "_view_name": "LayoutView",
            "align_content": null,
            "align_items": null,
            "align_self": null,
            "border": null,
            "bottom": null,
            "display": null,
            "flex": null,
            "flex_flow": null,
            "grid_area": null,
            "grid_auto_columns": null,
            "grid_auto_flow": null,
            "grid_auto_rows": null,
            "grid_column": null,
            "grid_gap": null,
            "grid_row": null,
            "grid_template_areas": null,
            "grid_template_columns": null,
            "grid_template_rows": null,
            "height": null,
            "justify_content": null,
            "justify_items": null,
            "left": null,
            "margin": null,
            "max_height": null,
            "max_width": null,
            "min_height": null,
            "min_width": null,
            "object_fit": null,
            "object_position": null,
            "order": null,
            "overflow": null,
            "overflow_x": null,
            "overflow_y": null,
            "padding": null,
            "right": null,
            "top": null,
            "visibility": null,
            "width": null
          }
        },
        "c16d83e5ba7a4218827089bc1ac1a9a5": {
          "model_module": "@jupyter-widgets/controls",
          "model_name": "ProgressStyleModel",
          "model_module_version": "1.5.0",
          "state": {
            "_model_module": "@jupyter-widgets/controls",
            "_model_module_version": "1.5.0",
            "_model_name": "ProgressStyleModel",
            "_view_count": null,
            "_view_module": "@jupyter-widgets/base",
            "_view_module_version": "1.2.0",
            "_view_name": "StyleView",
            "bar_color": null,
            "description_width": ""
          }
        },
        "fe2761dfcffb43b89c933fd2af72d8f9": {
          "model_module": "@jupyter-widgets/base",
          "model_name": "LayoutModel",
          "model_module_version": "1.2.0",
          "state": {
            "_model_module": "@jupyter-widgets/base",
            "_model_module_version": "1.2.0",
            "_model_name": "LayoutModel",
            "_view_count": null,
            "_view_module": "@jupyter-widgets/base",
            "_view_module_version": "1.2.0",
            "_view_name": "LayoutView",
            "align_content": null,
            "align_items": null,
            "align_self": null,
            "border": null,
            "bottom": null,
            "display": null,
            "flex": null,
            "flex_flow": null,
            "grid_area": null,
            "grid_auto_columns": null,
            "grid_auto_flow": null,
            "grid_auto_rows": null,
            "grid_column": null,
            "grid_gap": null,
            "grid_row": null,
            "grid_template_areas": null,
            "grid_template_columns": null,
            "grid_template_rows": null,
            "height": null,
            "justify_content": null,
            "justify_items": null,
            "left": null,
            "margin": null,
            "max_height": null,
            "max_width": null,
            "min_height": null,
            "min_width": null,
            "object_fit": null,
            "object_position": null,
            "order": null,
            "overflow": null,
            "overflow_x": null,
            "overflow_y": null,
            "padding": null,
            "right": null,
            "top": null,
            "visibility": null,
            "width": null
          }
        },
        "8fd9bd4602f741b0be05482e5c360d09": {
          "model_module": "@jupyter-widgets/controls",
          "model_name": "DescriptionStyleModel",
          "model_module_version": "1.5.0",
          "state": {
            "_model_module": "@jupyter-widgets/controls",
            "_model_module_version": "1.5.0",
            "_model_name": "DescriptionStyleModel",
            "_view_count": null,
            "_view_module": "@jupyter-widgets/base",
            "_view_module_version": "1.2.0",
            "_view_name": "StyleView",
            "description_width": ""
          }
        },
        "a0f37d274e834e00ab246f30c89e52ca": {
          "model_module": "@jupyter-widgets/controls",
          "model_name": "HBoxModel",
          "model_module_version": "1.5.0",
          "state": {
            "_dom_classes": [],
            "_model_module": "@jupyter-widgets/controls",
            "_model_module_version": "1.5.0",
            "_model_name": "HBoxModel",
            "_view_count": null,
            "_view_module": "@jupyter-widgets/controls",
            "_view_module_version": "1.5.0",
            "_view_name": "HBoxView",
            "box_style": "",
            "children": [
              "IPY_MODEL_ce93cbcb40bb4546b04ebd0ae097e287",
              "IPY_MODEL_ab659ecbde1c45f09be7b3feb2c6ffa4",
              "IPY_MODEL_d59712f7509743e780fb7573248d9e21"
            ],
            "layout": "IPY_MODEL_c954d46eecb94296b4f2f8da9871058d"
          }
        },
        "ce93cbcb40bb4546b04ebd0ae097e287": {
          "model_module": "@jupyter-widgets/controls",
          "model_name": "HTMLModel",
          "model_module_version": "1.5.0",
          "state": {
            "_dom_classes": [],
            "_model_module": "@jupyter-widgets/controls",
            "_model_module_version": "1.5.0",
            "_model_name": "HTMLModel",
            "_view_count": null,
            "_view_module": "@jupyter-widgets/controls",
            "_view_module_version": "1.5.0",
            "_view_name": "HTMLView",
            "description": "",
            "description_tooltip": null,
            "layout": "IPY_MODEL_c6f46e9319bd4a39952b4aa7ec15c218",
            "placeholder": "​",
            "style": "IPY_MODEL_1aa96e37a4e54963ad0d26fe614279f4",
            "value": "Downloading: 100%"
          }
        },
        "ab659ecbde1c45f09be7b3feb2c6ffa4": {
          "model_module": "@jupyter-widgets/controls",
          "model_name": "FloatProgressModel",
          "model_module_version": "1.5.0",
          "state": {
            "_dom_classes": [],
            "_model_module": "@jupyter-widgets/controls",
            "_model_module_version": "1.5.0",
            "_model_name": "FloatProgressModel",
            "_view_count": null,
            "_view_module": "@jupyter-widgets/controls",
            "_view_module_version": "1.5.0",
            "_view_name": "ProgressView",
            "bar_style": "success",
            "description": "",
            "description_tooltip": null,
            "layout": "IPY_MODEL_3f76b4e7f8c749c684ee91fc47a919ff",
            "max": 1802,
            "min": 0,
            "orientation": "horizontal",
            "style": "IPY_MODEL_e6488442cc3d4bee9121d2f296acb5fb",
            "value": 1802
          }
        },
        "d59712f7509743e780fb7573248d9e21": {
          "model_module": "@jupyter-widgets/controls",
          "model_name": "HTMLModel",
          "model_module_version": "1.5.0",
          "state": {
            "_dom_classes": [],
            "_model_module": "@jupyter-widgets/controls",
            "_model_module_version": "1.5.0",
            "_model_name": "HTMLModel",
            "_view_count": null,
            "_view_module": "@jupyter-widgets/controls",
            "_view_module_version": "1.5.0",
            "_view_name": "HTMLView",
            "description": "",
            "description_tooltip": null,
            "layout": "IPY_MODEL_0ae0bc6722564c5bb05323e1717a9d86",
            "placeholder": "​",
            "style": "IPY_MODEL_f6703a438ff6475c803a65a3610575e6",
            "value": " 1.80k/1.80k [00:00&lt;00:00, 63.0kB/s]"
          }
        },
        "c954d46eecb94296b4f2f8da9871058d": {
          "model_module": "@jupyter-widgets/base",
          "model_name": "LayoutModel",
          "model_module_version": "1.2.0",
          "state": {
            "_model_module": "@jupyter-widgets/base",
            "_model_module_version": "1.2.0",
            "_model_name": "LayoutModel",
            "_view_count": null,
            "_view_module": "@jupyter-widgets/base",
            "_view_module_version": "1.2.0",
            "_view_name": "LayoutView",
            "align_content": null,
            "align_items": null,
            "align_self": null,
            "border": null,
            "bottom": null,
            "display": null,
            "flex": null,
            "flex_flow": null,
            "grid_area": null,
            "grid_auto_columns": null,
            "grid_auto_flow": null,
            "grid_auto_rows": null,
            "grid_column": null,
            "grid_gap": null,
            "grid_row": null,
            "grid_template_areas": null,
            "grid_template_columns": null,
            "grid_template_rows": null,
            "height": null,
            "justify_content": null,
            "justify_items": null,
            "left": null,
            "margin": null,
            "max_height": null,
            "max_width": null,
            "min_height": null,
            "min_width": null,
            "object_fit": null,
            "object_position": null,
            "order": null,
            "overflow": null,
            "overflow_x": null,
            "overflow_y": null,
            "padding": null,
            "right": null,
            "top": null,
            "visibility": null,
            "width": null
          }
        },
        "c6f46e9319bd4a39952b4aa7ec15c218": {
          "model_module": "@jupyter-widgets/base",
          "model_name": "LayoutModel",
          "model_module_version": "1.2.0",
          "state": {
            "_model_module": "@jupyter-widgets/base",
            "_model_module_version": "1.2.0",
            "_model_name": "LayoutModel",
            "_view_count": null,
            "_view_module": "@jupyter-widgets/base",
            "_view_module_version": "1.2.0",
            "_view_name": "LayoutView",
            "align_content": null,
            "align_items": null,
            "align_self": null,
            "border": null,
            "bottom": null,
            "display": null,
            "flex": null,
            "flex_flow": null,
            "grid_area": null,
            "grid_auto_columns": null,
            "grid_auto_flow": null,
            "grid_auto_rows": null,
            "grid_column": null,
            "grid_gap": null,
            "grid_row": null,
            "grid_template_areas": null,
            "grid_template_columns": null,
            "grid_template_rows": null,
            "height": null,
            "justify_content": null,
            "justify_items": null,
            "left": null,
            "margin": null,
            "max_height": null,
            "max_width": null,
            "min_height": null,
            "min_width": null,
            "object_fit": null,
            "object_position": null,
            "order": null,
            "overflow": null,
            "overflow_x": null,
            "overflow_y": null,
            "padding": null,
            "right": null,
            "top": null,
            "visibility": null,
            "width": null
          }
        },
        "1aa96e37a4e54963ad0d26fe614279f4": {
          "model_module": "@jupyter-widgets/controls",
          "model_name": "DescriptionStyleModel",
          "model_module_version": "1.5.0",
          "state": {
            "_model_module": "@jupyter-widgets/controls",
            "_model_module_version": "1.5.0",
            "_model_name": "DescriptionStyleModel",
            "_view_count": null,
            "_view_module": "@jupyter-widgets/base",
            "_view_module_version": "1.2.0",
            "_view_name": "StyleView",
            "description_width": ""
          }
        },
        "3f76b4e7f8c749c684ee91fc47a919ff": {
          "model_module": "@jupyter-widgets/base",
          "model_name": "LayoutModel",
          "model_module_version": "1.2.0",
          "state": {
            "_model_module": "@jupyter-widgets/base",
            "_model_module_version": "1.2.0",
            "_model_name": "LayoutModel",
            "_view_count": null,
            "_view_module": "@jupyter-widgets/base",
            "_view_module_version": "1.2.0",
            "_view_name": "LayoutView",
            "align_content": null,
            "align_items": null,
            "align_self": null,
            "border": null,
            "bottom": null,
            "display": null,
            "flex": null,
            "flex_flow": null,
            "grid_area": null,
            "grid_auto_columns": null,
            "grid_auto_flow": null,
            "grid_auto_rows": null,
            "grid_column": null,
            "grid_gap": null,
            "grid_row": null,
            "grid_template_areas": null,
            "grid_template_columns": null,
            "grid_template_rows": null,
            "height": null,
            "justify_content": null,
            "justify_items": null,
            "left": null,
            "margin": null,
            "max_height": null,
            "max_width": null,
            "min_height": null,
            "min_width": null,
            "object_fit": null,
            "object_position": null,
            "order": null,
            "overflow": null,
            "overflow_x": null,
            "overflow_y": null,
            "padding": null,
            "right": null,
            "top": null,
            "visibility": null,
            "width": null
          }
        },
        "e6488442cc3d4bee9121d2f296acb5fb": {
          "model_module": "@jupyter-widgets/controls",
          "model_name": "ProgressStyleModel",
          "model_module_version": "1.5.0",
          "state": {
            "_model_module": "@jupyter-widgets/controls",
            "_model_module_version": "1.5.0",
            "_model_name": "ProgressStyleModel",
            "_view_count": null,
            "_view_module": "@jupyter-widgets/base",
            "_view_module_version": "1.2.0",
            "_view_name": "StyleView",
            "bar_color": null,
            "description_width": ""
          }
        },
        "0ae0bc6722564c5bb05323e1717a9d86": {
          "model_module": "@jupyter-widgets/base",
          "model_name": "LayoutModel",
          "model_module_version": "1.2.0",
          "state": {
            "_model_module": "@jupyter-widgets/base",
            "_model_module_version": "1.2.0",
            "_model_name": "LayoutModel",
            "_view_count": null,
            "_view_module": "@jupyter-widgets/base",
            "_view_module_version": "1.2.0",
            "_view_name": "LayoutView",
            "align_content": null,
            "align_items": null,
            "align_self": null,
            "border": null,
            "bottom": null,
            "display": null,
            "flex": null,
            "flex_flow": null,
            "grid_area": null,
            "grid_auto_columns": null,
            "grid_auto_flow": null,
            "grid_auto_rows": null,
            "grid_column": null,
            "grid_gap": null,
            "grid_row": null,
            "grid_template_areas": null,
            "grid_template_columns": null,
            "grid_template_rows": null,
            "height": null,
            "justify_content": null,
            "justify_items": null,
            "left": null,
            "margin": null,
            "max_height": null,
            "max_width": null,
            "min_height": null,
            "min_width": null,
            "object_fit": null,
            "object_position": null,
            "order": null,
            "overflow": null,
            "overflow_x": null,
            "overflow_y": null,
            "padding": null,
            "right": null,
            "top": null,
            "visibility": null,
            "width": null
          }
        },
        "f6703a438ff6475c803a65a3610575e6": {
          "model_module": "@jupyter-widgets/controls",
          "model_name": "DescriptionStyleModel",
          "model_module_version": "1.5.0",
          "state": {
            "_model_module": "@jupyter-widgets/controls",
            "_model_module_version": "1.5.0",
            "_model_name": "DescriptionStyleModel",
            "_view_count": null,
            "_view_module": "@jupyter-widgets/base",
            "_view_module_version": "1.2.0",
            "_view_name": "StyleView",
            "description_width": ""
          }
        },
        "2515a9273a574d2b8bed2368ec441163": {
          "model_module": "@jupyter-widgets/controls",
          "model_name": "HBoxModel",
          "model_module_version": "1.5.0",
          "state": {
            "_dom_classes": [],
            "_model_module": "@jupyter-widgets/controls",
            "_model_module_version": "1.5.0",
            "_model_name": "HBoxModel",
            "_view_count": null,
            "_view_module": "@jupyter-widgets/controls",
            "_view_module_version": "1.5.0",
            "_view_name": "HBoxView",
            "box_style": "",
            "children": [
              "IPY_MODEL_daa76921640842779e12039b3178157f",
              "IPY_MODEL_cf15d9f449444dc4b5c3a34bd1451711",
              "IPY_MODEL_72db238fe2eb412fb665bbcf366933f3"
            ],
            "layout": "IPY_MODEL_f7629ce6ec444ebaaf47bbc714b678b1"
          }
        },
        "daa76921640842779e12039b3178157f": {
          "model_module": "@jupyter-widgets/controls",
          "model_name": "HTMLModel",
          "model_module_version": "1.5.0",
          "state": {
            "_dom_classes": [],
            "_model_module": "@jupyter-widgets/controls",
            "_model_module_version": "1.5.0",
            "_model_name": "HTMLModel",
            "_view_count": null,
            "_view_module": "@jupyter-widgets/controls",
            "_view_module_version": "1.5.0",
            "_view_name": "HTMLView",
            "description": "",
            "description_tooltip": null,
            "layout": "IPY_MODEL_49fc90a9ce714cbaa7a5c56995d009ae",
            "placeholder": "​",
            "style": "IPY_MODEL_b974a1d810424b948a704e31a698aa3b",
            "value": "Downloading: 100%"
          }
        },
        "cf15d9f449444dc4b5c3a34bd1451711": {
          "model_module": "@jupyter-widgets/controls",
          "model_name": "FloatProgressModel",
          "model_module_version": "1.5.0",
          "state": {
            "_dom_classes": [],
            "_model_module": "@jupyter-widgets/controls",
            "_model_module_version": "1.5.0",
            "_model_name": "FloatProgressModel",
            "_view_count": null,
            "_view_module": "@jupyter-widgets/controls",
            "_view_module_version": "1.5.0",
            "_view_name": "ProgressView",
            "bar_style": "success",
            "description": "",
            "description_tooltip": null,
            "layout": "IPY_MODEL_8a25a10038a14634b15974c30dcd9561",
            "max": 898822,
            "min": 0,
            "orientation": "horizontal",
            "style": "IPY_MODEL_f54a3030d0664fd6ba593821c399b11c",
            "value": 898822
          }
        },
        "72db238fe2eb412fb665bbcf366933f3": {
          "model_module": "@jupyter-widgets/controls",
          "model_name": "HTMLModel",
          "model_module_version": "1.5.0",
          "state": {
            "_dom_classes": [],
            "_model_module": "@jupyter-widgets/controls",
            "_model_module_version": "1.5.0",
            "_model_name": "HTMLModel",
            "_view_count": null,
            "_view_module": "@jupyter-widgets/controls",
            "_view_module_version": "1.5.0",
            "_view_name": "HTMLView",
            "description": "",
            "description_tooltip": null,
            "layout": "IPY_MODEL_10ae1873cde74f1a916ff0a489669988",
            "placeholder": "​",
            "style": "IPY_MODEL_d7b594f0f4d844939c9e9cf6cfd6779e",
            "value": " 899k/899k [00:01&lt;00:00, 917kB/s]"
          }
        },
        "f7629ce6ec444ebaaf47bbc714b678b1": {
          "model_module": "@jupyter-widgets/base",
          "model_name": "LayoutModel",
          "model_module_version": "1.2.0",
          "state": {
            "_model_module": "@jupyter-widgets/base",
            "_model_module_version": "1.2.0",
            "_model_name": "LayoutModel",
            "_view_count": null,
            "_view_module": "@jupyter-widgets/base",
            "_view_module_version": "1.2.0",
            "_view_name": "LayoutView",
            "align_content": null,
            "align_items": null,
            "align_self": null,
            "border": null,
            "bottom": null,
            "display": null,
            "flex": null,
            "flex_flow": null,
            "grid_area": null,
            "grid_auto_columns": null,
            "grid_auto_flow": null,
            "grid_auto_rows": null,
            "grid_column": null,
            "grid_gap": null,
            "grid_row": null,
            "grid_template_areas": null,
            "grid_template_columns": null,
            "grid_template_rows": null,
            "height": null,
            "justify_content": null,
            "justify_items": null,
            "left": null,
            "margin": null,
            "max_height": null,
            "max_width": null,
            "min_height": null,
            "min_width": null,
            "object_fit": null,
            "object_position": null,
            "order": null,
            "overflow": null,
            "overflow_x": null,
            "overflow_y": null,
            "padding": null,
            "right": null,
            "top": null,
            "visibility": null,
            "width": null
          }
        },
        "49fc90a9ce714cbaa7a5c56995d009ae": {
          "model_module": "@jupyter-widgets/base",
          "model_name": "LayoutModel",
          "model_module_version": "1.2.0",
          "state": {
            "_model_module": "@jupyter-widgets/base",
            "_model_module_version": "1.2.0",
            "_model_name": "LayoutModel",
            "_view_count": null,
            "_view_module": "@jupyter-widgets/base",
            "_view_module_version": "1.2.0",
            "_view_name": "LayoutView",
            "align_content": null,
            "align_items": null,
            "align_self": null,
            "border": null,
            "bottom": null,
            "display": null,
            "flex": null,
            "flex_flow": null,
            "grid_area": null,
            "grid_auto_columns": null,
            "grid_auto_flow": null,
            "grid_auto_rows": null,
            "grid_column": null,
            "grid_gap": null,
            "grid_row": null,
            "grid_template_areas": null,
            "grid_template_columns": null,
            "grid_template_rows": null,
            "height": null,
            "justify_content": null,
            "justify_items": null,
            "left": null,
            "margin": null,
            "max_height": null,
            "max_width": null,
            "min_height": null,
            "min_width": null,
            "object_fit": null,
            "object_position": null,
            "order": null,
            "overflow": null,
            "overflow_x": null,
            "overflow_y": null,
            "padding": null,
            "right": null,
            "top": null,
            "visibility": null,
            "width": null
          }
        },
        "b974a1d810424b948a704e31a698aa3b": {
          "model_module": "@jupyter-widgets/controls",
          "model_name": "DescriptionStyleModel",
          "model_module_version": "1.5.0",
          "state": {
            "_model_module": "@jupyter-widgets/controls",
            "_model_module_version": "1.5.0",
            "_model_name": "DescriptionStyleModel",
            "_view_count": null,
            "_view_module": "@jupyter-widgets/base",
            "_view_module_version": "1.2.0",
            "_view_name": "StyleView",
            "description_width": ""
          }
        },
        "8a25a10038a14634b15974c30dcd9561": {
          "model_module": "@jupyter-widgets/base",
          "model_name": "LayoutModel",
          "model_module_version": "1.2.0",
          "state": {
            "_model_module": "@jupyter-widgets/base",
            "_model_module_version": "1.2.0",
            "_model_name": "LayoutModel",
            "_view_count": null,
            "_view_module": "@jupyter-widgets/base",
            "_view_module_version": "1.2.0",
            "_view_name": "LayoutView",
            "align_content": null,
            "align_items": null,
            "align_self": null,
            "border": null,
            "bottom": null,
            "display": null,
            "flex": null,
            "flex_flow": null,
            "grid_area": null,
            "grid_auto_columns": null,
            "grid_auto_flow": null,
            "grid_auto_rows": null,
            "grid_column": null,
            "grid_gap": null,
            "grid_row": null,
            "grid_template_areas": null,
            "grid_template_columns": null,
            "grid_template_rows": null,
            "height": null,
            "justify_content": null,
            "justify_items": null,
            "left": null,
            "margin": null,
            "max_height": null,
            "max_width": null,
            "min_height": null,
            "min_width": null,
            "object_fit": null,
            "object_position": null,
            "order": null,
            "overflow": null,
            "overflow_x": null,
            "overflow_y": null,
            "padding": null,
            "right": null,
            "top": null,
            "visibility": null,
            "width": null
          }
        },
        "f54a3030d0664fd6ba593821c399b11c": {
          "model_module": "@jupyter-widgets/controls",
          "model_name": "ProgressStyleModel",
          "model_module_version": "1.5.0",
          "state": {
            "_model_module": "@jupyter-widgets/controls",
            "_model_module_version": "1.5.0",
            "_model_name": "ProgressStyleModel",
            "_view_count": null,
            "_view_module": "@jupyter-widgets/base",
            "_view_module_version": "1.2.0",
            "_view_name": "StyleView",
            "bar_color": null,
            "description_width": ""
          }
        },
        "10ae1873cde74f1a916ff0a489669988": {
          "model_module": "@jupyter-widgets/base",
          "model_name": "LayoutModel",
          "model_module_version": "1.2.0",
          "state": {
            "_model_module": "@jupyter-widgets/base",
            "_model_module_version": "1.2.0",
            "_model_name": "LayoutModel",
            "_view_count": null,
            "_view_module": "@jupyter-widgets/base",
            "_view_module_version": "1.2.0",
            "_view_name": "LayoutView",
            "align_content": null,
            "align_items": null,
            "align_self": null,
            "border": null,
            "bottom": null,
            "display": null,
            "flex": null,
            "flex_flow": null,
            "grid_area": null,
            "grid_auto_columns": null,
            "grid_auto_flow": null,
            "grid_auto_rows": null,
            "grid_column": null,
            "grid_gap": null,
            "grid_row": null,
            "grid_template_areas": null,
            "grid_template_columns": null,
            "grid_template_rows": null,
            "height": null,
            "justify_content": null,
            "justify_items": null,
            "left": null,
            "margin": null,
            "max_height": null,
            "max_width": null,
            "min_height": null,
            "min_width": null,
            "object_fit": null,
            "object_position": null,
            "order": null,
            "overflow": null,
            "overflow_x": null,
            "overflow_y": null,
            "padding": null,
            "right": null,
            "top": null,
            "visibility": null,
            "width": null
          }
        },
        "d7b594f0f4d844939c9e9cf6cfd6779e": {
          "model_module": "@jupyter-widgets/controls",
          "model_name": "DescriptionStyleModel",
          "model_module_version": "1.5.0",
          "state": {
            "_model_module": "@jupyter-widgets/controls",
            "_model_module_version": "1.5.0",
            "_model_name": "DescriptionStyleModel",
            "_view_count": null,
            "_view_module": "@jupyter-widgets/base",
            "_view_module_version": "1.2.0",
            "_view_name": "StyleView",
            "description_width": ""
          }
        },
        "fd354dd49cbf4c16865b6c5a6898a69e": {
          "model_module": "@jupyter-widgets/controls",
          "model_name": "HBoxModel",
          "model_module_version": "1.5.0",
          "state": {
            "_dom_classes": [],
            "_model_module": "@jupyter-widgets/controls",
            "_model_module_version": "1.5.0",
            "_model_name": "HBoxModel",
            "_view_count": null,
            "_view_module": "@jupyter-widgets/controls",
            "_view_module_version": "1.5.0",
            "_view_name": "HBoxView",
            "box_style": "",
            "children": [
              "IPY_MODEL_eedb94261338494ba07b78cac6aa3a77",
              "IPY_MODEL_12c93cdfd6fe4d818a88637cf2927625",
              "IPY_MODEL_50475fd5d5534ac88009363d3aabfe3f"
            ],
            "layout": "IPY_MODEL_bd9457b7697945ce9dcad53d20401e13"
          }
        },
        "eedb94261338494ba07b78cac6aa3a77": {
          "model_module": "@jupyter-widgets/controls",
          "model_name": "HTMLModel",
          "model_module_version": "1.5.0",
          "state": {
            "_dom_classes": [],
            "_model_module": "@jupyter-widgets/controls",
            "_model_module_version": "1.5.0",
            "_model_name": "HTMLModel",
            "_view_count": null,
            "_view_module": "@jupyter-widgets/controls",
            "_view_module_version": "1.5.0",
            "_view_name": "HTMLView",
            "description": "",
            "description_tooltip": null,
            "layout": "IPY_MODEL_cd2cd7ad9ba44156ae4a82e1094415a9",
            "placeholder": "​",
            "style": "IPY_MODEL_68f967a00d7a4a58914bc68d0f2e60a6",
            "value": "Downloading: 100%"
          }
        },
        "12c93cdfd6fe4d818a88637cf2927625": {
          "model_module": "@jupyter-widgets/controls",
          "model_name": "FloatProgressModel",
          "model_module_version": "1.5.0",
          "state": {
            "_dom_classes": [],
            "_model_module": "@jupyter-widgets/controls",
            "_model_module_version": "1.5.0",
            "_model_name": "FloatProgressModel",
            "_view_count": null,
            "_view_module": "@jupyter-widgets/controls",
            "_view_module_version": "1.5.0",
            "_view_name": "ProgressView",
            "bar_style": "success",
            "description": "",
            "description_tooltip": null,
            "layout": "IPY_MODEL_cf188d20d267446992bc1b96ad4d2039",
            "max": 456318,
            "min": 0,
            "orientation": "horizontal",
            "style": "IPY_MODEL_028f83e1b9f34bb6869239a1e21c44ea",
            "value": 456318
          }
        },
        "50475fd5d5534ac88009363d3aabfe3f": {
          "model_module": "@jupyter-widgets/controls",
          "model_name": "HTMLModel",
          "model_module_version": "1.5.0",
          "state": {
            "_dom_classes": [],
            "_model_module": "@jupyter-widgets/controls",
            "_model_module_version": "1.5.0",
            "_model_name": "HTMLModel",
            "_view_count": null,
            "_view_module": "@jupyter-widgets/controls",
            "_view_module_version": "1.5.0",
            "_view_name": "HTMLView",
            "description": "",
            "description_tooltip": null,
            "layout": "IPY_MODEL_c4eb20b68007485c96c00c90734e7e7d",
            "placeholder": "​",
            "style": "IPY_MODEL_b5c743c1833f4bc483e7b0b626f46161",
            "value": " 456k/456k [00:00&lt;00:00, 321kB/s]"
          }
        },
        "bd9457b7697945ce9dcad53d20401e13": {
          "model_module": "@jupyter-widgets/base",
          "model_name": "LayoutModel",
          "model_module_version": "1.2.0",
          "state": {
            "_model_module": "@jupyter-widgets/base",
            "_model_module_version": "1.2.0",
            "_model_name": "LayoutModel",
            "_view_count": null,
            "_view_module": "@jupyter-widgets/base",
            "_view_module_version": "1.2.0",
            "_view_name": "LayoutView",
            "align_content": null,
            "align_items": null,
            "align_self": null,
            "border": null,
            "bottom": null,
            "display": null,
            "flex": null,
            "flex_flow": null,
            "grid_area": null,
            "grid_auto_columns": null,
            "grid_auto_flow": null,
            "grid_auto_rows": null,
            "grid_column": null,
            "grid_gap": null,
            "grid_row": null,
            "grid_template_areas": null,
            "grid_template_columns": null,
            "grid_template_rows": null,
            "height": null,
            "justify_content": null,
            "justify_items": null,
            "left": null,
            "margin": null,
            "max_height": null,
            "max_width": null,
            "min_height": null,
            "min_width": null,
            "object_fit": null,
            "object_position": null,
            "order": null,
            "overflow": null,
            "overflow_x": null,
            "overflow_y": null,
            "padding": null,
            "right": null,
            "top": null,
            "visibility": null,
            "width": null
          }
        },
        "cd2cd7ad9ba44156ae4a82e1094415a9": {
          "model_module": "@jupyter-widgets/base",
          "model_name": "LayoutModel",
          "model_module_version": "1.2.0",
          "state": {
            "_model_module": "@jupyter-widgets/base",
            "_model_module_version": "1.2.0",
            "_model_name": "LayoutModel",
            "_view_count": null,
            "_view_module": "@jupyter-widgets/base",
            "_view_module_version": "1.2.0",
            "_view_name": "LayoutView",
            "align_content": null,
            "align_items": null,
            "align_self": null,
            "border": null,
            "bottom": null,
            "display": null,
            "flex": null,
            "flex_flow": null,
            "grid_area": null,
            "grid_auto_columns": null,
            "grid_auto_flow": null,
            "grid_auto_rows": null,
            "grid_column": null,
            "grid_gap": null,
            "grid_row": null,
            "grid_template_areas": null,
            "grid_template_columns": null,
            "grid_template_rows": null,
            "height": null,
            "justify_content": null,
            "justify_items": null,
            "left": null,
            "margin": null,
            "max_height": null,
            "max_width": null,
            "min_height": null,
            "min_width": null,
            "object_fit": null,
            "object_position": null,
            "order": null,
            "overflow": null,
            "overflow_x": null,
            "overflow_y": null,
            "padding": null,
            "right": null,
            "top": null,
            "visibility": null,
            "width": null
          }
        },
        "68f967a00d7a4a58914bc68d0f2e60a6": {
          "model_module": "@jupyter-widgets/controls",
          "model_name": "DescriptionStyleModel",
          "model_module_version": "1.5.0",
          "state": {
            "_model_module": "@jupyter-widgets/controls",
            "_model_module_version": "1.5.0",
            "_model_name": "DescriptionStyleModel",
            "_view_count": null,
            "_view_module": "@jupyter-widgets/base",
            "_view_module_version": "1.2.0",
            "_view_name": "StyleView",
            "description_width": ""
          }
        },
        "cf188d20d267446992bc1b96ad4d2039": {
          "model_module": "@jupyter-widgets/base",
          "model_name": "LayoutModel",
          "model_module_version": "1.2.0",
          "state": {
            "_model_module": "@jupyter-widgets/base",
            "_model_module_version": "1.2.0",
            "_model_name": "LayoutModel",
            "_view_count": null,
            "_view_module": "@jupyter-widgets/base",
            "_view_module_version": "1.2.0",
            "_view_name": "LayoutView",
            "align_content": null,
            "align_items": null,
            "align_self": null,
            "border": null,
            "bottom": null,
            "display": null,
            "flex": null,
            "flex_flow": null,
            "grid_area": null,
            "grid_auto_columns": null,
            "grid_auto_flow": null,
            "grid_auto_rows": null,
            "grid_column": null,
            "grid_gap": null,
            "grid_row": null,
            "grid_template_areas": null,
            "grid_template_columns": null,
            "grid_template_rows": null,
            "height": null,
            "justify_content": null,
            "justify_items": null,
            "left": null,
            "margin": null,
            "max_height": null,
            "max_width": null,
            "min_height": null,
            "min_width": null,
            "object_fit": null,
            "object_position": null,
            "order": null,
            "overflow": null,
            "overflow_x": null,
            "overflow_y": null,
            "padding": null,
            "right": null,
            "top": null,
            "visibility": null,
            "width": null
          }
        },
        "028f83e1b9f34bb6869239a1e21c44ea": {
          "model_module": "@jupyter-widgets/controls",
          "model_name": "ProgressStyleModel",
          "model_module_version": "1.5.0",
          "state": {
            "_model_module": "@jupyter-widgets/controls",
            "_model_module_version": "1.5.0",
            "_model_name": "ProgressStyleModel",
            "_view_count": null,
            "_view_module": "@jupyter-widgets/base",
            "_view_module_version": "1.2.0",
            "_view_name": "StyleView",
            "bar_color": null,
            "description_width": ""
          }
        },
        "c4eb20b68007485c96c00c90734e7e7d": {
          "model_module": "@jupyter-widgets/base",
          "model_name": "LayoutModel",
          "model_module_version": "1.2.0",
          "state": {
            "_model_module": "@jupyter-widgets/base",
            "_model_module_version": "1.2.0",
            "_model_name": "LayoutModel",
            "_view_count": null,
            "_view_module": "@jupyter-widgets/base",
            "_view_module_version": "1.2.0",
            "_view_name": "LayoutView",
            "align_content": null,
            "align_items": null,
            "align_self": null,
            "border": null,
            "bottom": null,
            "display": null,
            "flex": null,
            "flex_flow": null,
            "grid_area": null,
            "grid_auto_columns": null,
            "grid_auto_flow": null,
            "grid_auto_rows": null,
            "grid_column": null,
            "grid_gap": null,
            "grid_row": null,
            "grid_template_areas": null,
            "grid_template_columns": null,
            "grid_template_rows": null,
            "height": null,
            "justify_content": null,
            "justify_items": null,
            "left": null,
            "margin": null,
            "max_height": null,
            "max_width": null,
            "min_height": null,
            "min_width": null,
            "object_fit": null,
            "object_position": null,
            "order": null,
            "overflow": null,
            "overflow_x": null,
            "overflow_y": null,
            "padding": null,
            "right": null,
            "top": null,
            "visibility": null,
            "width": null
          }
        },
        "b5c743c1833f4bc483e7b0b626f46161": {
          "model_module": "@jupyter-widgets/controls",
          "model_name": "DescriptionStyleModel",
          "model_module_version": "1.5.0",
          "state": {
            "_model_module": "@jupyter-widgets/controls",
            "_model_module_version": "1.5.0",
            "_model_name": "DescriptionStyleModel",
            "_view_count": null,
            "_view_module": "@jupyter-widgets/base",
            "_view_module_version": "1.2.0",
            "_view_name": "StyleView",
            "description_width": ""
          }
        },
        "e80f7e3656b84f85ad313443c37854ee": {
          "model_module": "@jupyter-widgets/controls",
          "model_name": "HBoxModel",
          "model_module_version": "1.5.0",
          "state": {
            "_dom_classes": [],
            "_model_module": "@jupyter-widgets/controls",
            "_model_module_version": "1.5.0",
            "_model_name": "HBoxModel",
            "_view_count": null,
            "_view_module": "@jupyter-widgets/controls",
            "_view_module_version": "1.5.0",
            "_view_name": "HBoxView",
            "box_style": "",
            "children": [
              "IPY_MODEL_5236a31c06d64c029b80037926b783bd",
              "IPY_MODEL_63cce45a8f9549059cf8c93ac1170e61",
              "IPY_MODEL_165491c49b674de6b0875ad6f0484043"
            ],
            "layout": "IPY_MODEL_b62d96092509481db91f4f64a6faf4b0"
          }
        },
        "5236a31c06d64c029b80037926b783bd": {
          "model_module": "@jupyter-widgets/controls",
          "model_name": "HTMLModel",
          "model_module_version": "1.5.0",
          "state": {
            "_dom_classes": [],
            "_model_module": "@jupyter-widgets/controls",
            "_model_module_version": "1.5.0",
            "_model_name": "HTMLModel",
            "_view_count": null,
            "_view_module": "@jupyter-widgets/controls",
            "_view_module_version": "1.5.0",
            "_view_name": "HTMLView",
            "description": "",
            "description_tooltip": null,
            "layout": "IPY_MODEL_ae963809ac474ebc96803c8841db7810",
            "placeholder": "​",
            "style": "IPY_MODEL_f2b53de6ebd54d8d8af8bc11c575f46c",
            "value": "100%"
          }
        },
        "63cce45a8f9549059cf8c93ac1170e61": {
          "model_module": "@jupyter-widgets/controls",
          "model_name": "FloatProgressModel",
          "model_module_version": "1.5.0",
          "state": {
            "_dom_classes": [],
            "_model_module": "@jupyter-widgets/controls",
            "_model_module_version": "1.5.0",
            "_model_name": "FloatProgressModel",
            "_view_count": null,
            "_view_module": "@jupyter-widgets/controls",
            "_view_module_version": "1.5.0",
            "_view_name": "ProgressView",
            "bar_style": "success",
            "description": "",
            "description_tooltip": null,
            "layout": "IPY_MODEL_d3bee98214f5460abb45b4c8ae53f63d",
            "max": 2,
            "min": 0,
            "orientation": "horizontal",
            "style": "IPY_MODEL_dfb3d71f8b804b829f6171f5f61a85af",
            "value": 2
          }
        },
        "165491c49b674de6b0875ad6f0484043": {
          "model_module": "@jupyter-widgets/controls",
          "model_name": "HTMLModel",
          "model_module_version": "1.5.0",
          "state": {
            "_dom_classes": [],
            "_model_module": "@jupyter-widgets/controls",
            "_model_module_version": "1.5.0",
            "_model_name": "HTMLModel",
            "_view_count": null,
            "_view_module": "@jupyter-widgets/controls",
            "_view_module_version": "1.5.0",
            "_view_name": "HTMLView",
            "description": "",
            "description_tooltip": null,
            "layout": "IPY_MODEL_2df58057c2c9494095211fcd2adf4c21",
            "placeholder": "​",
            "style": "IPY_MODEL_90dd94ff0f254cc3b8be956ec923201e",
            "value": " 2/2 [00:01&lt;00:00,  1.05s/ba]"
          }
        },
        "b62d96092509481db91f4f64a6faf4b0": {
          "model_module": "@jupyter-widgets/base",
          "model_name": "LayoutModel",
          "model_module_version": "1.2.0",
          "state": {
            "_model_module": "@jupyter-widgets/base",
            "_model_module_version": "1.2.0",
            "_model_name": "LayoutModel",
            "_view_count": null,
            "_view_module": "@jupyter-widgets/base",
            "_view_module_version": "1.2.0",
            "_view_name": "LayoutView",
            "align_content": null,
            "align_items": null,
            "align_self": null,
            "border": null,
            "bottom": null,
            "display": null,
            "flex": null,
            "flex_flow": null,
            "grid_area": null,
            "grid_auto_columns": null,
            "grid_auto_flow": null,
            "grid_auto_rows": null,
            "grid_column": null,
            "grid_gap": null,
            "grid_row": null,
            "grid_template_areas": null,
            "grid_template_columns": null,
            "grid_template_rows": null,
            "height": null,
            "justify_content": null,
            "justify_items": null,
            "left": null,
            "margin": null,
            "max_height": null,
            "max_width": null,
            "min_height": null,
            "min_width": null,
            "object_fit": null,
            "object_position": null,
            "order": null,
            "overflow": null,
            "overflow_x": null,
            "overflow_y": null,
            "padding": null,
            "right": null,
            "top": null,
            "visibility": null,
            "width": null
          }
        },
        "ae963809ac474ebc96803c8841db7810": {
          "model_module": "@jupyter-widgets/base",
          "model_name": "LayoutModel",
          "model_module_version": "1.2.0",
          "state": {
            "_model_module": "@jupyter-widgets/base",
            "_model_module_version": "1.2.0",
            "_model_name": "LayoutModel",
            "_view_count": null,
            "_view_module": "@jupyter-widgets/base",
            "_view_module_version": "1.2.0",
            "_view_name": "LayoutView",
            "align_content": null,
            "align_items": null,
            "align_self": null,
            "border": null,
            "bottom": null,
            "display": null,
            "flex": null,
            "flex_flow": null,
            "grid_area": null,
            "grid_auto_columns": null,
            "grid_auto_flow": null,
            "grid_auto_rows": null,
            "grid_column": null,
            "grid_gap": null,
            "grid_row": null,
            "grid_template_areas": null,
            "grid_template_columns": null,
            "grid_template_rows": null,
            "height": null,
            "justify_content": null,
            "justify_items": null,
            "left": null,
            "margin": null,
            "max_height": null,
            "max_width": null,
            "min_height": null,
            "min_width": null,
            "object_fit": null,
            "object_position": null,
            "order": null,
            "overflow": null,
            "overflow_x": null,
            "overflow_y": null,
            "padding": null,
            "right": null,
            "top": null,
            "visibility": null,
            "width": null
          }
        },
        "f2b53de6ebd54d8d8af8bc11c575f46c": {
          "model_module": "@jupyter-widgets/controls",
          "model_name": "DescriptionStyleModel",
          "model_module_version": "1.5.0",
          "state": {
            "_model_module": "@jupyter-widgets/controls",
            "_model_module_version": "1.5.0",
            "_model_name": "DescriptionStyleModel",
            "_view_count": null,
            "_view_module": "@jupyter-widgets/base",
            "_view_module_version": "1.2.0",
            "_view_name": "StyleView",
            "description_width": ""
          }
        },
        "d3bee98214f5460abb45b4c8ae53f63d": {
          "model_module": "@jupyter-widgets/base",
          "model_name": "LayoutModel",
          "model_module_version": "1.2.0",
          "state": {
            "_model_module": "@jupyter-widgets/base",
            "_model_module_version": "1.2.0",
            "_model_name": "LayoutModel",
            "_view_count": null,
            "_view_module": "@jupyter-widgets/base",
            "_view_module_version": "1.2.0",
            "_view_name": "LayoutView",
            "align_content": null,
            "align_items": null,
            "align_self": null,
            "border": null,
            "bottom": null,
            "display": null,
            "flex": null,
            "flex_flow": null,
            "grid_area": null,
            "grid_auto_columns": null,
            "grid_auto_flow": null,
            "grid_auto_rows": null,
            "grid_column": null,
            "grid_gap": null,
            "grid_row": null,
            "grid_template_areas": null,
            "grid_template_columns": null,
            "grid_template_rows": null,
            "height": null,
            "justify_content": null,
            "justify_items": null,
            "left": null,
            "margin": null,
            "max_height": null,
            "max_width": null,
            "min_height": null,
            "min_width": null,
            "object_fit": null,
            "object_position": null,
            "order": null,
            "overflow": null,
            "overflow_x": null,
            "overflow_y": null,
            "padding": null,
            "right": null,
            "top": null,
            "visibility": null,
            "width": null
          }
        },
        "dfb3d71f8b804b829f6171f5f61a85af": {
          "model_module": "@jupyter-widgets/controls",
          "model_name": "ProgressStyleModel",
          "model_module_version": "1.5.0",
          "state": {
            "_model_module": "@jupyter-widgets/controls",
            "_model_module_version": "1.5.0",
            "_model_name": "ProgressStyleModel",
            "_view_count": null,
            "_view_module": "@jupyter-widgets/base",
            "_view_module_version": "1.2.0",
            "_view_name": "StyleView",
            "bar_color": null,
            "description_width": ""
          }
        },
        "2df58057c2c9494095211fcd2adf4c21": {
          "model_module": "@jupyter-widgets/base",
          "model_name": "LayoutModel",
          "model_module_version": "1.2.0",
          "state": {
            "_model_module": "@jupyter-widgets/base",
            "_model_module_version": "1.2.0",
            "_model_name": "LayoutModel",
            "_view_count": null,
            "_view_module": "@jupyter-widgets/base",
            "_view_module_version": "1.2.0",
            "_view_name": "LayoutView",
            "align_content": null,
            "align_items": null,
            "align_self": null,
            "border": null,
            "bottom": null,
            "display": null,
            "flex": null,
            "flex_flow": null,
            "grid_area": null,
            "grid_auto_columns": null,
            "grid_auto_flow": null,
            "grid_auto_rows": null,
            "grid_column": null,
            "grid_gap": null,
            "grid_row": null,
            "grid_template_areas": null,
            "grid_template_columns": null,
            "grid_template_rows": null,
            "height": null,
            "justify_content": null,
            "justify_items": null,
            "left": null,
            "margin": null,
            "max_height": null,
            "max_width": null,
            "min_height": null,
            "min_width": null,
            "object_fit": null,
            "object_position": null,
            "order": null,
            "overflow": null,
            "overflow_x": null,
            "overflow_y": null,
            "padding": null,
            "right": null,
            "top": null,
            "visibility": null,
            "width": null
          }
        },
        "90dd94ff0f254cc3b8be956ec923201e": {
          "model_module": "@jupyter-widgets/controls",
          "model_name": "DescriptionStyleModel",
          "model_module_version": "1.5.0",
          "state": {
            "_model_module": "@jupyter-widgets/controls",
            "_model_module_version": "1.5.0",
            "_model_name": "DescriptionStyleModel",
            "_view_count": null,
            "_view_module": "@jupyter-widgets/base",
            "_view_module_version": "1.2.0",
            "_view_name": "StyleView",
            "description_width": ""
          }
        },
        "0668ca3e836f41bcb3d54926a1a5594c": {
          "model_module": "@jupyter-widgets/controls",
          "model_name": "HBoxModel",
          "model_module_version": "1.5.0",
          "state": {
            "_dom_classes": [],
            "_model_module": "@jupyter-widgets/controls",
            "_model_module_version": "1.5.0",
            "_model_name": "HBoxModel",
            "_view_count": null,
            "_view_module": "@jupyter-widgets/controls",
            "_view_module_version": "1.5.0",
            "_view_name": "HBoxView",
            "box_style": "",
            "children": [
              "IPY_MODEL_37499008c3d74ca7b8f898f9d2b64d81",
              "IPY_MODEL_c12c5e9a14704fba82f4ed8e835a80a9",
              "IPY_MODEL_bd12e3d6d2ff4cba806d5ef3bd1b7e52"
            ],
            "layout": "IPY_MODEL_fa5bbc333e6b4ce1b28c885195a29c5a"
          }
        },
        "37499008c3d74ca7b8f898f9d2b64d81": {
          "model_module": "@jupyter-widgets/controls",
          "model_name": "HTMLModel",
          "model_module_version": "1.5.0",
          "state": {
            "_dom_classes": [],
            "_model_module": "@jupyter-widgets/controls",
            "_model_module_version": "1.5.0",
            "_model_name": "HTMLModel",
            "_view_count": null,
            "_view_module": "@jupyter-widgets/controls",
            "_view_module_version": "1.5.0",
            "_view_name": "HTMLView",
            "description": "",
            "description_tooltip": null,
            "layout": "IPY_MODEL_6d091de9d5de4f42b8078389f6b1bc22",
            "placeholder": "​",
            "style": "IPY_MODEL_769b4f96d81748ad87644fd91f8dca43",
            "value": "100%"
          }
        },
        "c12c5e9a14704fba82f4ed8e835a80a9": {
          "model_module": "@jupyter-widgets/controls",
          "model_name": "FloatProgressModel",
          "model_module_version": "1.5.0",
          "state": {
            "_dom_classes": [],
            "_model_module": "@jupyter-widgets/controls",
            "_model_module_version": "1.5.0",
            "_model_name": "FloatProgressModel",
            "_view_count": null,
            "_view_module": "@jupyter-widgets/controls",
            "_view_module_version": "1.5.0",
            "_view_name": "ProgressView",
            "bar_style": "success",
            "description": "",
            "description_tooltip": null,
            "layout": "IPY_MODEL_b4f80ebd2a164abd9d656a40e254a2fb",
            "max": 2,
            "min": 0,
            "orientation": "horizontal",
            "style": "IPY_MODEL_8946aeb7eb3d45d5a056bde34aebc3d7",
            "value": 2
          }
        },
        "bd12e3d6d2ff4cba806d5ef3bd1b7e52": {
          "model_module": "@jupyter-widgets/controls",
          "model_name": "HTMLModel",
          "model_module_version": "1.5.0",
          "state": {
            "_dom_classes": [],
            "_model_module": "@jupyter-widgets/controls",
            "_model_module_version": "1.5.0",
            "_model_name": "HTMLModel",
            "_view_count": null,
            "_view_module": "@jupyter-widgets/controls",
            "_view_module_version": "1.5.0",
            "_view_name": "HTMLView",
            "description": "",
            "description_tooltip": null,
            "layout": "IPY_MODEL_1f1d0a470a794fcf81dc7da58cb6e7fb",
            "placeholder": "​",
            "style": "IPY_MODEL_95243e25357142db98c363ae356b9b82",
            "value": " 2/2 [00:01&lt;00:00,  1.84ba/s]"
          }
        },
        "fa5bbc333e6b4ce1b28c885195a29c5a": {
          "model_module": "@jupyter-widgets/base",
          "model_name": "LayoutModel",
          "model_module_version": "1.2.0",
          "state": {
            "_model_module": "@jupyter-widgets/base",
            "_model_module_version": "1.2.0",
            "_model_name": "LayoutModel",
            "_view_count": null,
            "_view_module": "@jupyter-widgets/base",
            "_view_module_version": "1.2.0",
            "_view_name": "LayoutView",
            "align_content": null,
            "align_items": null,
            "align_self": null,
            "border": null,
            "bottom": null,
            "display": null,
            "flex": null,
            "flex_flow": null,
            "grid_area": null,
            "grid_auto_columns": null,
            "grid_auto_flow": null,
            "grid_auto_rows": null,
            "grid_column": null,
            "grid_gap": null,
            "grid_row": null,
            "grid_template_areas": null,
            "grid_template_columns": null,
            "grid_template_rows": null,
            "height": null,
            "justify_content": null,
            "justify_items": null,
            "left": null,
            "margin": null,
            "max_height": null,
            "max_width": null,
            "min_height": null,
            "min_width": null,
            "object_fit": null,
            "object_position": null,
            "order": null,
            "overflow": null,
            "overflow_x": null,
            "overflow_y": null,
            "padding": null,
            "right": null,
            "top": null,
            "visibility": null,
            "width": null
          }
        },
        "6d091de9d5de4f42b8078389f6b1bc22": {
          "model_module": "@jupyter-widgets/base",
          "model_name": "LayoutModel",
          "model_module_version": "1.2.0",
          "state": {
            "_model_module": "@jupyter-widgets/base",
            "_model_module_version": "1.2.0",
            "_model_name": "LayoutModel",
            "_view_count": null,
            "_view_module": "@jupyter-widgets/base",
            "_view_module_version": "1.2.0",
            "_view_name": "LayoutView",
            "align_content": null,
            "align_items": null,
            "align_self": null,
            "border": null,
            "bottom": null,
            "display": null,
            "flex": null,
            "flex_flow": null,
            "grid_area": null,
            "grid_auto_columns": null,
            "grid_auto_flow": null,
            "grid_auto_rows": null,
            "grid_column": null,
            "grid_gap": null,
            "grid_row": null,
            "grid_template_areas": null,
            "grid_template_columns": null,
            "grid_template_rows": null,
            "height": null,
            "justify_content": null,
            "justify_items": null,
            "left": null,
            "margin": null,
            "max_height": null,
            "max_width": null,
            "min_height": null,
            "min_width": null,
            "object_fit": null,
            "object_position": null,
            "order": null,
            "overflow": null,
            "overflow_x": null,
            "overflow_y": null,
            "padding": null,
            "right": null,
            "top": null,
            "visibility": null,
            "width": null
          }
        },
        "769b4f96d81748ad87644fd91f8dca43": {
          "model_module": "@jupyter-widgets/controls",
          "model_name": "DescriptionStyleModel",
          "model_module_version": "1.5.0",
          "state": {
            "_model_module": "@jupyter-widgets/controls",
            "_model_module_version": "1.5.0",
            "_model_name": "DescriptionStyleModel",
            "_view_count": null,
            "_view_module": "@jupyter-widgets/base",
            "_view_module_version": "1.2.0",
            "_view_name": "StyleView",
            "description_width": ""
          }
        },
        "b4f80ebd2a164abd9d656a40e254a2fb": {
          "model_module": "@jupyter-widgets/base",
          "model_name": "LayoutModel",
          "model_module_version": "1.2.0",
          "state": {
            "_model_module": "@jupyter-widgets/base",
            "_model_module_version": "1.2.0",
            "_model_name": "LayoutModel",
            "_view_count": null,
            "_view_module": "@jupyter-widgets/base",
            "_view_module_version": "1.2.0",
            "_view_name": "LayoutView",
            "align_content": null,
            "align_items": null,
            "align_self": null,
            "border": null,
            "bottom": null,
            "display": null,
            "flex": null,
            "flex_flow": null,
            "grid_area": null,
            "grid_auto_columns": null,
            "grid_auto_flow": null,
            "grid_auto_rows": null,
            "grid_column": null,
            "grid_gap": null,
            "grid_row": null,
            "grid_template_areas": null,
            "grid_template_columns": null,
            "grid_template_rows": null,
            "height": null,
            "justify_content": null,
            "justify_items": null,
            "left": null,
            "margin": null,
            "max_height": null,
            "max_width": null,
            "min_height": null,
            "min_width": null,
            "object_fit": null,
            "object_position": null,
            "order": null,
            "overflow": null,
            "overflow_x": null,
            "overflow_y": null,
            "padding": null,
            "right": null,
            "top": null,
            "visibility": null,
            "width": null
          }
        },
        "8946aeb7eb3d45d5a056bde34aebc3d7": {
          "model_module": "@jupyter-widgets/controls",
          "model_name": "ProgressStyleModel",
          "model_module_version": "1.5.0",
          "state": {
            "_model_module": "@jupyter-widgets/controls",
            "_model_module_version": "1.5.0",
            "_model_name": "ProgressStyleModel",
            "_view_count": null,
            "_view_module": "@jupyter-widgets/base",
            "_view_module_version": "1.2.0",
            "_view_name": "StyleView",
            "bar_color": null,
            "description_width": ""
          }
        },
        "1f1d0a470a794fcf81dc7da58cb6e7fb": {
          "model_module": "@jupyter-widgets/base",
          "model_name": "LayoutModel",
          "model_module_version": "1.2.0",
          "state": {
            "_model_module": "@jupyter-widgets/base",
            "_model_module_version": "1.2.0",
            "_model_name": "LayoutModel",
            "_view_count": null,
            "_view_module": "@jupyter-widgets/base",
            "_view_module_version": "1.2.0",
            "_view_name": "LayoutView",
            "align_content": null,
            "align_items": null,
            "align_self": null,
            "border": null,
            "bottom": null,
            "display": null,
            "flex": null,
            "flex_flow": null,
            "grid_area": null,
            "grid_auto_columns": null,
            "grid_auto_flow": null,
            "grid_auto_rows": null,
            "grid_column": null,
            "grid_gap": null,
            "grid_row": null,
            "grid_template_areas": null,
            "grid_template_columns": null,
            "grid_template_rows": null,
            "height": null,
            "justify_content": null,
            "justify_items": null,
            "left": null,
            "margin": null,
            "max_height": null,
            "max_width": null,
            "min_height": null,
            "min_width": null,
            "object_fit": null,
            "object_position": null,
            "order": null,
            "overflow": null,
            "overflow_x": null,
            "overflow_y": null,
            "padding": null,
            "right": null,
            "top": null,
            "visibility": null,
            "width": null
          }
        },
        "95243e25357142db98c363ae356b9b82": {
          "model_module": "@jupyter-widgets/controls",
          "model_name": "DescriptionStyleModel",
          "model_module_version": "1.5.0",
          "state": {
            "_model_module": "@jupyter-widgets/controls",
            "_model_module_version": "1.5.0",
            "_model_name": "DescriptionStyleModel",
            "_view_count": null,
            "_view_module": "@jupyter-widgets/base",
            "_view_module_version": "1.2.0",
            "_view_name": "StyleView",
            "description_width": ""
          }
        },
        "9cd8f173cffe490da4089761f5935240": {
          "model_module": "@jupyter-widgets/controls",
          "model_name": "HBoxModel",
          "model_module_version": "1.5.0",
          "state": {
            "_dom_classes": [],
            "_model_module": "@jupyter-widgets/controls",
            "_model_module_version": "1.5.0",
            "_model_name": "HBoxModel",
            "_view_count": null,
            "_view_module": "@jupyter-widgets/controls",
            "_view_module_version": "1.5.0",
            "_view_name": "HBoxView",
            "box_style": "",
            "children": [
              "IPY_MODEL_9501bfc9dc95497fb86a594c153a52f2",
              "IPY_MODEL_35d94753e78c4c6a9017a943d6aea1b4",
              "IPY_MODEL_74d6ecef5aa04f908270e4813b22c1a4"
            ],
            "layout": "IPY_MODEL_f22db273f7c842babeec958e6d8e1a98"
          }
        },
        "9501bfc9dc95497fb86a594c153a52f2": {
          "model_module": "@jupyter-widgets/controls",
          "model_name": "HTMLModel",
          "model_module_version": "1.5.0",
          "state": {
            "_dom_classes": [],
            "_model_module": "@jupyter-widgets/controls",
            "_model_module_version": "1.5.0",
            "_model_name": "HTMLModel",
            "_view_count": null,
            "_view_module": "@jupyter-widgets/controls",
            "_view_module_version": "1.5.0",
            "_view_name": "HTMLView",
            "description": "",
            "description_tooltip": null,
            "layout": "IPY_MODEL_8145f377419641c881f9d16e0bffc523",
            "placeholder": "​",
            "style": "IPY_MODEL_11c377c8f8b14372aa0ba73eb13ca79c",
            "value": "Downloading: 100%"
          }
        },
        "35d94753e78c4c6a9017a943d6aea1b4": {
          "model_module": "@jupyter-widgets/controls",
          "model_name": "FloatProgressModel",
          "model_module_version": "1.5.0",
          "state": {
            "_dom_classes": [],
            "_model_module": "@jupyter-widgets/controls",
            "_model_module_version": "1.5.0",
            "_model_name": "FloatProgressModel",
            "_view_count": null,
            "_view_module": "@jupyter-widgets/controls",
            "_view_module_version": "1.5.0",
            "_view_name": "ProgressView",
            "bar_style": "success",
            "description": "",
            "description_tooltip": null,
            "layout": "IPY_MODEL_9a312cb6d2834351baa5627c11b791ed",
            "max": 1222317369,
            "min": 0,
            "orientation": "horizontal",
            "style": "IPY_MODEL_1795e3721b9f45d4b86852c0054f6f19",
            "value": 1222317369
          }
        },
        "74d6ecef5aa04f908270e4813b22c1a4": {
          "model_module": "@jupyter-widgets/controls",
          "model_name": "HTMLModel",
          "model_module_version": "1.5.0",
          "state": {
            "_dom_classes": [],
            "_model_module": "@jupyter-widgets/controls",
            "_model_module_version": "1.5.0",
            "_model_name": "HTMLModel",
            "_view_count": null,
            "_view_module": "@jupyter-widgets/controls",
            "_view_module_version": "1.5.0",
            "_view_name": "HTMLView",
            "description": "",
            "description_tooltip": null,
            "layout": "IPY_MODEL_c3b00d05cdc64d0e808bacbab526a9c5",
            "placeholder": "​",
            "style": "IPY_MODEL_8a2889ffb2d7496d84d571eb8b01e82f",
            "value": " 1.22G/1.22G [01:03&lt;00:00, 17.3MB/s]"
          }
        },
        "f22db273f7c842babeec958e6d8e1a98": {
          "model_module": "@jupyter-widgets/base",
          "model_name": "LayoutModel",
          "model_module_version": "1.2.0",
          "state": {
            "_model_module": "@jupyter-widgets/base",
            "_model_module_version": "1.2.0",
            "_model_name": "LayoutModel",
            "_view_count": null,
            "_view_module": "@jupyter-widgets/base",
            "_view_module_version": "1.2.0",
            "_view_name": "LayoutView",
            "align_content": null,
            "align_items": null,
            "align_self": null,
            "border": null,
            "bottom": null,
            "display": null,
            "flex": null,
            "flex_flow": null,
            "grid_area": null,
            "grid_auto_columns": null,
            "grid_auto_flow": null,
            "grid_auto_rows": null,
            "grid_column": null,
            "grid_gap": null,
            "grid_row": null,
            "grid_template_areas": null,
            "grid_template_columns": null,
            "grid_template_rows": null,
            "height": null,
            "justify_content": null,
            "justify_items": null,
            "left": null,
            "margin": null,
            "max_height": null,
            "max_width": null,
            "min_height": null,
            "min_width": null,
            "object_fit": null,
            "object_position": null,
            "order": null,
            "overflow": null,
            "overflow_x": null,
            "overflow_y": null,
            "padding": null,
            "right": null,
            "top": null,
            "visibility": null,
            "width": null
          }
        },
        "8145f377419641c881f9d16e0bffc523": {
          "model_module": "@jupyter-widgets/base",
          "model_name": "LayoutModel",
          "model_module_version": "1.2.0",
          "state": {
            "_model_module": "@jupyter-widgets/base",
            "_model_module_version": "1.2.0",
            "_model_name": "LayoutModel",
            "_view_count": null,
            "_view_module": "@jupyter-widgets/base",
            "_view_module_version": "1.2.0",
            "_view_name": "LayoutView",
            "align_content": null,
            "align_items": null,
            "align_self": null,
            "border": null,
            "bottom": null,
            "display": null,
            "flex": null,
            "flex_flow": null,
            "grid_area": null,
            "grid_auto_columns": null,
            "grid_auto_flow": null,
            "grid_auto_rows": null,
            "grid_column": null,
            "grid_gap": null,
            "grid_row": null,
            "grid_template_areas": null,
            "grid_template_columns": null,
            "grid_template_rows": null,
            "height": null,
            "justify_content": null,
            "justify_items": null,
            "left": null,
            "margin": null,
            "max_height": null,
            "max_width": null,
            "min_height": null,
            "min_width": null,
            "object_fit": null,
            "object_position": null,
            "order": null,
            "overflow": null,
            "overflow_x": null,
            "overflow_y": null,
            "padding": null,
            "right": null,
            "top": null,
            "visibility": null,
            "width": null
          }
        },
        "11c377c8f8b14372aa0ba73eb13ca79c": {
          "model_module": "@jupyter-widgets/controls",
          "model_name": "DescriptionStyleModel",
          "model_module_version": "1.5.0",
          "state": {
            "_model_module": "@jupyter-widgets/controls",
            "_model_module_version": "1.5.0",
            "_model_name": "DescriptionStyleModel",
            "_view_count": null,
            "_view_module": "@jupyter-widgets/base",
            "_view_module_version": "1.2.0",
            "_view_name": "StyleView",
            "description_width": ""
          }
        },
        "9a312cb6d2834351baa5627c11b791ed": {
          "model_module": "@jupyter-widgets/base",
          "model_name": "LayoutModel",
          "model_module_version": "1.2.0",
          "state": {
            "_model_module": "@jupyter-widgets/base",
            "_model_module_version": "1.2.0",
            "_model_name": "LayoutModel",
            "_view_count": null,
            "_view_module": "@jupyter-widgets/base",
            "_view_module_version": "1.2.0",
            "_view_name": "LayoutView",
            "align_content": null,
            "align_items": null,
            "align_self": null,
            "border": null,
            "bottom": null,
            "display": null,
            "flex": null,
            "flex_flow": null,
            "grid_area": null,
            "grid_auto_columns": null,
            "grid_auto_flow": null,
            "grid_auto_rows": null,
            "grid_column": null,
            "grid_gap": null,
            "grid_row": null,
            "grid_template_areas": null,
            "grid_template_columns": null,
            "grid_template_rows": null,
            "height": null,
            "justify_content": null,
            "justify_items": null,
            "left": null,
            "margin": null,
            "max_height": null,
            "max_width": null,
            "min_height": null,
            "min_width": null,
            "object_fit": null,
            "object_position": null,
            "order": null,
            "overflow": null,
            "overflow_x": null,
            "overflow_y": null,
            "padding": null,
            "right": null,
            "top": null,
            "visibility": null,
            "width": null
          }
        },
        "1795e3721b9f45d4b86852c0054f6f19": {
          "model_module": "@jupyter-widgets/controls",
          "model_name": "ProgressStyleModel",
          "model_module_version": "1.5.0",
          "state": {
            "_model_module": "@jupyter-widgets/controls",
            "_model_module_version": "1.5.0",
            "_model_name": "ProgressStyleModel",
            "_view_count": null,
            "_view_module": "@jupyter-widgets/base",
            "_view_module_version": "1.2.0",
            "_view_name": "StyleView",
            "bar_color": null,
            "description_width": ""
          }
        },
        "c3b00d05cdc64d0e808bacbab526a9c5": {
          "model_module": "@jupyter-widgets/base",
          "model_name": "LayoutModel",
          "model_module_version": "1.2.0",
          "state": {
            "_model_module": "@jupyter-widgets/base",
            "_model_module_version": "1.2.0",
            "_model_name": "LayoutModel",
            "_view_count": null,
            "_view_module": "@jupyter-widgets/base",
            "_view_module_version": "1.2.0",
            "_view_name": "LayoutView",
            "align_content": null,
            "align_items": null,
            "align_self": null,
            "border": null,
            "bottom": null,
            "display": null,
            "flex": null,
            "flex_flow": null,
            "grid_area": null,
            "grid_auto_columns": null,
            "grid_auto_flow": null,
            "grid_auto_rows": null,
            "grid_column": null,
            "grid_gap": null,
            "grid_row": null,
            "grid_template_areas": null,
            "grid_template_columns": null,
            "grid_template_rows": null,
            "height": null,
            "justify_content": null,
            "justify_items": null,
            "left": null,
            "margin": null,
            "max_height": null,
            "max_width": null,
            "min_height": null,
            "min_width": null,
            "object_fit": null,
            "object_position": null,
            "order": null,
            "overflow": null,
            "overflow_x": null,
            "overflow_y": null,
            "padding": null,
            "right": null,
            "top": null,
            "visibility": null,
            "width": null
          }
        },
        "8a2889ffb2d7496d84d571eb8b01e82f": {
          "model_module": "@jupyter-widgets/controls",
          "model_name": "DescriptionStyleModel",
          "model_module_version": "1.5.0",
          "state": {
            "_model_module": "@jupyter-widgets/controls",
            "_model_module_version": "1.5.0",
            "_model_name": "DescriptionStyleModel",
            "_view_count": null,
            "_view_module": "@jupyter-widgets/base",
            "_view_module_version": "1.2.0",
            "_view_name": "StyleView",
            "description_width": ""
          }
        }
      }
    }
  },
  "cells": [
    {
      "cell_type": "markdown",
      "metadata": {
        "id": "view-in-github",
        "colab_type": "text"
      },
      "source": [
        "<a href=\"https://colab.research.google.com/github/mayank-soni/text_summary/blob/transformer_train/notebooks/transformer_train_mayank.ipynb\" target=\"_parent\"><img src=\"https://colab.research.google.com/assets/colab-badge.svg\" alt=\"Open In Colab\"/></a>"
      ]
    },
    {
      "cell_type": "markdown",
      "source": [
        "# Install requirements"
      ],
      "metadata": {
        "id": "C0VfTktngmoZ"
      }
    },
    {
      "cell_type": "code",
      "source": [
        "! python --version"
      ],
      "metadata": {
        "id": "itGrHr11OKV8",
        "outputId": "718a29af-6222-4c7b-a61d-272398c8d038",
        "colab": {
          "base_uri": "https://localhost:8080/"
        }
      },
      "execution_count": 4,
      "outputs": [
        {
          "output_type": "stream",
          "name": "stdout",
          "text": [
            "Python 3.8.15\n"
          ]
        }
      ]
    },
    {
      "cell_type": "code",
      "execution_count": null,
      "metadata": {
        "id": "qiW1td-_feTu"
      },
      "outputs": [],
      "source": [
        "! pip install transformers datasets\n",
        "! pip install rouge-score nltk\n",
        "# ! pip install huggingface_hub"
      ]
    },
    {
      "cell_type": "markdown",
      "source": [
        "#Set parameters"
      ],
      "metadata": {
        "id": "8_U8-ekHmwh9"
      }
    },
    {
      "cell_type": "code",
      "source": [
        "model_checkpoint = 'sshleifer/distilbart-cnn-12-6'\n",
        "dataset_name = 'xsum'\n",
        "metric_name = 'rouge'"
      ],
      "metadata": {
        "id": "IjjAFBH4ft3E"
      },
      "execution_count": 2,
      "outputs": []
    },
    {
      "cell_type": "markdown",
      "source": [
        "# Loading data"
      ],
      "metadata": {
        "id": "v4F7Dmi6grwa"
      }
    },
    {
      "cell_type": "code",
      "source": [
        "import transformers"
      ],
      "metadata": {
        "id": "yWWSczY7i-SQ"
      },
      "execution_count": 3,
      "outputs": []
    },
    {
      "cell_type": "code",
      "source": [
        "from datasets import load_from_disk\n",
        "raw_datasets_t = load_from_disk('train_data')\n",
        "raw_datasets_v = load_from_disk('validation_data')"
      ],
      "metadata": {
        "id": "5-8Og6okglOh"
      },
      "execution_count": 9,
      "outputs": []
    },
    {
      "cell_type": "code",
      "source": [
        "print (raw_datasets_t)\n",
        "print(raw_datasets_v)"
      ],
      "metadata": {
        "colab": {
          "base_uri": "https://localhost:8080/"
        },
        "id": "5PydFjd9hYBm",
        "outputId": "bec03e79-3f20-41ab-ccb6-a213f185a8ac"
      },
      "execution_count": 10,
      "outputs": [
        {
          "output_type": "stream",
          "name": "stdout",
          "text": [
            "Dataset({\n",
            "    features: ['article', 'highlights', 'id'],\n",
            "    num_rows: 1020\n",
            "})\n",
            "Dataset({\n",
            "    features: ['article', 'highlights', 'id'],\n",
            "    num_rows: 1232\n",
            "})\n"
          ]
        }
      ]
    },
    {
      "cell_type": "code",
      "source": [
        "import random\n",
        "import pandas as pd\n",
        "import datasets\n",
        "from IPython.display import display, HTML\n",
        "\n",
        "\n",
        "def show_random_elements(dataset, num_examples=5, random_seed=36):\n",
        "    assert num_examples <= len(dataset), \"Can't pick more elements than there are in the dataset.\"\n",
        "    random.seed(random_seed)\n",
        "    picks = random.sample(range(len(dataset)), num_examples)\n",
        "    df = pd.DataFrame(dataset[picks])\n",
        "    for column, typ in dataset.features.items():\n",
        "      if isinstance(typ, datasets.ClassLabel):\n",
        "        df[column] = df[column].transform(lambda i: typ.names[i])\n",
        "    display(HTML(df.to_html()))\n",
        "    return df"
      ],
      "metadata": {
        "id": "_3IH9RfaheEj"
      },
      "execution_count": 15,
      "outputs": []
    },
    {
      "cell_type": "code",
      "source": [
        "data_t = show_random_elements(raw_datasets_t)\n",
        "# data.head()"
      ],
      "metadata": {
        "colab": {
          "base_uri": "https://localhost:8080/",
          "height": 1000
        },
        "id": "EBU1lJa-hvVe",
        "outputId": "c5569c60-3a40-4eb5-a103-32de22d7e7d4"
      },
      "execution_count": 17,
      "outputs": [
        {
          "output_type": "display_data",
          "data": {
            "text/plain": [
              "<IPython.core.display.HTML object>"
            ],
            "text/html": [
              "<table border=\"1\" class=\"dataframe\">\n",
              "  <thead>\n",
              "    <tr style=\"text-align: right;\">\n",
              "      <th></th>\n",
              "      <th>article</th>\n",
              "      <th>highlights</th>\n",
              "      <th>id</th>\n",
              "    </tr>\n",
              "  </thead>\n",
              "  <tbody>\n",
              "    <tr>\n",
              "      <th>0</th>\n",
              "      <td>Siem de Jong played 45 minutes for Newcastle Under 21s on his comeback from a collapsed lung. The 26-year-old made way at the break after coming through the first half of United's 2-0 defeat to Derby County at St James' Park. De Jong has made just one Premier League start since his £6million arrival from Ajax last summer. Newcastle midfielder Siem de Jong played 45 minutes for Peter Beardsley's Under 21 side on Wednesday . Farrend Rawson (third from right) is congratulated by his team-mates after scoring at St James' Park . He tore his thigh muscle in September and was days away from returning in February when, for the second time in two years, he suffered a collapsed lung and underwent surgery. De Jong was expected to miss the remainder of the season but now has an outside chance of featuring in the final six matches. However, on the evidence of a subdued half against the Rams, Sunday's visit of Spurs will almost certainly come too soon. Newcastle striker Adam Armstrong (right) is pulled back by Derby's Max Lowe . Armstrong (left) heads a cross towards Derby's goal but his effort flies wide of the post . Meanwhile, forgotten man Facundo Ferreyra replaced De Jong at the break. The 24-year-old Argentinian striker arrived on a season-long loan from Shakhtar Donetsk last summer but is yet to make his senior debut having been plagued by a string of injuries. Derby's victory arrived courtesy of second-half goals from Alefe Santos and Farrend Rawson.</td>\n",
              "      <td>Siem de Jong has made just one Premier League start this season .\\nThe 26-year-old has been plagued by injuries since joining from Ajax .\\nHe played 45 minutes as Newcastle lost 2-0 at home to Derby County .\\nLoanee Facundo Ferreyra replaced De Jong at half-time .\\nAlefe Santos and Farrend Rawson on target for the Rams at St James' Park .</td>\n",
              "      <td>f7b25ae2d51010ec62051aa98b16cd296e30ea8e</td>\n",
              "    </tr>\n",
              "    <tr>\n",
              "      <th>1</th>\n",
              "      <td>Reigning champion Novak Djokovic dug deep to avoid a shock exit at the hands of Alexandr Dolgopolov before powering into the quarter-finals of the Miami Open. The unseeded Dolgopolov - ranked 65th in the world, 64 places behind Djokovic - surprised the Serbian by winning a first-set tie-break and building a quick 4-2 lead in the second set. But Djokovic steeled himself and rallied to force a decider, which he wrapped up without much resistance from his deflated Ukrainian opponent. Novak Djokovic celebrates after securing a quarter-final place at the Miami Open . Novak Djokovic came back from a set down to reach the quarter-finals of the Miami Open on Tuesday . Alexandr Dolgopolov had both of his soles bandaged and won only three points in the final set . Djokovic claimed a succession of long exchanges in the second set to even the match and go on to win . The 6-7 (3/7) 7-5 6-0 triumph pits the world number one against David Ferrer in the last eight after the Spaniard saw off Gilles Simon 7-6 (7/5) 6-0 in a little over an hour and a half. Also through to the quarters are British number one Andy Murray and fourth seed Kei Nishikori. The Scot racked up a 500th career win by edging out Kevin Anderson 6-4 3-6 6-3 to book a meeting with Austrian Dominic Thiem, a 7-6 (7/5) 4-6 7-5 victor against Adrian Mannarino. Nishikori of Japan made light work of David Goffin and his 6-1 6-2 sees him progress to a match-up against big-serving American John Isner, who rallied to upset fifth seed Milos Raonic 6-7 (3/7) 7-6 (8/6) 7-6 (7/5) in a match which last two and three-quarter hours. David Ferrer celebrates after defeating Gilles Simon to book his place in the last eight . Simon is grounded after a fall during his defeat to Ferrer, who faces Novak Djokovic next . Andy Murray was given a celebratory cake to mark 500 wins on the ATP circuit after beating Kevin Anderson . Tomas Berdych also made it through to the quarter-finals by beating Gael Monfils . Kei Nishikori is also through to the last eight, defeating Serbia's Viktor Troicki . Czech challenger Tomas Berdych reached his sixth quarter-final of the season by beating Gael Monfils 6-3 3-2. The Frenchman conceded the match by retirement after suffering a heavy fall on court, and Berdych will meet Juan Monaco following the unseeded Argentinian's 6-3 6-3 conquest of Fernando Verdasco. In the women's competition, Carla Suarez Navarro lost the first set 6-0 but hit back to see off Venus Williams 0-6 6-1 7-5 and reach the semi-finals. There she will face Germany's Andrea Petkovic after the ninth seed beat Karolina Pliskova of the Czech Republic 6-4 6-2.</td>\n",
              "      <td>Novak Djokovic came from a set down to beat Alexandr Dolgopolov .\\nThe world No 1 remains in contention for his fifth Miami Open win .\\nDolgopolov became less mobile after receiving treatment to his feet .\\nDjokovic faces David Ferrer next after Spaniard beat Gilles Simon .\\nAndy Murray through after beating South Africa's Kevin Anderson .</td>\n",
              "      <td>c85f506937c58a9c2d0b01a8f4d3ba8bc9dba746</td>\n",
              "    </tr>\n",
              "    <tr>\n",
              "      <th>2</th>\n",
              "      <td>Real Madrid’s La Liga and Champions League chances have been dealt a major blow with confirmation that Luka Modric could miss the rest of the season with a knee injury. The Croatian midfielder pulled up in the second half against Malaga on Saturday and tests on Sunday confirmed a sprained ligament in his right knee with a recovery time of between five and six weeks. The news comes as the club wait to assess the full extent of Gareth Bale's calf injury, picked up in the same game. The connection between the former Tottenham pair is an essential part of Carlo Ancelotti's side's chances of picking up silverware this season. Former Tottenham midfielder Luka Modric is helped off the Bernabeu pitch by medical staff . Cristiano Ronaldo was the first Madrid player to go over to Gareth Bale, who picked up an injury on Saturday . Luka Modric hobbles off the Bernabeu pitch have sprained a ligament in his right knee on Saturday . Modric could still be back for the Champions League final but Real Madrid will have to get there without him. On Wednesday when they play the second leg of their quarter-final against Atletico Madrid, poised at 0-0 after the first 90 minutes, they will almost certainly also be without Bale. It’s one year on from his dramatic winner in the Copa del Rey final but Bale, who also scored in the Champions League final and the World Club Cup last year, is likely to be in a race to get back before the Champions League semi-finals on 5-6 May should Real reach them. Gareth Bale went down injured after less than five minutes at the Bernabeu on Saturday evening . Real Madrid will have Karim Benzema back against Atletico so he will partner Crisitano Ronaldo up front with James Rodriguez, Toni Kroos and Isco plus whoever Ancelotti calls upon to replace Modric in a midfield four. German international Sami Khedira and former Real Sociedad player Asier Illaramendi are the options. Bale’s absence will be a massive blow for Ancelotti. He said in midweek: ‘Bale was fantastic last season and has been very good this year. He scored goals in the finals last season and he will be important for us as this season reaches its climax.’ And most Real Madrid supporters see Modric as even more important to the team. The Croatian injured himself towards the end of last year and when he missed three months of football it coincided with the team’s worst run of form. The Welsh forward was forced off and faces a race to be fit for Real's Champions League quarter-final . The Spanish press reacts to Real Madrid's injury 'crisis' having beaten Malaga 3-1 on Saturday . Cristiano Ronaldo celebrates after securing the 3-1 victory late on against Malaga on Saturday .</td>\n",
              "      <td>Luka Modric had to be replaced with a knee complaint on Saturday .\\nGareth Bale suffered a calf strain early on at the Bernabeu .\\nBale will almost certainly miss the clash with Atletico on Wednesday .\\nReal Madrid beat Malaga 3-1 to keep up the pressure on leaders Barcelona .\\nCarlo Ancelotti's side face rivals Atletico Madrid on Wednesday .</td>\n",
              "      <td>7a186935a187d02a0103a15008e5eea42d6d7128</td>\n",
              "    </tr>\n",
              "    <tr>\n",
              "      <th>3</th>\n",
              "      <td>The Irish Football Association is hoping that structural damage at its Windsor Park home in Belfast will not jeopardise the staging of the team's crucial Euro 2016 qualifier against Romania in June. Cracks in the structure of the West Stand were spotted on Tuesday morning and the area was sealed off as structural engineers carried out an assessment of the damage. 'The Irish FA became aware on Tuesday morning of some damage having been caused overnight to the West Stand of the National Football Stadium at Windsor Park,' an IFA spokesman told the Belfast Telegraph. Northern Ireland's Windsor Park suffered overnight damage to its West Stand on Monday night . 'The association is currently awaiting a report from the structural engineers.' Northern Ireland played at Windsor Park on Sunday evening, beating Finland 2-1 in Euro 2016 qualifying to stay second in Group F. The next qualifier for Michael O'Neill's side is against pool leaders Romania on June 13, although club matches are scheduled to be played at Windsor Park before then. Linfield and Crusaders are due to play there in the Irish Premiership on Saturday and the Irish Cup final between Glentoran and Portadown is planned for May 2. Northern Ireland striker Kyle Lafferty of  scored both of their goals in their 2-1 win over Finland on Sunday . Windsor Park is currently undergoing major redevelopment and only the West and North stands, which hold around 4,000 and 6,000 spectators respectively, currently remain with the East and South stands demolished. The project, due to be completed in October in 2015, will increase the capacity of a ground first opened in 1905 from 14,000 to 18,000. More than 10,000 fans saw the Finland game and the IFA said the stadium was assessed as safe before the match kicked off. A general view of Windsor Park during a World Cup qualifier between Northern Ireland and Slovakia in 2009 .</td>\n",
              "      <td>Northern Ireland beat Finland 2-1 in their Euro 2016 qualifier on Sunday .\\nNorthern Ireland host Romania next in June at Windsor Park .\\nMatch at venue is dependent on structural engineers damage assessment .\\nWindsor Park's West Stand suffered damage on Monday night .</td>\n",
              "      <td>76aeceff1520b88a584a3235daf944b5cec41419</td>\n",
              "    </tr>\n",
              "    <tr>\n",
              "      <th>4</th>\n",
              "      <td>A young father who died in a paragliding accident on Monday afternoon posted pictures of his view from the sky just hours before he lost control of his powered paramotor. Kyle Wittstock, 22, posted photos from the air with the caption 'Guess where I am?', showing the beach and water far below his dangling feet. The paraglider was swept into a garage door of a house on Linksman Street in Yanchep, Perth, by a strong wind at approximately 3.30pm on Monday afternoon. Kyle Wittstock, 22, died on Monday afternoon after his paraglider crashed into a garage door . Mr Wittstock was taken to Joondalup Hospital by emergency services and was pronounced dead shortly after arrival, reported 9news. The 22-year-old left behind a fiance and a nine-week-old daughter, who he referred to as his 'little lion cub' in Facebook posts. 'So lucky to have a family like mine!!! I appreciate it a lot...my two girls life couldn't be any better,' Mr Wittstock posted earlier in the year, along with several photos of his new daughter and the slogan 'family is everything'. He also posted several pictures of himself in February in the air with his new paramotor. 'Had an awesome flight today with my new wing about time I took it out !! Found my 2nd lover haha,' he posted, shortly before posting a photo of his 'view for this wonderful day!!! Blessed!'. The 22-year-old left behind a fiance and a nine-week-old daughter . Family and friends were quick to post their condolences and memories of Mr Wittstock . 'I am going to miss you my buddy there wasn't one day we never laughed together thank you for spending a lot of your life with me,' one friend wrote of Mr Wittstock . Friends and family were quick to express their grief and shock over Mr Wittstock's accident, with some unsure whether the footage they had seen on the news was his glider. 'A bit random but just watching the news.. You all good??' posted one friend. 'Have you seen the news dude, hope you ok up there!' said another. A woman identifying herself as Mr Wittstock's sister confirmed that her brother had died and asked for the support of their loved ones. 'Kyle has been involved in an accident and has passed away. Keep us in your thoughts and prayers. We are all in shock,' she wrote. Mr Wittstock posted several photos of himself with his newborn daughter and called her his 'lion cub' 'I am going to miss you my buddy there wasn't one day we never laughed together thank you for spending a lot of your life with me,' posted one friend . She later uploaded a collage of images of her and Mr Wittstock, along with the tag 'RIP brother'. 'Far too soon for this to happen. I wished and wished, prayed it wasn't you but my pray wasn't answered. I love you man!! Rest in peace!!' said one of Mr Wittstock's friends. 'I am going to miss you my buddy there wasn't one day we never laughed together thank you for spending a lot of your life with me,' said another. Perth MX, a local motorcycling company, paid tribute to the 22-year-old, who was revealed as an avid motorcross rider. 'Perth MX Really saddened by the news today, RIP Kyle Wittstock a great fun guy at motocross, always there to say hello,' the post read. 'Top and tough little mx-er in Juniors, and just a great fella. At PerthMX our thoughts are with Kyle's friends and family at this time and also with his little daughter. Rest In Peace Kyle'. Mr Wittstock also posted several pictures of himself in February in the air with his new paramotor .</td>\n",
              "      <td>Kyle Wittstock crashed into a garage door when his paraglider was swept to the ground by a strong wind .\\nThe 22-year-old was taken to hospital and pronounced dead .\\nHe leaves behind a fiance and nine-week-old daughter .\\nMr Wittstock posted pictures of himself in the air hours before the crash .\\nFriends and family were quick to express their grief over his death .</td>\n",
              "      <td>0aa62c258c24ccec5d59272d0c7c04df9630d588</td>\n",
              "    </tr>\n",
              "  </tbody>\n",
              "</table>"
            ]
          },
          "metadata": {}
        }
      ]
    },
    {
      "cell_type": "code",
      "source": [
        "data_v = show_random_elements(raw_datasets_v)"
      ],
      "metadata": {
        "id": "5vMPc9r5RfRE",
        "outputId": "e2953c88-68fa-4f1f-c72e-456f8b4cf61e",
        "colab": {
          "base_uri": "https://localhost:8080/",
          "height": 1000
        }
      },
      "execution_count": 18,
      "outputs": [
        {
          "output_type": "display_data",
          "data": {
            "text/plain": [
              "<IPython.core.display.HTML object>"
            ],
            "text/html": [
              "<table border=\"1\" class=\"dataframe\">\n",
              "  <thead>\n",
              "    <tr style=\"text-align: right;\">\n",
              "      <th></th>\n",
              "      <th>article</th>\n",
              "      <th>highlights</th>\n",
              "      <th>id</th>\n",
              "    </tr>\n",
              "  </thead>\n",
              "  <tbody>\n",
              "    <tr>\n",
              "      <th>0</th>\n",
              "      <td>Illinois Rep. Aaron Schock billed taxpayers for more than $10,000 on private flights last fall, including a trip on a private jet to a Chicago Bears football game. The flights last November don't include more than a dozen other trips on donors' planes that Schock has paid for out of his House office expenses or campaign funds since joining Congress in 2009. Schock, a 33-year-old Republican representing Peoria, had already been facing scrutiny for using congressional funds to redecorate his Capitol Hill office in the style of the TV show 'Downton Abbey.' He repaid those charges last month out of his own pocket; his office had said it's reviewing other expenses. Rep. Aaron Schockis accused of billing taxpayers for more than $10,000 on private flights last fall that included a trip to a Chicago Bears football game . Schock and his entourage flew in an Eclipse 500 aircraft like this one . The Chicago Sun-Times reported Sunday night that Schock flew from Peoria, Illinois to Chicago to attend a Bears game against the Minnesota Vikings on November 16, 2014 . Overall, according to the paper, he used $20,855 in taxpayer money for the Chicago trip and another to New York in September, where his political action committee spent another $3,000 for tickets to the Global Citizen Festival concert. This week Schock reportedly hired a pair of lawyers to audit his political and legislative operations. Spokesmen for Schock declined to comment to the Sun-Times and the Chicago Tribune, and did not respond to a request from Daily Mail Online. In a statement last week they said a legal team was already poring over 'compliance procedures in his official office, campaign and leadership PAC to determine whether they can be improved.' The football game was part of a longer trip on a chartered six-seat business jet that took off from a civil aviation airport in Manassas, Virginia en route to Peoria on a Friday. The Bears defeated the Vikings but the game may ultimately defeat a congressman . DOWNTON OFFICE: Schock spent $40,000 in taxpayer funds redecorating his Capitol Hill office, but had to pay the money back . The Sunday trip was a sideline before the aircraft returned to Washington, D.C.'s Ronald Reagan National Airport a day later. All the seats were filled, according to pilot Keith Siilats, who told the Sun-Times that Schock's district director Dayne LaHood and three others were aboard. He also said he accompanied the congressman and his group to the football game. He was paid $10,802 for 'commercial transportation' in November, the last month for which numbers are available. 'That whole weekend was paid by the government,' he said. Schock 'called me on Saturday and said \"what do you think about’ a Chicago trip?\"' Siilats recalled for the paper. Chicago Bears single-game tickets range in cost from $106 to $430. It's not clear who paid for them.</td>\n",
              "      <td>Illinois Republican used his House office expense budget for more than $10,000 in private flights including the November NFL jaunt .\\nTook his district director, his pilot and three others to see the Bears play the Minnesota Vikings in November .\\nHe has had to pay back taxpayers for $40,000 in office renovations styled after 'Downton Abbey'</td>\n",
              "      <td>fec80230c01b5c71fc7598c3e035be33cb787331</td>\n",
              "    </tr>\n",
              "    <tr>\n",
              "      <th>1</th>\n",
              "      <td>Arsenal legend Robert Pires' son is following in his father's footsteps after training with the club's academy. Theo Pires, seven, completed his first training session at the club's Hale End youth complex in Walthamstow this week. Pires spent six years at Arsenal, helping Arsene Wenger's side dominate English football winning two Premier League titles and three FA Cups during his stay in north London. Robert Pires' son Theo, 7, pictured with his father and Alexis Sanchez, has trained with the Arsenal academy . The youngster was spotted at the Emirates Stadium earlier this year watching Arsenal beat Stoke City . Theo completed his first session at the Hale End academy in Walthamstow this week . And now his son has taken his first steps towards, perhaps, representing the Gunners' first team after training with the academy. Theo's skills were first highlighted by Robert's wife Jessica, who showed off a video tagged 'Theo The Great' on Instagram last year. The youngster was shown skipping past his father and others. He was also pictured at the Emirates Stadium in January, watching Arsenal beat Stoke City in the Premier League and posing for snaps with Alexis Sanchez after the game. Pires celebrates with the Premiership trophy after Arsenal beat Everton in 2002 . Pires spent six years with the Gunners and established himself as a club hero .</td>\n",
              "      <td>Theo Pires, 7, completes first training session at Hale End youth complex .\\nFather Robert spent six years Arsenal, winning two Premier League titles .\\nTheo has been pictured at the Emirates Stadium this season .\\nPoses for selfie with father and Gunners star Alexis Sanchez in January .</td>\n",
              "      <td>65a53af5b026c7471a4a8d20b8a0bc963d5868ca</td>\n",
              "    </tr>\n",
              "    <tr>\n",
              "      <th>2</th>\n",
              "      <td>Andy Murray responded to an earsplitting welcome from his adoring Scottish crowd to put Great Britain 1-0 up in their Davis Cup first round against the United States. In front of a packed 7,700 crowd at a Union Jack-bedecked Emirates Arena in Glasgow he recovered from a brief lull to eventually crush American number two Donald Young 6-1 6-1 4-6 6-2 in just under two hours. The match was over quick enough for Murray to remain as the likely option to play in tomorrow’s doubles alongside brother Jamie in the event of the tie ending level today at 1-1. Andy Murray lets out a celebratory scream as the Brit beats Donald Young in the David Cup . The British No 1 sunk Donald in front of a home crowd in Glasgow, winning the match in four sets . Australian Open finalist Murray pumps the air after claiming victory for Great Britain . Murray beat Young during day 1 of the Davis Cup match between Great Britain and USA . British No 1 Murray won the first two sets against the American . 'To play in front of this crowd is very special and I’m glad I managed to play a good match and get the win,' said Murray. 'I played an extremely high level in the first two sets and it was tough to keep that intensity up. I had a slight lull in the middle of the third set and Donald settled down.' After getting a deafening reception when he walked onto the court Murray needed to control his emotions sufficiently to concentrate on beating the world number 47 from Atlanta. The pair knocked up in slightly surreal circumstances to the crowd singing along with Runrig’s ‘Loch Lomond’ and that seemed to inspire the former Wimbledon champion and unnerve the ex junior world number one. Donald Young fought back to take the third set 6-4 but was not able to stage a comeback . Murray saw out the match in the fourth set as Great Britain got off to the perfect start against the US . Australian Open finalist Murray celebrates after winning a point against opponent Young . Murray shows his frustration during the match against Young in Glasgow on Friday . Murray rattled through the first set, not dropping a point on serve as he took it in 21 minutes. He was equally unwavering in taking the second after just 47 minutes’ overall play with Young pressing too hard and making errors galore on the slow indoor court. The American lefthander found his range more in the third and when the Scot put in a poor game at the end of it was good enough to close it out. To the delight of a partisan but well-behaved crowd he regained his focus in the fourth set and took it after another two breaks. His fist pumping celebration spoke of how much it meant to him. British number two was up against the huge serving John Isner in the singles rubber that followed.</td>\n",
              "      <td>Andy Murray beat Donald Young in Great Britain's opening match vs USA .\\nMurray took the first two sets against Young 6-1 in the Davis Cup clash .\\nAmerican fought back to win the third set 6-4 in the Davis Cup match .\\nThe Australian Open finalist took the fourth set 6-2 to complete the victory .</td>\n",
              "      <td>f2a4a2cbe62b688d4420ab3dcae69295a1c2170c</td>\n",
              "    </tr>\n",
              "    <tr>\n",
              "      <th>3</th>\n",
              "      <td>Ateltico Madrid fell seven points behind La Liga leaders Barcelona on Sunday as Diego Simeone's reigning Spanish league champions were held to a 1-1 draw at home to Valencia. Koke drilled Atletico into the lead in the 33rd minute with a fierce low strike from the edge of the area. But Valencia defender Shkodran Mustafi headed in a cross that goalkeeper Miguel Moya misjudged  in the 78th to deny Simeone's side a sixth straight home league win. Koke's fierce low strike was too much for Valencia goalkeeper Diego Alves to save . Koke leads the celebrations after putting Atletico into a first-half lead . Koke is mobbed by his team-mates after his goal had put Atletico ahead against rivals Valencia . Shkodran Mustafi (second right) headed in Valencia's equaliser in the 78th minute . Mustafi celebrates his header with Rodrigo Moreno in the draw at the Vicente Calderon . Mustafi's goal meant Spanish champions Atletico are seven points adrift of leaders Barcelona . The visitors had Javi Fuego sent-off for a second bookable offence in the final moments but held on for the draw. Valencia remain a point behind Ateltico in fourth place. Simeone elected to begin with Mario Mandzukic on the bench, starting with Fernando Torres in the absence of star striker Antoine Griezmann. Torres provided the assist for Koke's opener, heading down a free kick from Thiago Mendes for the midfielder to pounce upon. Atletico manager Diego Simeone gesticulates to his team during the draw at home to Valencia . Fernando Torres controls the ball and holds off Valencia's Argentina defender Nicolas Otamendi . Atletico midfielder Gabi (left) vies for the ball with Valencia defender Jose Gaya during the match . Torres was replaced by Mandzukic on the hour mark and ten minutes later, Thiago hit the crossbar form close range when he should have doubled Atletico's lead. It was a costly miss as Mustafi levelled on 78 after a free kick hit the crossbar. Barcelona replaced Real Madrid at the top of La Liga with a 6-1 win over Rayo Vallecano earlier on Sunday.</td>\n",
              "      <td>Koke lashed in for Atletico Madrid after 33 minutes on the edge of the area .\\nValencia equalised in the 78th through Shkodran Mustafi's header .\\nAtletico are now seven points behind leaders Barcelona in La Liga .</td>\n",
              "      <td>5c4de0f352c65d87aec8486da05930dd03eb628b</td>\n",
              "    </tr>\n",
              "    <tr>\n",
              "      <th>4</th>\n",
              "      <td>Arsene Wenger has confirmed Alex Oxlade-Chamberlain will miss up to four weeks with a hamstring injury. As Sportsmail revealed on Tuesday, Oxlade-Chamberlain will miss a clutch of Arsenal's fixtures - including next week's Champions League clash against Monaco - after suffering a hamstring strain in Monday's win over Manchester United. Speaking ahead of Arsenal's Premier League clash against West Ham, Wenger said: 'It's a hamstring injury. He'll be out for three to four weeks. Arsene Wenger has confirmed that Alex Oxlade-Chamberlain will be out of action for 'three to four weeks' Oxlade-Chamberlain suffered a hamstring injury during Arsenal's 2-1 FA Cup win against Manchester United . 'It's frustrating for him but he's played more games this season than before. He's shown his importance.' The Gunners star will also be unavailable for England's double-header against Lithuania and Italy at the end of the month. Wenger also confirmed Jack Wilshere, who is recovering from ankle injury, will not be available for Roy Hodgson to pick next week. He added: 'It's very difficult to say when he (Wilshere) will be back. We have to respect his recovery.' Meanwhile, Wenger has confirmed Hector Bellerin is in line to sign a new long-term contract at the Emirates Stadium, as Sportsmail revealed on Thursday. The 21-year-old midfielder has 'shown his importance' to the team, believes the Arsenal boss . Wenger was unable to put a time frame on Jack Wilshere's (right) return to action . The French boss also confirmed Hector Bellerin (right) is in line to sign a new long-term contract . Club captain Mikel Arteta is set to resume full training following an ankle injury suffered at the end of November, and is expected to be in contention again at the start of April. Arteta, 32, is out of contract in the summer, and is expected to agree a one-year extension. 'Normally I would like him to stay on, yes. He has a huge experience and is very important in the squad,' said Wenger, who also confirmed full-back Hector Bellerin was set for a new long-term deal. Arsenal can cement their place in the top four of the Barclays Premier League with victory over West Ham, who have slipped down to mid-table. Mikel Arteta is set to resume full training following an ankle injury suffered at the end of November . 'The mood is good as you can imagine, but focused as well because we know that every single game is a decisive game now, said Wenger, whose side head to Monaco next week looking to overturn a 3-1 first leg deficit. 'Every year it (making the top four) gets more difficult because you have more teams who can compete for it, and in future years it will be even harder. 'It is an important part to have a good mixture between focus and composure, that is not easy to find because the tension can be too big.'</td>\n",
              "      <td>Arsene Wenger reveals Alex Oxlade-Chamberlian will miss 'three to four weeks' with hamstring injury .\\nOxlade-Chamberlain suffered a hamstring injury during FA Cup clash against Manchester United .\\nWenger also confirms Jack Wilshere is still unavailable for selection .\\nArsenal face Premier League clash against West Ham United on Saturday .\\nREAD: Arsenal stars Mesut Ozil, Olivier Giroud and co talk fashion .\\nCLICK HERE for all the latest Arsenal news .</td>\n",
              "      <td>17f118453e99afba7d9a8ca13684981ff2d7cd40</td>\n",
              "    </tr>\n",
              "  </tbody>\n",
              "</table>"
            ]
          },
          "metadata": {}
        }
      ]
    },
    {
      "cell_type": "markdown",
      "source": [
        "#Load metric"
      ],
      "metadata": {
        "id": "Uf8hwgomm9Iq"
      }
    },
    {
      "cell_type": "code",
      "source": [
        "from datasets import load_metric\n",
        "metric = load_metric(metric_name)"
      ],
      "metadata": {
        "id": "qqvkGJ6ZmjcR",
        "outputId": "fb40ab23-8557-4ec1-b9b6-d34b12b7b079",
        "colab": {
          "base_uri": "https://localhost:8080/",
          "height": 104,
          "referenced_widgets": [
            "f656c7b6dff24cb3882f5b3490a106e2",
            "39565d4190f5469cb5224945c82efaab",
            "fa14f5d408694a6a9ca11b7937a061d5",
            "f43bb891d18b43989df7cbfeefd8f3ca",
            "64bfed2af3b240ca94f59b098e449427",
            "1f99df03ecf84f318d6845914f895c1a",
            "14e7826aee6f4c11a4c8495d19ffc7f1",
            "8c68842eb61d4e2392f476e1c85718c0",
            "0a7c568a7d88413796d922071f074be1",
            "3bc957840e8e481285893c9aeee810f4",
            "078bac09f6b746f1b38005868d0c6aa5"
          ]
        }
      },
      "execution_count": 19,
      "outputs": [
        {
          "output_type": "stream",
          "name": "stderr",
          "text": [
            "<ipython-input-19-a88b822e44cf>:2: FutureWarning: load_metric is deprecated and will be removed in the next major version of datasets. Use 'evaluate.load' instead, from the new library 🤗 Evaluate: https://huggingface.co/docs/evaluate\n",
            "  metric = load_metric(metric_name)\n"
          ]
        },
        {
          "output_type": "display_data",
          "data": {
            "text/plain": [
              "Downloading builder script:   0%|          | 0.00/2.16k [00:00<?, ?B/s]"
            ],
            "application/vnd.jupyter.widget-view+json": {
              "version_major": 2,
              "version_minor": 0,
              "model_id": "f656c7b6dff24cb3882f5b3490a106e2"
            }
          },
          "metadata": {}
        }
      ]
    },
    {
      "cell_type": "markdown",
      "source": [
        "# Pre-process data"
      ],
      "metadata": {
        "id": "1__FPmFenXep"
      }
    },
    {
      "cell_type": "code",
      "source": [
        "from transformers import AutoTokenizer\n",
        "tokenizer = AutoTokenizer.from_pretrained(model_checkpoint)"
      ],
      "metadata": {
        "id": "7YSf5r6enAks",
        "outputId": "ae800dcd-c698-4390-e1dd-98a313b80440",
        "colab": {
          "base_uri": "https://localhost:8080/",
          "height": 145,
          "referenced_widgets": [
            "b3b49586ec5e468a9334f935b3864a9c",
            "e0706ac4d2744885947e03bdfb571979",
            "f135bbbbd2ad445585a3c0647c0b5e85",
            "a663661e73e14bccbbdc11a0cbdd4757",
            "c2c91448b8df4169adf3948ffe688fdd",
            "1672122c77f5456d9211d4f77a516bdb",
            "00b0a455a32e4100837b8de31b44dd73",
            "17b772f0aada42549a841d56e84945c1",
            "c16d83e5ba7a4218827089bc1ac1a9a5",
            "fe2761dfcffb43b89c933fd2af72d8f9",
            "8fd9bd4602f741b0be05482e5c360d09",
            "a0f37d274e834e00ab246f30c89e52ca",
            "ce93cbcb40bb4546b04ebd0ae097e287",
            "ab659ecbde1c45f09be7b3feb2c6ffa4",
            "d59712f7509743e780fb7573248d9e21",
            "c954d46eecb94296b4f2f8da9871058d",
            "c6f46e9319bd4a39952b4aa7ec15c218",
            "1aa96e37a4e54963ad0d26fe614279f4",
            "3f76b4e7f8c749c684ee91fc47a919ff",
            "e6488442cc3d4bee9121d2f296acb5fb",
            "0ae0bc6722564c5bb05323e1717a9d86",
            "f6703a438ff6475c803a65a3610575e6",
            "2515a9273a574d2b8bed2368ec441163",
            "daa76921640842779e12039b3178157f",
            "cf15d9f449444dc4b5c3a34bd1451711",
            "72db238fe2eb412fb665bbcf366933f3",
            "f7629ce6ec444ebaaf47bbc714b678b1",
            "49fc90a9ce714cbaa7a5c56995d009ae",
            "b974a1d810424b948a704e31a698aa3b",
            "8a25a10038a14634b15974c30dcd9561",
            "f54a3030d0664fd6ba593821c399b11c",
            "10ae1873cde74f1a916ff0a489669988",
            "d7b594f0f4d844939c9e9cf6cfd6779e",
            "fd354dd49cbf4c16865b6c5a6898a69e",
            "eedb94261338494ba07b78cac6aa3a77",
            "12c93cdfd6fe4d818a88637cf2927625",
            "50475fd5d5534ac88009363d3aabfe3f",
            "bd9457b7697945ce9dcad53d20401e13",
            "cd2cd7ad9ba44156ae4a82e1094415a9",
            "68f967a00d7a4a58914bc68d0f2e60a6",
            "cf188d20d267446992bc1b96ad4d2039",
            "028f83e1b9f34bb6869239a1e21c44ea",
            "c4eb20b68007485c96c00c90734e7e7d",
            "b5c743c1833f4bc483e7b0b626f46161"
          ]
        }
      },
      "execution_count": 20,
      "outputs": [
        {
          "output_type": "display_data",
          "data": {
            "text/plain": [
              "Downloading:   0%|          | 0.00/26.0 [00:00<?, ?B/s]"
            ],
            "application/vnd.jupyter.widget-view+json": {
              "version_major": 2,
              "version_minor": 0,
              "model_id": "b3b49586ec5e468a9334f935b3864a9c"
            }
          },
          "metadata": {}
        },
        {
          "output_type": "display_data",
          "data": {
            "text/plain": [
              "Downloading:   0%|          | 0.00/1.80k [00:00<?, ?B/s]"
            ],
            "application/vnd.jupyter.widget-view+json": {
              "version_major": 2,
              "version_minor": 0,
              "model_id": "a0f37d274e834e00ab246f30c89e52ca"
            }
          },
          "metadata": {}
        },
        {
          "output_type": "display_data",
          "data": {
            "text/plain": [
              "Downloading:   0%|          | 0.00/899k [00:00<?, ?B/s]"
            ],
            "application/vnd.jupyter.widget-view+json": {
              "version_major": 2,
              "version_minor": 0,
              "model_id": "2515a9273a574d2b8bed2368ec441163"
            }
          },
          "metadata": {}
        },
        {
          "output_type": "display_data",
          "data": {
            "text/plain": [
              "Downloading:   0%|          | 0.00/456k [00:00<?, ?B/s]"
            ],
            "application/vnd.jupyter.widget-view+json": {
              "version_major": 2,
              "version_minor": 0,
              "model_id": "fd354dd49cbf4c16865b6c5a6898a69e"
            }
          },
          "metadata": {}
        }
      ]
    },
    {
      "cell_type": "code",
      "source": [
        "prefix_models = [\"t5-small\", \"t5-base\", \"t5-large\", \"t5-3b\", \"t5-11b\"]\n",
        "if model_checkpoint in prefix_models:\n",
        "  prefix = \"summarize: \"\n",
        "else:\n",
        "  prefix = ''"
      ],
      "metadata": {
        "id": "oeh7wtyKnd8C"
      },
      "execution_count": 21,
      "outputs": []
    },
    {
      "cell_type": "code",
      "source": [
        "def preprocess_function(data):\n",
        "  inputs = [prefix + doc for doc in data[\"article\"]]\n",
        "  tokenized_data = tokenizer(text=inputs, truncation=True, text_target=data['highlights'])\n",
        "  return tokenized_data "
      ],
      "metadata": {
        "id": "PuqAxK_Cn727"
      },
      "execution_count": 22,
      "outputs": []
    },
    {
      "cell_type": "code",
      "source": [
        "preprocess_function(raw_datasets_t[:2])\n",
        "preprocess_function(raw_datasets_v[:2])"
      ],
      "metadata": {
        "id": "cFuNUd1Np6kP",
        "outputId": "0b55398d-cc52-40c3-992d-a47405fb6ff4",
        "colab": {
          "base_uri": "https://localhost:8080/"
        }
      },
      "execution_count": 23,
      "outputs": [
        {
          "output_type": "execute_result",
          "data": {
            "text/plain": [
              "{'input_ids': [[0, 1640, 16256, 43, 3399, 22965, 585, 307, 14, 24, 34, 4639, 63, 5436, 9, 1393, 12255, 6926, 611, 6, 442, 123, 4973, 7, 671, 7, 5, 2414, 1320, 480, 13176, 22, 5087, 27495, 9505, 72, 6926, 611, 21, 3456, 71, 10, 8951, 2366, 461, 303, 14, 37, 1153, 2021, 1897, 1476, 136, 39, 320, 6096, 6, 12372, 925, 4473, 3937, 4, 264, 1238, 5, 14177, 1393, 9, 16004, 69, 30, 5, 14599, 8, 26963, 69, 471, 136, 10, 2204, 11, 39, 4243, 184, 23, 8951, 18, 21860, 1016, 13243, 11, 772, 4, 34192, 6, 5, 10591, 4482, 968, 2234, 9826, 39, 27495, 5436, 8, 685, 258, 498, 4, 280, 2425, 37, 2039, 5, 191, 12, 12211, 19627, 1764, 25, 157, 25, 80, 7757, 13780, 968, 4694, 4, 125, 37, 197, 28, 441, 7, 3511, 149, 5, 1136, 6, 8, 10591, 161, 14, 24, 40, 27673, 63, 7404, 13, 123, 7, 3511, 11, 70, 2836, 1061, 4, 20, 403, 136, 6926, 611, 362, 10, 1233, 1004, 94, 186, 6, 77, 5, 8951, 641, 9, 1659, 585, 14, 1103, 74, 45, 28, 1658, 136, 123, 4, 22, 1620, 38, 33, 26, 31, 5, 1786, 6, 38, 222, 45, 6225, 1897, 2134, 60, 6926, 611, 26, 172, 4, 22, 100, 356, 556, 7, 145, 124, 11, 4930, 25, 1010, 25, 678, 8, 1375, 15, 19, 127, 301, 72, 83, 7890, 413, 6, 8951, 6, 284, 461, 7236, 3447, 11, 902, 14, 6926, 611, 531, 1095, 409, 31, 925, 4473, 3937, 13, 10, 76, 4, 10591, 503, 1276, 7, 5258, 6926, 611, 18, 5436, 142, 37, 25300, 19, 5, 3471, 9, 5, 4930, 9326, 18, 9493, 29963, 586, 6, 2121, 19184, 15011, 8, 300, 5, 4954, 31, 10, 19184, 474, 575, 3827, 7, 1015, 456, 4, 91, 18, 45, 4940, 66, 9, 5, 14193, 4, 96, 10, 340, 800, 6, 10591, 26, 6926, 611, 531, 22, 5087, 2977, 943, 2402, 7, 1100, 5, 3650, 13, 61, 37, 21, 14914, 1538, 72, 2206, 384, 108, 21489, 6, 10591, 1031, 2626, 394, 8, 834, 4930, 709, 1036, 6, 26, 5, 1762, 9, 1103, 136, 6926, 611, 14418, 4560, 39, 671, 4, 22, 170, 33, 156, 24, 182, 699, 7, 12255, 6926, 611, 84, 2113, 13, 123, 1375, 556, 6, 61, 1171, 5740, 11, 10, 1416, 586, 8, 455, 6265, 19, 70, 8252, 3471, 25, 10, 898, 9, 39, 160, 12, 16026, 3650, 60, 384, 108, 21489, 26, 4, 3480, 18, 12893, 1896, 3162, 7, 42, 266, 4, 2], [0, 1640, 16256, 43, 12815, 2361, 315, 999, 6937, 15565, 16825, 1835, 7, 28297, 39, 793, 526, 7, 2142, 9758, 4152, 88, 5, 12477, 9, 5, 6236, 968, 19, 10, 132, 12, 134, 1124, 23, 3470, 13592, 302, 4, 20, 1156, 5955, 21, 10499, 7, 3471, 23, 3217, 3538, 37805, 18, 315, 6, 53, 21, 2119, 7, 19274, 15, 10, 5021, 30, 4578, 14567, 7, 6895, 5, 1924, 95, 71, 5, 1946, 2458, 4, 83, 6770, 363, 13, 315, 21, 24094, 30, 10, 628, 1275, 1886, 13, 5244, 758, 6896, 3643, 5011, 6, 54, 21, 576, 39, 16969, 3365, 71, 313, 4539, 1527, 9585, 988, 7730, 4, 3643, 5011, 21, 3225, 7512, 13, 23805, 8, 362, 39, 3246, 350, 444, 30, 16004, 5, 781, 6, 61, 669, 7, 39, 10062, 14289, 4, 590, 158, 604, 6, 315, 21, 393, 441, 7, 21655, 143, 588, 1164, 15, 4152, 8, 24, 362, 80, 2051, 7552, 871, 926, 4177, 102, 7, 7631, 617, 1175, 31, 8550, 118, 230, 39784, 2560, 8, 11502, 6678, 13, 5, 409, 526, 4, 15908, 13, 4152, 7512, 10, 671, 7, 15101, 13, 10, 94, 237, 6064, 19, 1169, 4913, 50, 14259, 412, 6, 54, 32, 769, 20180, 49, 297, 6156, 3318, 220, 302, 4, 3426, 50, 20809, 3830, 3697, 40, 310, 16518, 12470, 11, 5, 97, 12362, 6204, 4, 4152, 56, 551, 10, 564, 212, 2289, 483, 149, 234, 21110, 3385, 8726, 6, 5, 3453, 5142, 18841, 71, 2051, 517, 61, 963, 13498, 1182, 10548, 718, 8, 2618, 13416, 462, 1829, 12, 4771, 19383, 32270, 4, 125, 5, 2093, 21, 765, 3033, 19, 3643, 5011, 2609, 6098, 14769, 7, 1471, 19, 10, 12909, 12734, 4, 315, 1415, 7, 1228, 789, 13, 5, 1924, 6, 53, 184, 1991, 58, 30683, 77, 14567, 156, 10, 29524, 9, 10, 124, 1323, 8, 15565, 16825, 21, 2119, 7, 40541, 15, 7, 5, 7082, 1011, 8, 1451, 926, 4177, 102, 4, 128, 100, 679, 24, 21, 2427, 13, 123, 7, 1471, 37, 1006, 2778, 543, 452, 1598, 4152, 1044, 17623, 2552, 10945, 26, 9, 15565, 16825, 4, 832, 10255, 3538, 37805, 40, 122, 6, 20108, 10, 16829, 6, 28, 314, 396, 10, 8071, 11, 39, 78, 191, 11, 1427, 9, 5, 2370, 476, 18917, 6, 19, 5, 1164, 122, 15, 7, 10192, 10, 299, 237, 317, 11, 5, 381, 7205, 7, 6210, 3666, 815, 1037, 220, 191, 4, 2]], 'attention_mask': [[1, 1, 1, 1, 1, 1, 1, 1, 1, 1, 1, 1, 1, 1, 1, 1, 1, 1, 1, 1, 1, 1, 1, 1, 1, 1, 1, 1, 1, 1, 1, 1, 1, 1, 1, 1, 1, 1, 1, 1, 1, 1, 1, 1, 1, 1, 1, 1, 1, 1, 1, 1, 1, 1, 1, 1, 1, 1, 1, 1, 1, 1, 1, 1, 1, 1, 1, 1, 1, 1, 1, 1, 1, 1, 1, 1, 1, 1, 1, 1, 1, 1, 1, 1, 1, 1, 1, 1, 1, 1, 1, 1, 1, 1, 1, 1, 1, 1, 1, 1, 1, 1, 1, 1, 1, 1, 1, 1, 1, 1, 1, 1, 1, 1, 1, 1, 1, 1, 1, 1, 1, 1, 1, 1, 1, 1, 1, 1, 1, 1, 1, 1, 1, 1, 1, 1, 1, 1, 1, 1, 1, 1, 1, 1, 1, 1, 1, 1, 1, 1, 1, 1, 1, 1, 1, 1, 1, 1, 1, 1, 1, 1, 1, 1, 1, 1, 1, 1, 1, 1, 1, 1, 1, 1, 1, 1, 1, 1, 1, 1, 1, 1, 1, 1, 1, 1, 1, 1, 1, 1, 1, 1, 1, 1, 1, 1, 1, 1, 1, 1, 1, 1, 1, 1, 1, 1, 1, 1, 1, 1, 1, 1, 1, 1, 1, 1, 1, 1, 1, 1, 1, 1, 1, 1, 1, 1, 1, 1, 1, 1, 1, 1, 1, 1, 1, 1, 1, 1, 1, 1, 1, 1, 1, 1, 1, 1, 1, 1, 1, 1, 1, 1, 1, 1, 1, 1, 1, 1, 1, 1, 1, 1, 1, 1, 1, 1, 1, 1, 1, 1, 1, 1, 1, 1, 1, 1, 1, 1, 1, 1, 1, 1, 1, 1, 1, 1, 1, 1, 1, 1, 1, 1, 1, 1, 1, 1, 1, 1, 1, 1, 1, 1, 1, 1, 1, 1, 1, 1, 1, 1, 1, 1, 1, 1, 1, 1, 1, 1, 1, 1, 1, 1, 1, 1, 1, 1, 1, 1, 1, 1, 1, 1, 1, 1, 1, 1, 1, 1, 1, 1, 1, 1, 1, 1, 1, 1, 1, 1, 1, 1, 1, 1, 1, 1, 1, 1, 1, 1, 1, 1, 1, 1, 1, 1, 1, 1, 1, 1, 1, 1, 1, 1, 1, 1, 1, 1, 1, 1, 1, 1, 1, 1, 1, 1, 1, 1, 1, 1, 1, 1, 1, 1, 1, 1, 1, 1, 1, 1, 1, 1, 1, 1, 1, 1, 1, 1, 1, 1, 1, 1, 1, 1, 1], [1, 1, 1, 1, 1, 1, 1, 1, 1, 1, 1, 1, 1, 1, 1, 1, 1, 1, 1, 1, 1, 1, 1, 1, 1, 1, 1, 1, 1, 1, 1, 1, 1, 1, 1, 1, 1, 1, 1, 1, 1, 1, 1, 1, 1, 1, 1, 1, 1, 1, 1, 1, 1, 1, 1, 1, 1, 1, 1, 1, 1, 1, 1, 1, 1, 1, 1, 1, 1, 1, 1, 1, 1, 1, 1, 1, 1, 1, 1, 1, 1, 1, 1, 1, 1, 1, 1, 1, 1, 1, 1, 1, 1, 1, 1, 1, 1, 1, 1, 1, 1, 1, 1, 1, 1, 1, 1, 1, 1, 1, 1, 1, 1, 1, 1, 1, 1, 1, 1, 1, 1, 1, 1, 1, 1, 1, 1, 1, 1, 1, 1, 1, 1, 1, 1, 1, 1, 1, 1, 1, 1, 1, 1, 1, 1, 1, 1, 1, 1, 1, 1, 1, 1, 1, 1, 1, 1, 1, 1, 1, 1, 1, 1, 1, 1, 1, 1, 1, 1, 1, 1, 1, 1, 1, 1, 1, 1, 1, 1, 1, 1, 1, 1, 1, 1, 1, 1, 1, 1, 1, 1, 1, 1, 1, 1, 1, 1, 1, 1, 1, 1, 1, 1, 1, 1, 1, 1, 1, 1, 1, 1, 1, 1, 1, 1, 1, 1, 1, 1, 1, 1, 1, 1, 1, 1, 1, 1, 1, 1, 1, 1, 1, 1, 1, 1, 1, 1, 1, 1, 1, 1, 1, 1, 1, 1, 1, 1, 1, 1, 1, 1, 1, 1, 1, 1, 1, 1, 1, 1, 1, 1, 1, 1, 1, 1, 1, 1, 1, 1, 1, 1, 1, 1, 1, 1, 1, 1, 1, 1, 1, 1, 1, 1, 1, 1, 1, 1, 1, 1, 1, 1, 1, 1, 1, 1, 1, 1, 1, 1, 1, 1, 1, 1, 1, 1, 1, 1, 1, 1, 1, 1, 1, 1, 1, 1, 1, 1, 1, 1, 1, 1, 1, 1, 1, 1, 1, 1, 1, 1, 1, 1, 1, 1, 1, 1, 1, 1, 1, 1, 1, 1, 1, 1, 1, 1, 1, 1, 1, 1, 1, 1, 1, 1, 1, 1, 1, 1, 1, 1, 1, 1, 1, 1, 1, 1, 1, 1, 1, 1, 1, 1, 1, 1, 1, 1, 1, 1, 1, 1, 1, 1, 1, 1, 1, 1, 1, 1, 1, 1, 1, 1, 1, 1, 1, 1, 1]], 'labels': [[0, 133, 1762, 9, 1103, 136, 6926, 611, 14418, 4560, 5, 568, 6, 10, 10591, 781, 161, 479, 50118, 530, 7363, 6926, 611, 21, 1238, 9, 16004, 39, 1931, 12, 22943, 30, 5, 14599, 6, 26963, 69, 471, 479, 50118, 894, 2330, 9826, 10591, 18, 27495, 5436, 8, 685, 479, 2], [0, 31661, 13410, 1554, 11183, 417, 132, 12, 134, 11, 6236, 968, 297, 6156, 479, 50118, 12815, 2361, 315, 869, 6937, 15565, 16825, 4391, 1924, 479, 50118, 12250, 268, 4152, 362, 5, 483, 149, 234, 21110, 3385, 8726, 137, 6098, 14769, 3871, 1538, 479, 50118, 37419, 3643, 5011, 1051, 160, 13, 1481, 13871, 9585, 11, 200, 457, 479, 2]]}"
            ]
          },
          "metadata": {},
          "execution_count": 23
        }
      ]
    },
    {
      "cell_type": "code",
      "source": [
        "tokenized_datasets_t = raw_datasets_t.map(preprocess_function, batched=True)\n",
        "tokenized_datasets_v = raw_datasets_v.map(preprocess_function, batched=True)"
      ],
      "metadata": {
        "id": "LIyZPm0U1LqY",
        "outputId": "b25d2b6a-7e20-44f8-e630-c95a1cbdfad9",
        "colab": {
          "base_uri": "https://localhost:8080/",
          "height": 81,
          "referenced_widgets": [
            "e80f7e3656b84f85ad313443c37854ee",
            "5236a31c06d64c029b80037926b783bd",
            "63cce45a8f9549059cf8c93ac1170e61",
            "165491c49b674de6b0875ad6f0484043",
            "b62d96092509481db91f4f64a6faf4b0",
            "ae963809ac474ebc96803c8841db7810",
            "f2b53de6ebd54d8d8af8bc11c575f46c",
            "d3bee98214f5460abb45b4c8ae53f63d",
            "dfb3d71f8b804b829f6171f5f61a85af",
            "2df58057c2c9494095211fcd2adf4c21",
            "90dd94ff0f254cc3b8be956ec923201e",
            "0668ca3e836f41bcb3d54926a1a5594c",
            "37499008c3d74ca7b8f898f9d2b64d81",
            "c12c5e9a14704fba82f4ed8e835a80a9",
            "bd12e3d6d2ff4cba806d5ef3bd1b7e52",
            "fa5bbc333e6b4ce1b28c885195a29c5a",
            "6d091de9d5de4f42b8078389f6b1bc22",
            "769b4f96d81748ad87644fd91f8dca43",
            "b4f80ebd2a164abd9d656a40e254a2fb",
            "8946aeb7eb3d45d5a056bde34aebc3d7",
            "1f1d0a470a794fcf81dc7da58cb6e7fb",
            "95243e25357142db98c363ae356b9b82"
          ]
        }
      },
      "execution_count": 24,
      "outputs": [
        {
          "output_type": "display_data",
          "data": {
            "text/plain": [
              "  0%|          | 0/2 [00:00<?, ?ba/s]"
            ],
            "application/vnd.jupyter.widget-view+json": {
              "version_major": 2,
              "version_minor": 0,
              "model_id": "e80f7e3656b84f85ad313443c37854ee"
            }
          },
          "metadata": {}
        },
        {
          "output_type": "display_data",
          "data": {
            "text/plain": [
              "  0%|          | 0/2 [00:00<?, ?ba/s]"
            ],
            "application/vnd.jupyter.widget-view+json": {
              "version_major": 2,
              "version_minor": 0,
              "model_id": "0668ca3e836f41bcb3d54926a1a5594c"
            }
          },
          "metadata": {}
        }
      ]
    },
    {
      "cell_type": "markdown",
      "source": [
        "#Fine-tuning"
      ],
      "metadata": {
        "id": "KKt7C2b22hne"
      }
    },
    {
      "cell_type": "markdown",
      "source": [
        "TODO -> check if the unused weights are problematic"
      ],
      "metadata": {
        "id": "THYa9Hh7_GQX"
      }
    },
    {
      "cell_type": "code",
      "source": [
        "from transformers import TFAutoModelForSeq2SeqLM, DataCollatorForSeq2Seq\n",
        "model = TFAutoModelForSeq2SeqLM.from_pretrained(model_checkpoint, from_pt=True)"
      ],
      "metadata": {
        "colab": {
          "base_uri": "https://localhost:8080/",
          "height": 156,
          "referenced_widgets": [
            "9cd8f173cffe490da4089761f5935240",
            "9501bfc9dc95497fb86a594c153a52f2",
            "35d94753e78c4c6a9017a943d6aea1b4",
            "74d6ecef5aa04f908270e4813b22c1a4",
            "f22db273f7c842babeec958e6d8e1a98",
            "8145f377419641c881f9d16e0bffc523",
            "11c377c8f8b14372aa0ba73eb13ca79c",
            "9a312cb6d2834351baa5627c11b791ed",
            "1795e3721b9f45d4b86852c0054f6f19",
            "c3b00d05cdc64d0e808bacbab526a9c5",
            "8a2889ffb2d7496d84d571eb8b01e82f"
          ]
        },
        "id": "qQe4vvrv2VMr",
        "outputId": "f8d6a073-83e4-4ae5-a892-a4b3541d0c0f"
      },
      "execution_count": 27,
      "outputs": [
        {
          "output_type": "display_data",
          "data": {
            "text/plain": [
              "Downloading:   0%|          | 0.00/1.22G [00:00<?, ?B/s]"
            ],
            "application/vnd.jupyter.widget-view+json": {
              "version_major": 2,
              "version_minor": 0,
              "model_id": "9cd8f173cffe490da4089761f5935240"
            }
          },
          "metadata": {}
        },
        {
          "output_type": "stream",
          "name": "stderr",
          "text": [
            "Some weights of the PyTorch model were not used when initializing the TF 2.0 model TFBartForConditionalGeneration: ['model.encoder.embed_tokens.weight', 'model.decoder.embed_tokens.weight']\n",
            "- This IS expected if you are initializing TFBartForConditionalGeneration from a PyTorch model trained on another task or with another architecture (e.g. initializing a TFBertForSequenceClassification model from a BertForPreTraining model).\n",
            "- This IS NOT expected if you are initializing TFBartForConditionalGeneration from a PyTorch model that you expect to be exactly identical (e.g. initializing a TFBertForSequenceClassification model from a BertForSequenceClassification model).\n",
            "All the weights of TFBartForConditionalGeneration were initialized from the PyTorch model.\n",
            "If your task is similar to the task the model of the checkpoint was trained on, you can already use TFBartForConditionalGeneration for predictions without further training.\n"
          ]
        }
      ]
    },
    {
      "cell_type": "code",
      "source": [
        "#batch_size = 8\n",
        "batch_size = 1\n",
        "learning_rate = 2e-5\n",
        "weight_decay = 0.01\n",
        "num_train_epochs = 1"
      ],
      "metadata": {
        "id": "HkQ03Orx34OT"
      },
      "execution_count": 25,
      "outputs": []
    },
    {
      "cell_type": "code",
      "source": [
        "data_collator = DataCollatorForSeq2Seq(tokenizer, model=model, return_tensors=\"tf\")\n",
        "generation_data_collator = DataCollatorForSeq2Seq(tokenizer, model=model, return_tensors=\"tf\", pad_to_multiple_of=128)"
      ],
      "metadata": {
        "id": "P1LsA_9_8Bin"
      },
      "execution_count": 28,
      "outputs": []
    },
    {
      "cell_type": "code",
      "source": [
        "#tokenized_datasets[\"train\"]\n",
        "print(tokenized_datasets_t)\n",
        "print(tokenized_datasets_v)"
      ],
      "metadata": {
        "colab": {
          "base_uri": "https://localhost:8080/"
        },
        "id": "r56N1IjuAAvj",
        "outputId": "ac74d8bf-0658-4740-c01c-ca6a90382817"
      },
      "execution_count": 29,
      "outputs": [
        {
          "output_type": "stream",
          "name": "stdout",
          "text": [
            "Dataset({\n",
            "    features: ['article', 'highlights', 'id', 'input_ids', 'attention_mask', 'labels'],\n",
            "    num_rows: 1020\n",
            "})\n",
            "Dataset({\n",
            "    features: ['article', 'highlights', 'id', 'input_ids', 'attention_mask', 'labels'],\n",
            "    num_rows: 1232\n",
            "})\n"
          ]
        }
      ]
    },
    {
      "cell_type": "markdown",
      "source": [
        "TODO: Understand why validation set is processed twice, once for validation and once for generation"
      ],
      "metadata": {
        "id": "lx5ZA6c-AlG_"
      }
    },
    {
      "cell_type": "code",
      "source": [
        "train_dataset = model.prepare_tf_dataset(\n",
        "    tokenized_datasets_t,\n",
        "    batch_size=batch_size,\n",
        "    shuffle=True,\n",
        "    collate_fn=data_collator,\n",
        ")\n",
        "\n",
        "validation_dataset = model.prepare_tf_dataset(\n",
        "    tokenized_datasets_v,\n",
        "    batch_size=batch_size,\n",
        "    shuffle=False,\n",
        "    collate_fn=data_collator,\n",
        ")\n",
        "\n",
        "generation_dataset = model.prepare_tf_dataset(\n",
        "    tokenized_datasets_v,\n",
        "    batch_size=batch_size,\n",
        "    shuffle=False,\n",
        "    collate_fn=generation_data_collator\n",
        ")\n"
      ],
      "metadata": {
        "id": "mBUUU96dADl4",
        "outputId": "537ebb0c-ee53-4e46-8e24-0e14dd1023d5",
        "colab": {
          "base_uri": "https://localhost:8080/"
        }
      },
      "execution_count": 30,
      "outputs": [
        {
          "output_type": "stream",
          "name": "stderr",
          "text": [
            "You're using a BartTokenizerFast tokenizer. Please note that with a fast tokenizer, using the `__call__` method is faster than using a method to encode the text followed by a call to the `pad` method to get a padded encoding.\n"
          ]
        }
      ]
    },
    {
      "cell_type": "code",
      "source": [
        "from transformers import AdamWeightDecay\n",
        "import tensorflow as tf\n",
        "\n",
        "optimizer = AdamWeightDecay(learning_rate=learning_rate, weight_decay_rate=weight_decay)\n",
        "model.compile(optimizer=optimizer)"
      ],
      "metadata": {
        "colab": {
          "base_uri": "https://localhost:8080/"
        },
        "id": "-RnBVnGgAuFQ",
        "outputId": "1d46fcab-815b-4727-ae6a-d47815b4c95d"
      },
      "execution_count": 31,
      "outputs": [
        {
          "output_type": "stream",
          "name": "stderr",
          "text": [
            "No loss specified in compile() - the model's internal loss computation will be used as the loss. Don't panic - this is a common way to train TensorFlow models in Transformers! To disable this behaviour please pass a loss argument, or explicitly pass `loss=None` if you do not want your model to compute a loss.\n"
          ]
        }
      ]
    },
    {
      "cell_type": "markdown",
      "source": [
        "Consider adding a KerasMetricCallback:\n",
        "is a callback for computing advanced metrics. There are a number of common metrics in NLP like ROUGE which are hard to fit into your compiled training loop because they depend on decoding predictions and labels back to strings with the tokenizer, and calling arbitrary Python functions to compute the metric. The KerasMetricCallback will wrap a metric function, outputting metrics as training progresses."
      ],
      "metadata": {
        "id": "xgjzKxOUBE6a"
      }
    },
    {
      "cell_type": "code",
      "source": [
        "import numpy as np\n",
        "import nltk\n",
        "\n",
        "def metric_fn(eval_predictions):\n",
        "    predictions, labels = eval_predictions\n",
        "    decoded_predictions = tokenizer.batch_decode(predictions, skip_special_tokens=True)\n",
        "    for label in labels:\n",
        "        label[label < 0] = tokenizer.pad_token_id  # Replace masked label tokens\n",
        "    decoded_labels = tokenizer.batch_decode(labels, skip_special_tokens=True)\n",
        "    # Rouge expects a newline after each sentence\n",
        "    decoded_predictions = [\n",
        "        \"\\n\".join(nltk.sent_tokenize(pred.strip())) for pred in decoded_predictions\n",
        "    ]\n",
        "    decoded_labels = [\n",
        "        \"\\n\".join(nltk.sent_tokenize(label.strip())) for label in decoded_labels\n",
        "    ]\n",
        "    result = metric.compute(\n",
        "        predictions=decoded_predictions, references=decoded_labels, use_stemmer=True\n",
        "    )\n",
        "    # Extract a few results\n",
        "    result = {key: value.mid.fmeasure * 100 for key, value in result.items()}\n",
        "    # Add mean generated length\n",
        "    prediction_lens = [\n",
        "        np.count_nonzero(pred != tokenizer.pad_token_id) for pred in predictions\n",
        "    ]\n",
        "    result[\"gen_len\"] = np.mean(prediction_lens)\n",
        "\n",
        "    return result"
      ],
      "metadata": {
        "id": "WEqQXM3ZA75n"
      },
      "execution_count": 32,
      "outputs": []
    },
    {
      "cell_type": "code",
      "source": [
        "import tensorflow as tf\n",
        "from transformers.keras_callbacks import PushToHubCallback, KerasMetricCallback\n",
        "from tensorflow.keras.callbacks import TensorBoard\n",
        "\n",
        "gpus = tf.config.list_physical_devices('GPU')\n",
        "if gpus:\n",
        "  try:\n",
        "    tensorboard_callback = TensorBoard(log_dir=\"./summarization_model_save/logs\")\n",
        "    model.fit(train_dataset, validation_data=validation_dataset, epochs=10) \n",
        "    #callbacks=callbacks)\n",
        "   # Currently, memory growth needs to be the same across GPUs\n",
        "    for gpu in gpus:\n",
        "      tf.config.experimental.set_memory_growth(gpu, True)\n",
        "      logical_gpus = tf.config.list_logical_devices('GPU')\n",
        "      print(len(gpus), \"Physical GPUs,\", len(logical_gpus), \"Logical GPUs\")\n",
        "  except RuntimeError as e:\n",
        "    # Memory growth must be set before GPUs have been initialized\n",
        "    print(e)"
      ],
      "metadata": {
        "id": "KcD0idRT5XAN",
        "outputId": "a9bdf471-3617-4199-d698-b5bb470f9967",
        "colab": {
          "base_uri": "https://localhost:8080/"
        }
      },
      "execution_count": 33,
      "outputs": [
        {
          "output_type": "stream",
          "name": "stdout",
          "text": [
            "Epoch 1/10\n",
            "1020/1020 [==============================] - 494s 447ms/step - loss: 1.6446 - val_loss: 1.5189\n",
            "Epoch 2/10\n",
            "1020/1020 [==============================] - 449s 440ms/step - loss: 1.0594 - val_loss: 1.5863\n",
            "Epoch 3/10\n",
            "1020/1020 [==============================] - 448s 439ms/step - loss: 0.7075 - val_loss: 1.7747\n",
            "Epoch 4/10\n",
            "1020/1020 [==============================] - 447s 438ms/step - loss: 0.4762 - val_loss: 2.0113\n",
            "Epoch 5/10\n",
            "1020/1020 [==============================] - 448s 439ms/step - loss: 0.3244 - val_loss: 2.2670\n",
            "Epoch 6/10\n",
            "1020/1020 [==============================] - 447s 438ms/step - loss: 0.2405 - val_loss: 2.4403\n",
            "Epoch 7/10\n",
            "1020/1020 [==============================] - 450s 441ms/step - loss: 0.1948 - val_loss: 2.4979\n",
            "Epoch 8/10\n",
            "1020/1020 [==============================] - 447s 439ms/step - loss: 0.1570 - val_loss: 2.6723\n",
            "Epoch 9/10\n",
            "1020/1020 [==============================] - 448s 439ms/step - loss: 0.1343 - val_loss: 2.7352\n",
            "Epoch 10/10\n",
            "1020/1020 [==============================] - 451s 442ms/step - loss: 0.1258 - val_loss: 2.7730\n",
            "Physical devices cannot be modified after being initialized\n"
          ]
        }
      ]
    },
    {
      "cell_type": "code",
      "source": [
        "'''\n",
        "from transformers.keras_callbacks import PushToHubCallback, KerasMetricCallback\n",
        "from tensorflow.keras.callbacks import TensorBoard\n",
        "\n",
        "tensorboard_callback = TensorBoard(log_dir=\"./summarization_model_save/logs\")\n",
        "\n",
        "push_to_hub_callback = PushToHubCallback(\n",
        "    output_dir=\"./summarization_model_save\",\n",
        "    tokenizer=tokenizer,\n",
        "    hub_model_id=push_to_hub_model_id,\n",
        ")\n",
        "\n",
        "metric_callback = KerasMetricCallback(\n",
        "    metric_fn, eval_dataset=generation_dataset, predict_with_generate=True, use_xla_generation=True\n",
        ")\n",
        "\n",
        "callbacks = [metric_callback, tensorboard_callback, push_to_hub_callback]\n",
        "\n",
        "model.fit(\n",
        "    train_dataset, validation_data=validation_dataset, epochs=1) \n",
        "    #callbacks=callbacks) \n",
        "'''"
      ],
      "metadata": {
        "id": "LZeebOEUHFvH"
      },
      "execution_count": null,
      "outputs": []
    },
    {
      "cell_type": "code",
      "source": [
        "document = raw_datasets_v[1]['article']"
      ],
      "metadata": {
        "id": "epOr4D1aql5W",
        "outputId": "6fed0238-874e-4f9e-be14-84d8f8d8f37a",
        "colab": {
          "base_uri": "https://localhost:8080/",
          "height": 17
        }
      },
      "execution_count": 46,
      "outputs": [
        {
          "output_type": "display_data",
          "data": {
            "text/plain": [
              "<IPython.core.display.HTML object>"
            ],
            "text/html": [
              "\n",
              "  <style>\n",
              "    pre {\n",
              "        white-space: pre-wrap;\n",
              "    }\n",
              "  </style>\n",
              "  "
            ]
          },
          "metadata": {}
        }
      ]
    },
    {
      "cell_type": "code",
      "source": [
        "print(document)"
      ],
      "metadata": {
        "id": "n7-8EX5FreBe",
        "outputId": "21333be3-7913-465e-9a30-6f77cd51d863",
        "colab": {
          "base_uri": "https://localhost:8080/",
          "height": 260
        }
      },
      "execution_count": 52,
      "outputs": [
        {
          "output_type": "display_data",
          "data": {
            "text/plain": [
              "<IPython.core.display.HTML object>"
            ],
            "text/html": [
              "\n",
              "  <style>\n",
              "    pre {\n",
              "        white-space: pre-wrap;\n",
              "    }\n",
              "  </style>\n",
              "  "
            ]
          },
          "metadata": {}
        },
        {
          "output_type": "stream",
          "name": "stdout",
          "text": [
            "(CNN)Former Manchester United star Danny Welbeck returned to haunt his old side to send holders Arsenal into the semifinals of the FA Cup with a 2-1 victory at Old Trafford Monday. The England striker was surplus to requirements at Louis van Gaal's United, but was quick to capitalize on a mistake by Antonio Valencia to grab the winner just after the hour mark. A disappointing night for United was compounded by a late red card for Argentina international Angel Di Maria, who was given his marching orders after manhandling referee Michael Oliver. Di Maria was initially booked for simulation and took his protests too far by grabbing the official, which led to his instant dismissal. With 10 men, United was never able to exert any real pressure on Arsenal and it took two fine saves David De Gea to deny further goals from Santi Cazorla and Alexis Sanchez for the away side. Victory for Arsenal booked a return to Wembley for a last four clash with either Reading or Bradford City, who are replaying their quarterfinal tie next Monday. Liverpool or Blackburn Rovers will play Aston Villa in the other semifinal. Arsenal had taken a 25th minute lead through Nacho Monreal, the Spanish defender converting after fine move which involved Mesut Ozil and Alex Oxlade-Chamberlain. But the advantage was short lived with Di Maria finding Wayne Rooney to score with a diving header. United looked to press ahead for the winner, but home hopes were dashed when Valencia made a hash of a back pass and Welbeck was quick to latch on to the loose ball and beat De Gea. 'I believe it was justice for him to score he worked extremely hard today,' Arsenal manager Arsene Wenger said of Welbeck. His counterpart van Gaal will now, barring a miracle, be left without a trophy in his first season in charge of the English powerhouses, with the pressure now on to seal a top four place in the EPL to guarantee Champions League football next season.\n"
          ]
        }
      ]
    },
    {
      "cell_type": "code",
      "source": [
        "# document = 'The full cost of damage in Newton Stewart, one of the areas worst affected, is still being assessed.\\nRepair work is ongoing in Hawick and many roads in Peeblesshire remain badly affected by standing water.\\nTrains on the west coast mainline face disruption due to damage at the Lamington Viaduct.\\nMany businesses and householders were affected by flooding in Newton Stewart after the River Cree overflowed into the town.\\nFirst Minister Nicola Sturgeon visited the area to inspect the damage.\\nThe waters breached a retaining wall, flooding many commercial properties on Victoria Street - the main shopping thoroughfare.\\nJeanette Tate, who owns the Cinnamon Cafe which was badly affected, said she could not fault the multi-agency response once the flood hit.\\nHowever, she said more preventative work could have been carried out to ensure the retaining wall did not fail.\\n\"It is difficult but I do think there is so much publicity for Dumfries and the Nith - and I totally appreciate that - but it is almost like we\\'re neglected or forgotten,\" she said.\\n\"That may not be true but it is perhaps my perspective over the last few days.\\n\"Why were you not ready to help us a bit more when the warning and the alarm alerts had gone out?\"\\nMeanwhile, a flood alert remains in place across the Borders because of the constant rain.\\nPeebles was badly hit by problems, sparking calls to introduce more defences in the area.\\nScottish Borders Council has put a list on its website of the roads worst affected and drivers have been urged not to ignore closure signs.\\nThe Labour Party\\'s deputy Scottish leader Alex Rowley was in Hawick on Monday to see the situation first hand.\\nHe said it was important to get the flood protection plan right but backed calls to speed up the process.\\n\"I was quite taken aback by the amount of damage that has been done,\" he said.\\n\"Obviously it is heart-breaking for people who have been forced out of their homes and the impact on businesses.\"\\nHe said it was important that \"immediate steps\" were taken to protect the areas most vulnerable and a clear timetable put in place for flood prevention plans.\\nHave you been affected by flooding in Dumfries and Galloway or the Borders? Tell us about your experience of the situation and how it was handled. Email us on selkirk.news@bbc.co.uk or dumfries@bbc.co.uk.'\n",
        "if 't5' in model_checkpoint: \n",
        "    document = \"summarize: \" + document\n",
        "tokenized = tokenizer([document], return_tensors='np')\n",
        "out = model.generate(**tokenized, max_length=128)"
      ],
      "metadata": {
        "id": "CJN_0lgdFtXS",
        "outputId": "612e4be4-ea94-4a0a-a472-337323941ee3",
        "colab": {
          "base_uri": "https://localhost:8080/",
          "height": 17
        }
      },
      "execution_count": 47,
      "outputs": [
        {
          "output_type": "display_data",
          "data": {
            "text/plain": [
              "<IPython.core.display.HTML object>"
            ],
            "text/html": [
              "\n",
              "  <style>\n",
              "    pre {\n",
              "        white-space: pre-wrap;\n",
              "    }\n",
              "  </style>\n",
              "  "
            ]
          },
          "metadata": {}
        }
      ]
    },
    {
      "cell_type": "code",
      "source": [
        "with tokenizer.as_target_tokenizer():\n",
        "    print(tokenizer.decode(out[0]))"
      ],
      "metadata": {
        "id": "CM3lfnRgGMvz",
        "outputId": "f38a6222-e6df-4ffa-ce2a-ad2978a8aae7",
        "colab": {
          "base_uri": "https://localhost:8080/",
          "height": 191
        }
      },
      "execution_count": 48,
      "outputs": [
        {
          "output_type": "display_data",
          "data": {
            "text/plain": [
              "<IPython.core.display.HTML object>"
            ],
            "text/html": [
              "\n",
              "  <style>\n",
              "    pre {\n",
              "        white-space: pre-wrap;\n",
              "    }\n",
              "  </style>\n",
              "  "
            ]
          },
          "metadata": {}
        },
        {
          "output_type": "stream",
          "name": "stdout",
          "text": [
            "</s><s>Arsenal beat Manchester United 2-1 in the FA Cup on Monday night.\n",
            "Danny Welbeck scored the only goal as United were held to a goalless draw.\n",
            "Arsenal will face Reading or Bradford City in the last four.\n",
            "Louis van Gaal's side will now be without a trophy in his first season.</s><pad><pad><pad><pad><pad><pad><pad><pad><pad><pad><pad><pad><pad><pad><pad><pad><pad><pad><pad><pad><pad><pad><pad><pad><pad><pad><pad><pad><pad><pad><pad><pad><pad><pad><pad><pad><pad><pad><pad><pad><pad><pad><pad><pad><pad><pad><pad><pad><pad><pad><pad><pad><pad><pad><pad><pad><pad><pad><pad><pad><pad>\n"
          ]
        },
        {
          "output_type": "stream",
          "name": "stderr",
          "text": [
            "/usr/local/lib/python3.8/dist-packages/transformers/tokenization_utils_base.py:3546: UserWarning: `as_target_tokenizer` is deprecated and will be removed in v5 of Transformers. You can tokenize your labels by using the argument `text_target` of the regular `__call__` method (either in the same call as your input texts if you use the same keyword arguments, or in a separate call.\n",
            "  warnings.warn(\n"
          ]
        }
      ]
    },
    {
      "cell_type": "code",
      "source": [
        "model_original = TFAutoModelForSeq2SeqLM.from_pretrained(model_checkpoint, from_pt=True)"
      ],
      "metadata": {
        "id": "ivAVlhMcpXZY",
        "outputId": "8af6479d-ec24-4732-ed30-b01250e85e67",
        "colab": {
          "base_uri": "https://localhost:8080/",
          "height": 173
        }
      },
      "execution_count": 49,
      "outputs": [
        {
          "output_type": "display_data",
          "data": {
            "text/plain": [
              "<IPython.core.display.HTML object>"
            ],
            "text/html": [
              "\n",
              "  <style>\n",
              "    pre {\n",
              "        white-space: pre-wrap;\n",
              "    }\n",
              "  </style>\n",
              "  "
            ]
          },
          "metadata": {}
        },
        {
          "output_type": "stream",
          "name": "stderr",
          "text": [
            "Some weights of the PyTorch model were not used when initializing the TF 2.0 model TFBartForConditionalGeneration: ['model.encoder.embed_tokens.weight', 'model.decoder.embed_tokens.weight']\n",
            "- This IS expected if you are initializing TFBartForConditionalGeneration from a PyTorch model trained on another task or with another architecture (e.g. initializing a TFBertForSequenceClassification model from a BertForPreTraining model).\n",
            "- This IS NOT expected if you are initializing TFBartForConditionalGeneration from a PyTorch model that you expect to be exactly identical (e.g. initializing a TFBertForSequenceClassification model from a BertForSequenceClassification model).\n",
            "All the weights of TFBartForConditionalGeneration were initialized from the PyTorch model.\n",
            "If your task is similar to the task the model of the checkpoint was trained on, you can already use TFBartForConditionalGeneration for predictions without further training.\n"
          ]
        }
      ]
    },
    {
      "cell_type": "code",
      "source": [
        "out_original = model_original.generate(**tokenized, max_length=128)\n"
      ],
      "metadata": {
        "id": "-E86YdNLpmJU",
        "outputId": "15c900c1-0520-406f-86f5-394961b9e19c",
        "colab": {
          "base_uri": "https://localhost:8080/",
          "height": 17
        }
      },
      "execution_count": 50,
      "outputs": [
        {
          "output_type": "display_data",
          "data": {
            "text/plain": [
              "<IPython.core.display.HTML object>"
            ],
            "text/html": [
              "\n",
              "  <style>\n",
              "    pre {\n",
              "        white-space: pre-wrap;\n",
              "    }\n",
              "  </style>\n",
              "  "
            ]
          },
          "metadata": {}
        }
      ]
    },
    {
      "cell_type": "code",
      "source": [
        "with tokenizer.as_target_tokenizer():\n",
        "    print(tokenizer.decode(out_original[0]))"
      ],
      "metadata": {
        "id": "CZfmUiLYqTME",
        "outputId": "578713b9-0598-4f9c-fd7a-cbde51e48cad",
        "colab": {
          "base_uri": "https://localhost:8080/",
          "height": 104
        }
      },
      "execution_count": 51,
      "outputs": [
        {
          "output_type": "display_data",
          "data": {
            "text/plain": [
              "<IPython.core.display.HTML object>"
            ],
            "text/html": [
              "\n",
              "  <style>\n",
              "    pre {\n",
              "        white-space: pre-wrap;\n",
              "    }\n",
              "  </style>\n",
              "  "
            ]
          },
          "metadata": {}
        },
        {
          "output_type": "stream",
          "name": "stdout",
          "text": [
            "</s><s> Arsenal beat Manchester United 2-1 in FA Cup semifinal at Old Trafford. Danny Welbeck scores winner to send holders Arsenal into last four. Angel Di Maria sent off for Man Utd after manhandling referee Michael Oliver. Manchester United without trophy in first season in charge of Louis van Gaal.</s><pad><pad><pad><pad><pad><pad><pad><pad><pad><pad><pad><pad><pad><pad><pad><pad><pad><pad><pad><pad><pad><pad><pad><pad><pad><pad><pad><pad><pad><pad><pad><pad><pad><pad><pad><pad><pad><pad><pad><pad><pad><pad><pad><pad><pad><pad><pad><pad><pad><pad><pad><pad><pad><pad><pad><pad><pad><pad><pad><pad><pad><pad><pad><pad><pad>\n"
          ]
        }
      ]
    },
    {
      "cell_type": "code",
      "source": [
        "from IPython.display import HTML, display\n",
        "\n",
        "def set_css():\n",
        "  display(HTML('''\n",
        "  <style>\n",
        "    pre {\n",
        "        white-space: pre-wrap;\n",
        "    }\n",
        "  </style>\n",
        "  '''))\n",
        "get_ipython().events.register('pre_run_cell', set_css)"
      ],
      "metadata": {
        "id": "czO52q8FpxSm"
      },
      "execution_count": 38,
      "outputs": []
    },
    {
      "cell_type": "code",
      "source": [],
      "metadata": {
        "id": "Q-PuD0XiqMui"
      },
      "execution_count": null,
      "outputs": []
    }
  ]
}