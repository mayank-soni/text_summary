{
 "cells": [
  {
   "cell_type": "code",
   "execution_count": 3,
   "metadata": {},
   "outputs": [
    {
     "name": "stdout",
     "output_type": "stream",
     "text": [
      "Requirement already satisfied: fastapi in /home/jessicasai/.pyenv/versions/3.8.12/envs/text_summary/lib/python3.8/site-packages (0.87.0)\n",
      "Requirement already satisfied: pydantic!=1.7,!=1.7.1,!=1.7.2,!=1.7.3,!=1.8,!=1.8.1,<2.0.0,>=1.6.2 in /home/jessicasai/.pyenv/versions/3.8.12/envs/text_summary/lib/python3.8/site-packages (from fastapi) (1.10.2)\n",
      "Requirement already satisfied: starlette==0.21.0 in /home/jessicasai/.pyenv/versions/3.8.12/envs/text_summary/lib/python3.8/site-packages (from fastapi) (0.21.0)\n",
      "Requirement already satisfied: anyio<5,>=3.4.0 in /home/jessicasai/.pyenv/versions/3.8.12/envs/text_summary/lib/python3.8/site-packages (from starlette==0.21.0->fastapi) (3.6.2)\n",
      "Requirement already satisfied: typing-extensions>=3.10.0 in /home/jessicasai/.pyenv/versions/3.8.12/envs/text_summary/lib/python3.8/site-packages (from starlette==0.21.0->fastapi) (4.4.0)\n",
      "Requirement already satisfied: sniffio>=1.1 in /home/jessicasai/.pyenv/versions/3.8.12/envs/text_summary/lib/python3.8/site-packages (from anyio<5,>=3.4.0->starlette==0.21.0->fastapi) (1.3.0)\n",
      "Requirement already satisfied: idna>=2.8 in /home/jessicasai/.pyenv/versions/3.8.12/envs/text_summary/lib/python3.8/site-packages (from anyio<5,>=3.4.0->starlette==0.21.0->fastapi) (3.4)\n"
     ]
    }
   ],
   "source": [
    "!pip install fastapi"
   ]
  },
  {
   "cell_type": "code",
   "execution_count": 4,
   "metadata": {},
   "outputs": [
    {
     "name": "stdout",
     "output_type": "stream",
     "text": [
      "Requirement already satisfied: uvicorn in /home/jessicasai/.pyenv/versions/3.8.12/envs/text_summary/lib/python3.8/site-packages (0.20.0)\n",
      "Requirement already satisfied: h11>=0.8 in /home/jessicasai/.pyenv/versions/3.8.12/envs/text_summary/lib/python3.8/site-packages (from uvicorn) (0.14.0)\n",
      "Requirement already satisfied: click>=7.0 in /home/jessicasai/.pyenv/versions/3.8.12/envs/text_summary/lib/python3.8/site-packages (from uvicorn) (8.1.3)\n"
     ]
    }
   ],
   "source": [
    "!pip install uvicorn"
   ]
  },
  {
   "cell_type": "code",
   "execution_count": 5,
   "metadata": {},
   "outputs": [],
   "source": [
    "from fastapi import FastAPI\n",
    "app = FastAPI()\n",
    "\n",
    "@app.get(\"/\")\n",
    "def read_root():\n",
    "    return {\"Hello\": \"World\"}"
   ]
  },
  {
   "cell_type": "code",
   "execution_count": null,
   "metadata": {},
   "outputs": [],
   "source": [
    "from datetime import date\n",
    "@app.get(\"/news/{news_article}\")\n",
    "def read_news(category: str, language: str, date: date.isoformat()):\n",
    "    return {\"category\": category, \"language\": language, \"from\": date}"
   ]
  }
 ],
 "metadata": {
  "kernelspec": {
   "display_name": "Python 3.8.12 64-bit ('text_summary')",
   "language": "python",
   "name": "python3"
  },
  "language_info": {
   "codemirror_mode": {
    "name": "ipython",
    "version": 3
   },
   "file_extension": ".py",
   "mimetype": "text/x-python",
   "name": "python",
   "nbconvert_exporter": "python",
   "pygments_lexer": "ipython3",
   "version": "3.8.12"
  },
  "orig_nbformat": 4,
  "vscode": {
   "interpreter": {
    "hash": "06231adb3ccb7a7e657020f2c3835aa010ddbf146d92923f9508b0965f8ae110"
   }
  }
 },
 "nbformat": 4,
 "nbformat_minor": 2
}
